{
 "cells": [
  {
   "cell_type": "code",
   "execution_count": 1,
   "id": "653b7735",
   "metadata": {
    "execution": {
     "iopub.execute_input": "2024-10-21T19:35:40.549432Z",
     "iopub.status.busy": "2024-10-21T19:35:40.549045Z",
     "iopub.status.idle": "2024-10-21T19:36:01.350969Z",
     "shell.execute_reply": "2024-10-21T19:36:01.349727Z"
    },
    "id": "aiiMxW4BG-DP",
    "papermill": {
     "duration": 20.817848,
     "end_time": "2024-10-21T19:36:01.354103",
     "exception": false,
     "start_time": "2024-10-21T19:35:40.536255",
     "status": "completed"
    },
    "tags": []
   },
   "outputs": [
    {
     "name": "stderr",
     "output_type": "stream",
     "text": [
      "2024-10-21 19:35:45.527420: E external/local_xla/xla/stream_executor/cuda/cuda_dnn.cc:9261] Unable to register cuDNN factory: Attempting to register factory for plugin cuDNN when one has already been registered\n",
      "2024-10-21 19:35:45.527576: E external/local_xla/xla/stream_executor/cuda/cuda_fft.cc:607] Unable to register cuFFT factory: Attempting to register factory for plugin cuFFT when one has already been registered\n",
      "2024-10-21 19:35:45.685840: E external/local_xla/xla/stream_executor/cuda/cuda_blas.cc:1515] Unable to register cuBLAS factory: Attempting to register factory for plugin cuBLAS when one has already been registered\n"
     ]
    }
   ],
   "source": [
    "import numpy as np\n",
    "import pandas as pd\n",
    "import matplotlib.pyplot as plt\n",
    "from sklearn.preprocessing import MinMaxScaler\n",
    "from sklearn.metrics import mean_squared_error, mean_absolute_percentage_error, r2_score\n",
    "from tensorflow.keras.models import Sequential\n",
    "from tensorflow.keras.layers import LSTM, Dense,Dropout\n",
    "import tensorflow as tf\n",
    "import random\n",
    "from sklearn.model_selection import TimeSeriesSplit\n",
    "import statsmodels.api as sm\n",
    "\n",
    "import xgboost as xgb\n",
    "from sklearn.model_selection import train_test_split\n",
    "import matplotlib.pyplot as plt\n",
    "import seaborn as sns\n",
    "from sklearn.model_selection import GridSearchCV\n",
    "from sklearn.metrics import r2_score\n",
    "\n",
    "import lightgbm\n",
    "from sklearn.neural_network import MLPRegressor\n",
    "from sklearn.svm import SVR\n",
    "from lightgbm import early_stopping "
   ]
  },
  {
   "cell_type": "code",
   "execution_count": 2,
   "id": "b846205a",
   "metadata": {
    "execution": {
     "iopub.execute_input": "2024-10-21T19:36:01.378152Z",
     "iopub.status.busy": "2024-10-21T19:36:01.377379Z",
     "iopub.status.idle": "2024-10-21T19:36:01.415640Z",
     "shell.execute_reply": "2024-10-21T19:36:01.414402Z"
    },
    "papermill": {
     "duration": 0.053406,
     "end_time": "2024-10-21T19:36:01.418791",
     "exception": false,
     "start_time": "2024-10-21T19:36:01.365385",
     "status": "completed"
    },
    "tags": []
   },
   "outputs": [
    {
     "name": "stdout",
     "output_type": "stream",
     "text": [
      "/kaggle/input/feature-engineering/__results__.html\n",
      "/kaggle/input/feature-engineering/__notebook__.ipynb\n",
      "/kaggle/input/feature-engineering/__output__.json\n",
      "/kaggle/input/feature-engineering/finaldatset.csv\n",
      "/kaggle/input/feature-engineering/custom.css\n",
      "/kaggle/input/climate-indeices/ONI.xlsx\n",
      "/kaggle/input/climate-indeices/ENSO.xlsx\n",
      "/kaggle/input/climate-indeices/AMO.xlsx\n",
      "/kaggle/input/climate-indeices/NAO.xlsx\n",
      "/kaggle/input/climate-indeices/SOI.xlsx\n",
      "/kaggle/input/d/homaabedinzadeh/holidayname/holidayname.csv\n",
      "/kaggle/input/d/homaabedinzadeh/futuredays/90days.csv\n",
      "/kaggle/input/amirkabirdam/holiday.csv\n",
      "/kaggle/input/amirkabirdam/dam12.csv\n"
     ]
    }
   ],
   "source": [
    "import os\n",
    "for dirname, _, filenames in os.walk('/kaggle/input'):\n",
    "    for filename in filenames:\n",
    "        print(os.path.join(dirname, filename))"
   ]
  },
  {
   "cell_type": "code",
   "execution_count": 3,
   "id": "573d582c",
   "metadata": {
    "execution": {
     "iopub.execute_input": "2024-10-21T19:36:01.442537Z",
     "iopub.status.busy": "2024-10-21T19:36:01.442112Z",
     "iopub.status.idle": "2024-10-21T19:36:01.447875Z",
     "shell.execute_reply": "2024-10-21T19:36:01.446530Z"
    },
    "papermill": {
     "duration": 0.020803,
     "end_time": "2024-10-21T19:36:01.450431",
     "exception": false,
     "start_time": "2024-10-21T19:36:01.429628",
     "status": "completed"
    },
    "tags": []
   },
   "outputs": [],
   "source": [
    "pd.set_option('display.max_columns', None)\n",
    "pd.set_option('display.max_rows', None)"
   ]
  },
  {
   "cell_type": "code",
   "execution_count": 4,
   "id": "c484b4fe",
   "metadata": {
    "execution": {
     "iopub.execute_input": "2024-10-21T19:36:01.473870Z",
     "iopub.status.busy": "2024-10-21T19:36:01.473480Z",
     "iopub.status.idle": "2024-10-21T19:36:07.469586Z",
     "shell.execute_reply": "2024-10-21T19:36:07.468221Z"
    },
    "executionInfo": {
     "elapsed": 459,
     "status": "ok",
     "timestamp": 1725614061565,
     "user": {
      "displayName": "Mohsen Yazdinejad",
      "userId": "00188286051626590191"
     },
     "user_tz": -210
    },
    "id": "miFvtwBvG-DR",
    "outputId": "2791eec4-02cc-40e2-979a-6858214ab3a0",
    "papermill": {
     "duration": 6.011214,
     "end_time": "2024-10-21T19:36:07.472615",
     "exception": false,
     "start_time": "2024-10-21T19:36:01.461401",
     "status": "completed"
    },
    "tags": []
   },
   "outputs": [],
   "source": [
    "df = pd.read_csv('/kaggle/input/feature-engineering/finaldatset.csv')\n"
   ]
  },
  {
   "cell_type": "code",
   "execution_count": 5,
   "id": "347edd28",
   "metadata": {
    "execution": {
     "iopub.execute_input": "2024-10-21T19:36:07.496173Z",
     "iopub.status.busy": "2024-10-21T19:36:07.495798Z",
     "iopub.status.idle": "2024-10-21T19:36:07.556850Z",
     "shell.execute_reply": "2024-10-21T19:36:07.555691Z"
    },
    "papermill": {
     "duration": 0.076159,
     "end_time": "2024-10-21T19:36:07.559792",
     "exception": false,
     "start_time": "2024-10-21T19:36:07.483633",
     "status": "completed"
    },
    "tags": []
   },
   "outputs": [],
   "source": [
    "df.drop('DateRow', inplace=True , axis=1)"
   ]
  },
  {
   "cell_type": "code",
   "execution_count": 6,
   "id": "2234c4ac",
   "metadata": {
    "execution": {
     "iopub.execute_input": "2024-10-21T19:36:07.583108Z",
     "iopub.status.busy": "2024-10-21T19:36:07.582689Z",
     "iopub.status.idle": "2024-10-21T19:36:07.591204Z",
     "shell.execute_reply": "2024-10-21T19:36:07.590211Z"
    },
    "papermill": {
     "duration": 0.022893,
     "end_time": "2024-10-21T19:36:07.593522",
     "exception": false,
     "start_time": "2024-10-21T19:36:07.570629",
     "status": "completed"
    },
    "tags": []
   },
   "outputs": [
    {
     "data": {
      "text/plain": [
       "Index(['soi_shift_1', 'soi_shiftdiv_1', 'soi_shift_3', 'soi_shiftdiv_3',\n",
       "       'soi_shift_6', 'soi_shiftdiv_6', 'soi_shift_9', 'soi_shiftdiv_9',\n",
       "       'soi_shift_12', 'soi_shiftdiv_12',\n",
       "       ...\n",
       "       'NamNesbi12_5', 'NamNesbi18_5', 'Total_in', 'day_of_week',\n",
       "       'day_of_year', 'year_water', 'BYear', 'TYear', 'sumbeforeyear',\n",
       "       'std_TotalAbBarfVBaran_in'],\n",
       "      dtype='object', length=2029)"
      ]
     },
     "execution_count": 6,
     "metadata": {},
     "output_type": "execute_result"
    }
   ],
   "source": [
    "df.columns"
   ]
  },
  {
   "cell_type": "code",
   "execution_count": 7,
   "id": "0cd8b668",
   "metadata": {
    "execution": {
     "iopub.execute_input": "2024-10-21T19:36:07.617413Z",
     "iopub.status.busy": "2024-10-21T19:36:07.616971Z",
     "iopub.status.idle": "2024-10-21T19:36:07.622096Z",
     "shell.execute_reply": "2024-10-21T19:36:07.621048Z"
    },
    "papermill": {
     "duration": 0.020084,
     "end_time": "2024-10-21T19:36:07.624778",
     "exception": false,
     "start_time": "2024-10-21T19:36:07.604694",
     "status": "completed"
    },
    "tags": []
   },
   "outputs": [],
   "source": [
    "horizon=-15"
   ]
  },
  {
   "cell_type": "code",
   "execution_count": 8,
   "id": "723e779c",
   "metadata": {
    "execution": {
     "iopub.execute_input": "2024-10-21T19:36:07.649356Z",
     "iopub.status.busy": "2024-10-21T19:36:07.648936Z",
     "iopub.status.idle": "2024-10-21T19:36:07.656623Z",
     "shell.execute_reply": "2024-10-21T19:36:07.655423Z"
    },
    "id": "hcVAWHdkXj-Y",
    "papermill": {
     "duration": 0.022443,
     "end_time": "2024-10-21T19:36:07.659247",
     "exception": false,
     "start_time": "2024-10-21T19:36:07.636804",
     "status": "completed"
    },
    "tags": []
   },
   "outputs": [],
   "source": [
    "target = df['Total_in'].shift(horizon)\n",
    "\n",
    "target.dropna(inplace=True)"
   ]
  },
  {
   "cell_type": "code",
   "execution_count": 9,
   "id": "b3bd2b2e",
   "metadata": {
    "execution": {
     "iopub.execute_input": "2024-10-21T19:36:07.682858Z",
     "iopub.status.busy": "2024-10-21T19:36:07.682426Z",
     "iopub.status.idle": "2024-10-21T19:36:07.688214Z",
     "shell.execute_reply": "2024-10-21T19:36:07.686800Z"
    },
    "papermill": {
     "duration": 0.020815,
     "end_time": "2024-10-21T19:36:07.691010",
     "exception": false,
     "start_time": "2024-10-21T19:36:07.670195",
     "status": "completed"
    },
    "tags": []
   },
   "outputs": [],
   "source": [
    "y=target\n",
    "\n",
    "x = df[:horizon]\n",
    "#. drop(target,axis=1)"
   ]
  },
  {
   "cell_type": "code",
   "execution_count": 10,
   "id": "cad6b906",
   "metadata": {
    "execution": {
     "iopub.execute_input": "2024-10-21T19:36:07.717695Z",
     "iopub.status.busy": "2024-10-21T19:36:07.717278Z",
     "iopub.status.idle": "2024-10-21T19:36:07.725276Z",
     "shell.execute_reply": "2024-10-21T19:36:07.723657Z"
    },
    "papermill": {
     "duration": 0.028115,
     "end_time": "2024-10-21T19:36:07.730161",
     "exception": false,
     "start_time": "2024-10-21T19:36:07.702046",
     "status": "completed"
    },
    "tags": []
   },
   "outputs": [
    {
     "data": {
      "text/plain": [
       "(8020, 2029)"
      ]
     },
     "execution_count": 10,
     "metadata": {},
     "output_type": "execute_result"
    }
   ],
   "source": [
    "x.shape"
   ]
  },
  {
   "cell_type": "code",
   "execution_count": 11,
   "id": "83f21f3b",
   "metadata": {
    "execution": {
     "iopub.execute_input": "2024-10-21T19:36:07.760935Z",
     "iopub.status.busy": "2024-10-21T19:36:07.759807Z",
     "iopub.status.idle": "2024-10-21T19:36:07.768965Z",
     "shell.execute_reply": "2024-10-21T19:36:07.767879Z"
    },
    "papermill": {
     "duration": 0.025471,
     "end_time": "2024-10-21T19:36:07.771657",
     "exception": false,
     "start_time": "2024-10-21T19:36:07.746186",
     "status": "completed"
    },
    "tags": []
   },
   "outputs": [
    {
     "data": {
      "text/plain": [
       "8020"
      ]
     },
     "execution_count": 11,
     "metadata": {},
     "output_type": "execute_result"
    }
   ],
   "source": [
    "len(y)"
   ]
  },
  {
   "cell_type": "code",
   "execution_count": 12,
   "id": "1e660ea3",
   "metadata": {
    "execution": {
     "iopub.execute_input": "2024-10-21T19:36:07.798902Z",
     "iopub.status.busy": "2024-10-21T19:36:07.798507Z",
     "iopub.status.idle": "2024-10-21T19:36:08.388215Z",
     "shell.execute_reply": "2024-10-21T19:36:08.387161Z"
    },
    "papermill": {
     "duration": 0.606211,
     "end_time": "2024-10-21T19:36:08.391402",
     "exception": false,
     "start_time": "2024-10-21T19:36:07.785191",
     "status": "completed"
    },
    "tags": []
   },
   "outputs": [
    {
     "name": "stderr",
     "output_type": "stream",
     "text": [
      "/tmp/ipykernel_17/781971186.py:1: SettingWithCopyWarning: \n",
      "A value is trying to be set on a copy of a slice from a DataFrame\n",
      "\n",
      "See the caveats in the documentation: https://pandas.pydata.org/pandas-docs/stable/user_guide/indexing.html#returning-a-view-versus-a-copy\n",
      "  x.replace([np.inf, -np.inf], np.nan, inplace=True)\n",
      "/tmp/ipykernel_17/781971186.py:2: SettingWithCopyWarning: \n",
      "A value is trying to be set on a copy of a slice from a DataFrame\n",
      "\n",
      "See the caveats in the documentation: https://pandas.pydata.org/pandas-docs/stable/user_guide/indexing.html#returning-a-view-versus-a-copy\n",
      "  x.fillna(0, inplace=True)\n"
     ]
    }
   ],
   "source": [
    "x.replace([np.inf, -np.inf], np.nan, inplace=True)\n",
    "x.fillna(0, inplace=True)"
   ]
  },
  {
   "cell_type": "code",
   "execution_count": 13,
   "id": "a8ab71a8",
   "metadata": {
    "execution": {
     "iopub.execute_input": "2024-10-21T19:36:08.416267Z",
     "iopub.status.busy": "2024-10-21T19:36:08.415801Z",
     "iopub.status.idle": "2024-10-21T19:36:08.422891Z",
     "shell.execute_reply": "2024-10-21T19:36:08.421782Z"
    },
    "papermill": {
     "duration": 0.022434,
     "end_time": "2024-10-21T19:36:08.425365",
     "exception": false,
     "start_time": "2024-10-21T19:36:08.402931",
     "status": "completed"
    },
    "tags": []
   },
   "outputs": [
    {
     "data": {
      "text/plain": [
       "(8020, 2029)"
      ]
     },
     "execution_count": 13,
     "metadata": {},
     "output_type": "execute_result"
    }
   ],
   "source": [
    "x.shape"
   ]
  },
  {
   "cell_type": "code",
   "execution_count": 14,
   "id": "117450e5",
   "metadata": {
    "collapsed": true,
    "execution": {
     "iopub.execute_input": "2024-10-21T19:36:08.450768Z",
     "iopub.status.busy": "2024-10-21T19:36:08.450366Z",
     "iopub.status.idle": "2024-10-21T20:26:04.902236Z",
     "shell.execute_reply": "2024-10-21T20:26:04.901346Z"
    },
    "jupyter": {
     "outputs_hidden": true
    },
    "papermill": {
     "duration": 2996.480991,
     "end_time": "2024-10-21T20:26:04.918210",
     "exception": false,
     "start_time": "2024-10-21T19:36:08.437219",
     "status": "completed"
    },
    "tags": []
   },
   "outputs": [
    {
     "name": "stdout",
     "output_type": "stream",
     "text": [
      "rmsetrain: 0.027280874693244306 rmsetest 0.31477480866684315\n",
      "r2train: 0.9987383014826184 r2test: 0.8041694060420153\n",
      "mapetest: 0.03227428939311853\n"
     ]
    }
   ],
   "source": [
    "tscv = TimeSeriesSplit(n_splits = 10)\n",
    "test_rmse = []\n",
    "train_rmse= []\n",
    "test_r2 = []\n",
    "train_r2=[]\n",
    "test_mape=[]\n",
    "i=0\n",
    "for train_index, test_index in tscv.split(x):\n",
    "    i+=1\n",
    "    X_train, X_test = x.iloc[train_index], x.iloc[test_index]\n",
    "    Y_train, Y_test = y.iloc[train_index], y.iloc[test_index]\n",
    "    if i>=6:\n",
    "        \n",
    "        model = xgb.XGBRegressor(n_estimators=440, learning_rate=0.01,  max_depth= 12 ,colsample_bytree= 0.6,  n_jobs=4)\n",
    "        \n",
    "        model.fit(X_train,Y_train)\n",
    "\n",
    "    # Predictions\n",
    "        test_predict = model.predict(X_test)\n",
    "        train_predict = model.predict(X_train)\n",
    "        \n",
    "        test_rmse.append ( np.sqrt(mean_squared_error(Y_test, test_predict)))\n",
    "        train_rmse.append ( np.sqrt(mean_squared_error(Y_train, train_predict)))\n",
    "       \n",
    "        test_mape.append (mean_absolute_percentage_error(Y_test, test_predict))\n",
    "        \n",
    "        test_r2 .append ( r2_score(Y_test, test_predict))\n",
    "        train_r2 .append ( r2_score(Y_train, train_predict))\n",
    "        \n",
    "print(\"rmsetrain:\",np.mean(train_rmse),\"rmsetest\",np.mean(test_rmse))\n",
    "print (\"r2train:\",np.mean(train_r2),'r2test:',np.mean(test_r2) )\n",
    "\n",
    "print ('mapetest:',np.mean(test_mape))\n",
    "\n",
    "\n"
   ]
  },
  {
   "cell_type": "code",
   "execution_count": 15,
   "id": "571f4901",
   "metadata": {
    "execution": {
     "iopub.execute_input": "2024-10-21T20:26:04.943168Z",
     "iopub.status.busy": "2024-10-21T20:26:04.942768Z",
     "iopub.status.idle": "2024-10-21T20:26:04.948567Z",
     "shell.execute_reply": "2024-10-21T20:26:04.947520Z"
    },
    "papermill": {
     "duration": 0.021985,
     "end_time": "2024-10-21T20:26:04.951781",
     "exception": false,
     "start_time": "2024-10-21T20:26:04.929796",
     "status": "completed"
    },
    "tags": []
   },
   "outputs": [
    {
     "name": "stdout",
     "output_type": "stream",
     "text": [
      "MAPE: 3.23%\n"
     ]
    }
   ],
   "source": [
    "mape_value=np.mean(test_mape)* 100\n",
    "print(f\"MAPE: {mape_value:.2f}%\")"
   ]
  },
  {
   "cell_type": "markdown",
   "id": "f016f64f",
   "metadata": {
    "papermill": {
     "duration": 0.011322,
     "end_time": "2024-10-21T20:26:04.974724",
     "exception": false,
     "start_time": "2024-10-21T20:26:04.963402",
     "status": "completed"
    },
    "tags": []
   },
   "source": [
    "440-90\n",
    "r2train: 0.9979125411025691 r2test: 0.4354462088639449\n",
    "\n",
    "# n_estimators=500, learning_rate=0.01,  max_depth= 11, colsample_bytree= 0.6\n",
    "rmsetrain: 0.03573009459518882 rmsetest 0.5030607598981425\n",
    "r2train: 0.9991428695186881 r2test: 0.4491554133701202\n",
    "\n",
    "\n",
    "\n",
    "# n_estimators=480, learning_rate=0.01,  max_depth= 11 ,colsample_bytree= 0.6,  n_jobs=4\n",
    "\n",
    "rmsetrain: 0.03963914254745377 rmsetest 0.5029176451344852\n",
    "r2train: 0.9989450739031536 r2test: 0.45082075663583954\n",
    "\n",
    "\n",
    "\n",
    "# n_estimators=450\n",
    "rmsetrain: 0.046570057069655904 rmsetest 0.5025503286744464\n",
    "r2train: 0.998544128647292 r2test: 0.45389920474630274"
   ]
  },
  {
   "cell_type": "markdown",
   "id": "9bce1c71",
   "metadata": {
    "execution": {
     "iopub.execute_input": "2024-10-11T10:26:29.009251Z",
     "iopub.status.busy": "2024-10-11T10:26:29.008364Z",
     "iopub.status.idle": "2024-10-11T10:26:37.333674Z",
     "shell.execute_reply": "2024-10-11T10:26:37.332795Z",
     "shell.execute_reply.started": "2024-10-11T10:26:29.009215Z"
    },
    "papermill": {
     "duration": 0.011369,
     "end_time": "2024-10-21T20:26:04.997926",
     "exception": false,
     "start_time": "2024-10-21T20:26:04.986557",
     "status": "completed"
    },
    "tags": []
   },
   "source": [
    "\n",
    "imp = pd.DataFrame({'Importance':model.feature_importances_,'Feature':x.columns})\n",
    "plt.figure(figsize=(8, 6))\n",
    "sns.set(font_scale = 1)\n",
    "sns.barplot(x=\"Importance\", y=\"Feature\", data=imp.sort_values(by=\"Importance\", ascending=False))\n",
    "plt.title('LightGBM Features')\n",
    "plt.tight_layout()\n",
    "plt.show()"
   ]
  },
  {
   "cell_type": "code",
   "execution_count": 16,
   "id": "cfb60142",
   "metadata": {
    "collapsed": true,
    "execution": {
     "iopub.execute_input": "2024-10-21T20:26:05.023247Z",
     "iopub.status.busy": "2024-10-21T20:26:05.022852Z",
     "iopub.status.idle": "2024-10-21T20:26:05.067884Z",
     "shell.execute_reply": "2024-10-21T20:26:05.066544Z"
    },
    "jupyter": {
     "outputs_hidden": true
    },
    "papermill": {
     "duration": 0.061337,
     "end_time": "2024-10-21T20:26:05.070741",
     "exception": false,
     "start_time": "2024-10-21T20:26:05.009404",
     "status": "completed"
    },
    "tags": []
   },
   "outputs": [
    {
     "data": {
      "text/html": [
       "<div>\n",
       "<style scoped>\n",
       "    .dataframe tbody tr th:only-of-type {\n",
       "        vertical-align: middle;\n",
       "    }\n",
       "\n",
       "    .dataframe tbody tr th {\n",
       "        vertical-align: top;\n",
       "    }\n",
       "\n",
       "    .dataframe thead th {\n",
       "        text-align: right;\n",
       "    }\n",
       "</style>\n",
       "<table border=\"1\" class=\"dataframe\">\n",
       "  <thead>\n",
       "    <tr style=\"text-align: right;\">\n",
       "      <th></th>\n",
       "      <th>Importance</th>\n",
       "      <th>Feature</th>\n",
       "    </tr>\n",
       "  </thead>\n",
       "  <tbody>\n",
       "    <tr>\n",
       "      <th>558</th>\n",
       "      <td>0.179399</td>\n",
       "      <td>MinDarajehararat_in_rollingsum_180</td>\n",
       "    </tr>\n",
       "    <tr>\n",
       "      <th>554</th>\n",
       "      <td>0.131573</td>\n",
       "      <td>MinDarajehararat_in_rollingmean_180</td>\n",
       "    </tr>\n",
       "    <tr>\n",
       "      <th>625</th>\n",
       "      <td>0.021484</td>\n",
       "      <td>MaxDarajehararat_in_rollingmax_180</td>\n",
       "    </tr>\n",
       "    <tr>\n",
       "      <th>1953</th>\n",
       "      <td>0.021064</td>\n",
       "      <td>Total_in_rollingmax_7</td>\n",
       "    </tr>\n",
       "    <tr>\n",
       "      <th>622</th>\n",
       "      <td>0.018174</td>\n",
       "      <td>MaxDarajehararat_in_rollingmean_180</td>\n",
       "    </tr>\n",
       "    <tr>\n",
       "      <th>2021</th>\n",
       "      <td>0.014265</td>\n",
       "      <td>Total_in</td>\n",
       "    </tr>\n",
       "    <tr>\n",
       "      <th>690</th>\n",
       "      <td>0.010154</td>\n",
       "      <td>Tabkhir_in_rollingmean_180</td>\n",
       "    </tr>\n",
       "    <tr>\n",
       "      <th>600</th>\n",
       "      <td>0.009643</td>\n",
       "      <td>MaxDarajehararat_in_rollingmin_30</td>\n",
       "    </tr>\n",
       "    <tr>\n",
       "      <th>299</th>\n",
       "      <td>0.009370</td>\n",
       "      <td>enso_rollingmax_5</td>\n",
       "    </tr>\n",
       "    <tr>\n",
       "      <th>291</th>\n",
       "      <td>0.009344</td>\n",
       "      <td>enso_rollingmax_4</td>\n",
       "    </tr>\n",
       "    <tr>\n",
       "      <th>292</th>\n",
       "      <td>0.008236</td>\n",
       "      <td>enso_rollingsum_4</td>\n",
       "    </tr>\n",
       "    <tr>\n",
       "      <th>1987</th>\n",
       "      <td>0.008153</td>\n",
       "      <td>Total_in_div_rollingmean_180</td>\n",
       "    </tr>\n",
       "    <tr>\n",
       "      <th>316</th>\n",
       "      <td>0.008065</td>\n",
       "      <td>enso_rollingsum_7</td>\n",
       "    </tr>\n",
       "    <tr>\n",
       "      <th>694</th>\n",
       "      <td>0.007966</td>\n",
       "      <td>Tabkhir_in_rollingsum_180</td>\n",
       "    </tr>\n",
       "    <tr>\n",
       "      <th>1507</th>\n",
       "      <td>0.006933</td>\n",
       "      <td>DarajeHararatKhosk18_5_rollingstd_180</td>\n",
       "    </tr>\n",
       "    <tr>\n",
       "      <th>626</th>\n",
       "      <td>0.006572</td>\n",
       "      <td>MaxDarajehararat_in_rollingsum_180</td>\n",
       "    </tr>\n",
       "    <tr>\n",
       "      <th>1930</th>\n",
       "      <td>0.006205</td>\n",
       "      <td>Total_in_shift_1</td>\n",
       "    </tr>\n",
       "    <tr>\n",
       "      <th>1577</th>\n",
       "      <td>0.006113</td>\n",
       "      <td>DarajeHararatTar6_5_rollingmax_180</td>\n",
       "    </tr>\n",
       "    <tr>\n",
       "      <th>315</th>\n",
       "      <td>0.005718</td>\n",
       "      <td>enso_rollingmax_7</td>\n",
       "    </tr>\n",
       "    <tr>\n",
       "      <th>143</th>\n",
       "      <td>0.004986</td>\n",
       "      <td>nao_rollingmax_8</td>\n",
       "    </tr>\n",
       "    <tr>\n",
       "      <th>151</th>\n",
       "      <td>0.004795</td>\n",
       "      <td>nao_rollingmax_9</td>\n",
       "    </tr>\n",
       "    <tr>\n",
       "      <th>135</th>\n",
       "      <td>0.004485</td>\n",
       "      <td>nao_rollingmax_7</td>\n",
       "    </tr>\n",
       "    <tr>\n",
       "      <th>234</th>\n",
       "      <td>0.004435</td>\n",
       "      <td>amo_rollingsum_8</td>\n",
       "    </tr>\n",
       "    <tr>\n",
       "      <th>532</th>\n",
       "      <td>0.004379</td>\n",
       "      <td>MinDarajehararat_in_rollingmin_30</td>\n",
       "    </tr>\n",
       "    <tr>\n",
       "      <th>216</th>\n",
       "      <td>0.004044</td>\n",
       "      <td>amo_rollingmin_6</td>\n",
       "    </tr>\n",
       "    <tr>\n",
       "      <th>307</th>\n",
       "      <td>0.003624</td>\n",
       "      <td>enso_rollingmax_6</td>\n",
       "    </tr>\n",
       "    <tr>\n",
       "      <th>355</th>\n",
       "      <td>0.003623</td>\n",
       "      <td>enso_rollingmax_12</td>\n",
       "    </tr>\n",
       "    <tr>\n",
       "      <th>195</th>\n",
       "      <td>0.003576</td>\n",
       "      <td>amo_div_rollingmean_3</td>\n",
       "    </tr>\n",
       "    <tr>\n",
       "      <th>365</th>\n",
       "      <td>0.003434</td>\n",
       "      <td>enso</td>\n",
       "    </tr>\n",
       "    <tr>\n",
       "      <th>497</th>\n",
       "      <td>0.003331</td>\n",
       "      <td>TotalAbBarfVBaran_in_rollingmax_365</td>\n",
       "    </tr>\n",
       "    <tr>\n",
       "      <th>1585</th>\n",
       "      <td>0.003244</td>\n",
       "      <td>DarajeHararatTar6_5_rollingmax_365</td>\n",
       "    </tr>\n",
       "    <tr>\n",
       "      <th>122</th>\n",
       "      <td>0.003180</td>\n",
       "      <td>nao_div_rollingstd_5</td>\n",
       "    </tr>\n",
       "    <tr>\n",
       "      <th>487</th>\n",
       "      <td>0.003160</td>\n",
       "      <td>TotalAbBarfVBaran_in_rollingstd_180</td>\n",
       "    </tr>\n",
       "    <tr>\n",
       "      <th>261</th>\n",
       "      <td>0.003050</td>\n",
       "      <td>amo_div_rollingmax_11</td>\n",
       "    </tr>\n",
       "    <tr>\n",
       "      <th>352</th>\n",
       "      <td>0.003046</td>\n",
       "      <td>enso_rollingmean_12</td>\n",
       "    </tr>\n",
       "    <tr>\n",
       "      <th>119</th>\n",
       "      <td>0.003019</td>\n",
       "      <td>nao_rollingmax_5</td>\n",
       "    </tr>\n",
       "    <tr>\n",
       "      <th>339</th>\n",
       "      <td>0.002939</td>\n",
       "      <td>enso_rollingmax_10</td>\n",
       "    </tr>\n",
       "    <tr>\n",
       "      <th>2028</th>\n",
       "      <td>0.002838</td>\n",
       "      <td>std_TotalAbBarfVBaran_in</td>\n",
       "    </tr>\n",
       "    <tr>\n",
       "      <th>1993</th>\n",
       "      <td>0.002792</td>\n",
       "      <td>Total_in_rollingmax_365</td>\n",
       "    </tr>\n",
       "    <tr>\n",
       "      <th>769</th>\n",
       "      <td>0.002734</td>\n",
       "      <td>ShedatAftab_in_rollingmax_365</td>\n",
       "    </tr>\n",
       "    <tr>\n",
       "      <th>109</th>\n",
       "      <td>0.002568</td>\n",
       "      <td>nao_rollingstd_4</td>\n",
       "    </tr>\n",
       "    <tr>\n",
       "      <th>1441</th>\n",
       "      <td>0.002501</td>\n",
       "      <td>DarajeHararatKhosk12_5_rollingmax_180</td>\n",
       "    </tr>\n",
       "    <tr>\n",
       "      <th>1705</th>\n",
       "      <td>0.002454</td>\n",
       "      <td>DarajeHararatTar18_5_rollingmax_90</td>\n",
       "    </tr>\n",
       "    <tr>\n",
       "      <th>270</th>\n",
       "      <td>0.002430</td>\n",
       "      <td>enso_shift_1</td>\n",
       "    </tr>\n",
       "    <tr>\n",
       "      <th>701</th>\n",
       "      <td>0.002395</td>\n",
       "      <td>Tabkhir_in_rollingmax_365</td>\n",
       "    </tr>\n",
       "    <tr>\n",
       "      <th>1950</th>\n",
       "      <td>0.002315</td>\n",
       "      <td>Total_in_rollingmean_7</td>\n",
       "    </tr>\n",
       "    <tr>\n",
       "      <th>69</th>\n",
       "      <td>0.002307</td>\n",
       "      <td>soi_rollingmax_10</td>\n",
       "    </tr>\n",
       "    <tr>\n",
       "      <th>1983</th>\n",
       "      <td>0.002293</td>\n",
       "      <td>Total_in_rollingstd_180</td>\n",
       "    </tr>\n",
       "    <tr>\n",
       "      <th>229</th>\n",
       "      <td>0.002289</td>\n",
       "      <td>amo_div_rollingmax_7</td>\n",
       "    </tr>\n",
       "    <tr>\n",
       "      <th>766</th>\n",
       "      <td>0.002259</td>\n",
       "      <td>ShedatAftab_in_rollingmean_365</td>\n",
       "    </tr>\n",
       "  </tbody>\n",
       "</table>\n",
       "</div>"
      ],
      "text/plain": [
       "      Importance                                Feature\n",
       "558     0.179399     MinDarajehararat_in_rollingsum_180\n",
       "554     0.131573    MinDarajehararat_in_rollingmean_180\n",
       "625     0.021484     MaxDarajehararat_in_rollingmax_180\n",
       "1953    0.021064                  Total_in_rollingmax_7\n",
       "622     0.018174    MaxDarajehararat_in_rollingmean_180\n",
       "2021    0.014265                               Total_in\n",
       "690     0.010154             Tabkhir_in_rollingmean_180\n",
       "600     0.009643      MaxDarajehararat_in_rollingmin_30\n",
       "299     0.009370                      enso_rollingmax_5\n",
       "291     0.009344                      enso_rollingmax_4\n",
       "292     0.008236                      enso_rollingsum_4\n",
       "1987    0.008153           Total_in_div_rollingmean_180\n",
       "316     0.008065                      enso_rollingsum_7\n",
       "694     0.007966              Tabkhir_in_rollingsum_180\n",
       "1507    0.006933  DarajeHararatKhosk18_5_rollingstd_180\n",
       "626     0.006572     MaxDarajehararat_in_rollingsum_180\n",
       "1930    0.006205                       Total_in_shift_1\n",
       "1577    0.006113     DarajeHararatTar6_5_rollingmax_180\n",
       "315     0.005718                      enso_rollingmax_7\n",
       "143     0.004986                       nao_rollingmax_8\n",
       "151     0.004795                       nao_rollingmax_9\n",
       "135     0.004485                       nao_rollingmax_7\n",
       "234     0.004435                       amo_rollingsum_8\n",
       "532     0.004379      MinDarajehararat_in_rollingmin_30\n",
       "216     0.004044                       amo_rollingmin_6\n",
       "307     0.003624                      enso_rollingmax_6\n",
       "355     0.003623                     enso_rollingmax_12\n",
       "195     0.003576                  amo_div_rollingmean_3\n",
       "365     0.003434                                   enso\n",
       "497     0.003331    TotalAbBarfVBaran_in_rollingmax_365\n",
       "1585    0.003244     DarajeHararatTar6_5_rollingmax_365\n",
       "122     0.003180                   nao_div_rollingstd_5\n",
       "487     0.003160    TotalAbBarfVBaran_in_rollingstd_180\n",
       "261     0.003050                  amo_div_rollingmax_11\n",
       "352     0.003046                    enso_rollingmean_12\n",
       "119     0.003019                       nao_rollingmax_5\n",
       "339     0.002939                     enso_rollingmax_10\n",
       "2028    0.002838               std_TotalAbBarfVBaran_in\n",
       "1993    0.002792                Total_in_rollingmax_365\n",
       "769     0.002734          ShedatAftab_in_rollingmax_365\n",
       "109     0.002568                       nao_rollingstd_4\n",
       "1441    0.002501  DarajeHararatKhosk12_5_rollingmax_180\n",
       "1705    0.002454     DarajeHararatTar18_5_rollingmax_90\n",
       "270     0.002430                           enso_shift_1\n",
       "701     0.002395              Tabkhir_in_rollingmax_365\n",
       "1950    0.002315                 Total_in_rollingmean_7\n",
       "69      0.002307                      soi_rollingmax_10\n",
       "1983    0.002293                Total_in_rollingstd_180\n",
       "229     0.002289                   amo_div_rollingmax_7\n",
       "766     0.002259         ShedatAftab_in_rollingmean_365"
      ]
     },
     "execution_count": 16,
     "metadata": {},
     "output_type": "execute_result"
    }
   ],
   "source": [
    "\n",
    "imp = pd.DataFrame({'Importance':model.feature_importances_,'Feature':x.columns})\n",
    "fe=imp.sort_values(by='Importance',ascending=False).head(50)\n",
    "fe.head(50)"
   ]
  },
  {
   "cell_type": "code",
   "execution_count": 17,
   "id": "03254558",
   "metadata": {
    "execution": {
     "iopub.execute_input": "2024-10-21T20:26:05.180172Z",
     "iopub.status.busy": "2024-10-21T20:26:05.179735Z",
     "iopub.status.idle": "2024-10-21T20:29:31.371695Z",
     "shell.execute_reply": "2024-10-21T20:29:31.370523Z"
    },
    "papermill": {
     "duration": 206.306651,
     "end_time": "2024-10-21T20:29:31.389802",
     "exception": false,
     "start_time": "2024-10-21T20:26:05.083151",
     "status": "completed"
    },
    "tags": []
   },
   "outputs": [
    {
     "name": "stdout",
     "output_type": "stream",
     "text": [
      "0 399\n",
      "400 780\n",
      "0 780\n",
      "781 1161\n",
      "0 1161\n",
      "1162 1542\n",
      "0 1542\n",
      "1543 1923\n",
      "0 1923\n",
      "1924 2304\n",
      "0 2304\n",
      "2305 2685\n",
      "0 2685\n",
      "2686 3066\n",
      "0 3066\n",
      "3067 3447\n",
      "0 3447\n",
      "3448 3828\n",
      "0 3828\n",
      "3829 4209\n",
      "0 4209\n",
      "4210 4590\n",
      "0 4590\n",
      "4591 4971\n",
      "0 4971\n",
      "4972 5352\n",
      "Training until validation scores don't improve for 40 rounds\n",
      "Early stopping, best iteration is:\n",
      "[76]\tvalid_0's l2: 0.0734458\n",
      "rmse: 0.9619859538992503\n",
      "r2: 0.8036854918661696\n",
      "mape: 0.18860005116910017\n",
      "0 5352\n",
      "5353 5733\n",
      "Training until validation scores don't improve for 40 rounds\n",
      "Early stopping, best iteration is:\n",
      "[82]\tvalid_0's l2: 0.0775607\n",
      "rmse: 0.9209294181745512\n",
      "r2: 0.8600905115786601\n",
      "mape: 0.2632788231375462\n",
      "0 5733\n",
      "5734 6114\n",
      "Training until validation scores don't improve for 40 rounds\n",
      "Early stopping, best iteration is:\n",
      "[50]\tvalid_0's l2: 0.116002\n",
      "rmse: 0.6524896650125901\n",
      "r2: 0.7343605310204524\n",
      "mape: 0.3609771193656482\n",
      "0 6114\n",
      "6115 6495\n",
      "Training until validation scores don't improve for 40 rounds\n",
      "Early stopping, best iteration is:\n",
      "[42]\tvalid_0's l2: 0.123767\n",
      "rmse: 1.9798686692535088\n",
      "r2: 0.5985206631932678\n",
      "mape: 0.21962936552971282\n",
      "0 6495\n",
      "6496 6876\n",
      "Training until validation scores don't improve for 40 rounds\n",
      "Early stopping, best iteration is:\n",
      "[80]\tvalid_0's l2: 0.0576367\n",
      "rmse: 1.102641684962075\n",
      "r2: 0.8202764555934905\n",
      "mape: 0.17862647441768886\n",
      "0 6876\n",
      "6877 7257\n",
      "Training until validation scores don't improve for 40 rounds\n",
      "Early stopping, best iteration is:\n",
      "[39]\tvalid_0's l2: 0.0741003\n",
      "rmse: 0.6128586783515331\n",
      "r2: 0.790433119919274\n",
      "mape: 0.1948912454350128\n",
      "0 7257\n",
      "7258 7638\n",
      "Training until validation scores don't improve for 40 rounds\n",
      "Early stopping, best iteration is:\n",
      "[41]\tvalid_0's l2: 0.0388788\n",
      "rmse: 0.4716383125099682\n",
      "r2: 0.8280573255259193\n",
      "mape: 0.16246853612276008\n",
      "0 7638\n",
      "7639 8019\n",
      "Training until validation scores don't improve for 40 rounds\n",
      "Early stopping, best iteration is:\n",
      "[52]\tvalid_0's l2: 0.0654128\n",
      "rmse: 0.8428241132193024\n",
      "r2: 0.6477176160861056\n",
      "mape: 0.20993543221097732\n",
      "rmsetrain: 0.13109516010085745 rmsetest 0.2758911389548844\n",
      "r2train: 0.9701798831922392 r2test: 0.8494744120611502\n",
      "mapetest: 0.02743128670899326\n"
     ]
    },
    {
     "data": {
      "image/png": "[encoded data removed]",
      "text/plain": [
       "<Figure size 640x480 with 1 Axes>"
      ]
     },
     "metadata": {},
     "output_type": "display_data"
    }
   ],
   "source": [
    "tscv = TimeSeriesSplit(n_splits = 20)\n",
    "test_rmse = []\n",
    "train_rmse= []\n",
    "test_r2 = []\n",
    "train_r2=[]\n",
    "test_mape=[]\n",
    "i=0\n",
    "for train_index, test_index in tscv.split(x):\n",
    "    \n",
    "    i+=1\n",
    "    X_train, X_test = x.iloc[train_index], x.iloc[test_index]\n",
    "    Y_train, Y_test = y.iloc[train_index], y.iloc[test_index]\n",
    "    print (train_index.min(),train_index.max())\n",
    "    print (test_index.min(),test_index.max())\n",
    "    if i>=13:\n",
    "        lgb = lightgbm.LGBMRegressor( n_estimators=10000, num_leaves=31, learning_rate=0.07, colsample_bytree=0.85,verbose=0)\n",
    "\n",
    "        lgb.fit(X_train, Y_train,sample_weight=X_train['std_TotalAbBarfVBaran_in'], eval_set=(X_test,Y_test),callbacks=([early_stopping(stopping_rounds=40)]))\n",
    "\n",
    "        test_predict = lgb.predict(X_test, num_iteration=lgb.best_iteration_)\n",
    "        train_predict = lgb.predict(X_train, num_iteration=lgb.best_iteration_)\n",
    "\n",
    "        test_rmse.append ( np.sqrt(mean_squared_error(Y_test, test_predict)))\n",
    "        train_rmse.append ( np.sqrt(mean_squared_error(Y_train, train_predict)))\n",
    "\n",
    "        test_r2 .append ( r2_score(Y_test, test_predict))\n",
    "        train_r2 .append ( r2_score(Y_train, train_predict))\n",
    "        test_mape.append (mean_absolute_percentage_error(Y_test, test_predict))\n",
    "        Y_test= (np.exp(Y_test)-100)/1000\n",
    "        test_predict= (np.exp(test_predict)-100)/1000\n",
    "        plt.plot( X_test['Year'].astype(str) + X_test['month'].astype(str) ,Y_test, color='blue')\n",
    "        plt.plot( X_test['Year'].astype(str) + X_test['month'].astype(str) ,test_predict, color='red')\n",
    "        print ('rmse:',np.sqrt(mean_squared_error(Y_test, test_predict)))\n",
    "        print ('r2:', r2_score(Y_test, test_predict))\n",
    "        print ('mape:', mean_absolute_percentage_error(Y_test, test_predict))\n",
    "        #plt.show()\n",
    "print(\"rmsetrain:\",np.mean(train_rmse),\"rmsetest\",np.mean(test_rmse))\n",
    "print (\"r2train:\",np.mean(train_r2),'r2test:',np.mean(test_r2) )\n",
    "\n",
    "print ('mapetest:',np.mean(test_mape))\n",
    "\n"
   ]
  },
  {
   "cell_type": "code",
   "execution_count": 18,
   "id": "e17c529e",
   "metadata": {
    "execution": {
     "iopub.execute_input": "2024-10-21T20:29:31.423354Z",
     "iopub.status.busy": "2024-10-21T20:29:31.422367Z",
     "iopub.status.idle": "2024-10-21T20:29:31.440723Z",
     "shell.execute_reply": "2024-10-21T20:29:31.439574Z"
    },
    "papermill": {
     "duration": 0.037955,
     "end_time": "2024-10-21T20:29:31.443406",
     "exception": false,
     "start_time": "2024-10-21T20:29:31.405451",
     "status": "completed"
    },
    "tags": []
   },
   "outputs": [
    {
     "data": {
      "text/html": [
       "<div>\n",
       "<style scoped>\n",
       "    .dataframe tbody tr th:only-of-type {\n",
       "        vertical-align: middle;\n",
       "    }\n",
       "\n",
       "    .dataframe tbody tr th {\n",
       "        vertical-align: top;\n",
       "    }\n",
       "\n",
       "    .dataframe thead th {\n",
       "        text-align: right;\n",
       "    }\n",
       "</style>\n",
       "<table border=\"1\" class=\"dataframe\">\n",
       "  <thead>\n",
       "    <tr style=\"text-align: right;\">\n",
       "      <th></th>\n",
       "      <th>Importance</th>\n",
       "      <th>Feature</th>\n",
       "    </tr>\n",
       "  </thead>\n",
       "  <tbody>\n",
       "    <tr>\n",
       "      <th>1952</th>\n",
       "      <td>48</td>\n",
       "      <td>Total_in_rollingmin_7</td>\n",
       "    </tr>\n",
       "    <tr>\n",
       "      <th>554</th>\n",
       "      <td>29</td>\n",
       "      <td>MinDarajehararat_in_rollingmean_180</td>\n",
       "    </tr>\n",
       "    <tr>\n",
       "      <th>487</th>\n",
       "      <td>28</td>\n",
       "      <td>TotalAbBarfVBaran_in_rollingstd_180</td>\n",
       "    </tr>\n",
       "    <tr>\n",
       "      <th>622</th>\n",
       "      <td>24</td>\n",
       "      <td>MaxDarajehararat_in_rollingmean_180</td>\n",
       "    </tr>\n",
       "    <tr>\n",
       "      <th>2028</th>\n",
       "      <td>24</td>\n",
       "      <td>std_TotalAbBarfVBaran_in</td>\n",
       "    </tr>\n",
       "    <tr>\n",
       "      <th>625</th>\n",
       "      <td>23</td>\n",
       "      <td>MaxDarajehararat_in_rollingmax_180</td>\n",
       "    </tr>\n",
       "    <tr>\n",
       "      <th>2023</th>\n",
       "      <td>20</td>\n",
       "      <td>day_of_year</td>\n",
       "    </tr>\n",
       "    <tr>\n",
       "      <th>691</th>\n",
       "      <td>20</td>\n",
       "      <td>Tabkhir_in_rollingstd_180</td>\n",
       "    </tr>\n",
       "    <tr>\n",
       "      <th>2021</th>\n",
       "      <td>19</td>\n",
       "      <td>Total_in</td>\n",
       "    </tr>\n",
       "    <tr>\n",
       "      <th>1950</th>\n",
       "      <td>17</td>\n",
       "      <td>Total_in_rollingmean_7</td>\n",
       "    </tr>\n",
       "    <tr>\n",
       "      <th>675</th>\n",
       "      <td>17</td>\n",
       "      <td>Tabkhir_in_rollingstd_60</td>\n",
       "    </tr>\n",
       "    <tr>\n",
       "      <th>1953</th>\n",
       "      <td>15</td>\n",
       "      <td>Total_in_rollingmax_7</td>\n",
       "    </tr>\n",
       "    <tr>\n",
       "      <th>486</th>\n",
       "      <td>15</td>\n",
       "      <td>TotalAbBarfVBaran_in_rollingmean_180</td>\n",
       "    </tr>\n",
       "    <tr>\n",
       "      <th>1959</th>\n",
       "      <td>15</td>\n",
       "      <td>Total_in_rollingstd_30</td>\n",
       "    </tr>\n",
       "    <tr>\n",
       "      <th>683</th>\n",
       "      <td>15</td>\n",
       "      <td>Tabkhir_in_rollingstd_90</td>\n",
       "    </tr>\n",
       "    <tr>\n",
       "      <th>1987</th>\n",
       "      <td>12</td>\n",
       "      <td>Total_in_div_rollingmean_180</td>\n",
       "    </tr>\n",
       "    <tr>\n",
       "      <th>1507</th>\n",
       "      <td>12</td>\n",
       "      <td>DarajeHararatKhosk18_5_rollingstd_180</td>\n",
       "    </tr>\n",
       "    <tr>\n",
       "      <th>1960</th>\n",
       "      <td>12</td>\n",
       "      <td>Total_in_rollingmin_30</td>\n",
       "    </tr>\n",
       "    <tr>\n",
       "      <th>1961</th>\n",
       "      <td>12</td>\n",
       "      <td>Total_in_rollingmax_30</td>\n",
       "    </tr>\n",
       "    <tr>\n",
       "      <th>1958</th>\n",
       "      <td>11</td>\n",
       "      <td>Total_in_rollingmean_30</td>\n",
       "    </tr>\n",
       "    <tr>\n",
       "      <th>1577</th>\n",
       "      <td>11</td>\n",
       "      <td>DarajeHararatTar6_5_rollingmax_180</td>\n",
       "    </tr>\n",
       "    <tr>\n",
       "      <th>1370</th>\n",
       "      <td>11</td>\n",
       "      <td>DarajeHararatKhosk6_5_rollingmean_180</td>\n",
       "    </tr>\n",
       "    <tr>\n",
       "      <th>1993</th>\n",
       "      <td>10</td>\n",
       "      <td>Total_in_rollingmax_365</td>\n",
       "    </tr>\n",
       "    <tr>\n",
       "      <th>690</th>\n",
       "      <td>10</td>\n",
       "      <td>Tabkhir_in_rollingmean_180</td>\n",
       "    </tr>\n",
       "    <tr>\n",
       "      <th>1964</th>\n",
       "      <td>10</td>\n",
       "      <td>Total_in_div_rollingstd_30</td>\n",
       "    </tr>\n",
       "    <tr>\n",
       "      <th>1982</th>\n",
       "      <td>9</td>\n",
       "      <td>Total_in_rollingmean_180</td>\n",
       "    </tr>\n",
       "    <tr>\n",
       "      <th>1847</th>\n",
       "      <td>9</td>\n",
       "      <td>NamNesbi12_5_rollingstd_180</td>\n",
       "    </tr>\n",
       "    <tr>\n",
       "      <th>1980</th>\n",
       "      <td>9</td>\n",
       "      <td>Total_in_div_rollingstd_90</td>\n",
       "    </tr>\n",
       "    <tr>\n",
       "      <th>1991</th>\n",
       "      <td>9</td>\n",
       "      <td>Total_in_rollingstd_365</td>\n",
       "    </tr>\n",
       "    <tr>\n",
       "      <th>1974</th>\n",
       "      <td>9</td>\n",
       "      <td>Total_in_rollingmean_90</td>\n",
       "    </tr>\n",
       "    <tr>\n",
       "      <th>1915</th>\n",
       "      <td>8</td>\n",
       "      <td>NamNesbi18_5_rollingstd_180</td>\n",
       "    </tr>\n",
       "    <tr>\n",
       "      <th>1975</th>\n",
       "      <td>8</td>\n",
       "      <td>Total_in_rollingstd_90</td>\n",
       "    </tr>\n",
       "    <tr>\n",
       "      <th>495</th>\n",
       "      <td>8</td>\n",
       "      <td>TotalAbBarfVBaran_in_rollingstd_365</td>\n",
       "    </tr>\n",
       "    <tr>\n",
       "      <th>1371</th>\n",
       "      <td>8</td>\n",
       "      <td>DarajeHararatKhosk6_5_rollingstd_180</td>\n",
       "    </tr>\n",
       "    <tr>\n",
       "      <th>1990</th>\n",
       "      <td>8</td>\n",
       "      <td>Total_in_rollingmean_365</td>\n",
       "    </tr>\n",
       "    <tr>\n",
       "      <th>606</th>\n",
       "      <td>7</td>\n",
       "      <td>MaxDarajehararat_in_rollingmean_60</td>\n",
       "    </tr>\n",
       "    <tr>\n",
       "      <th>600</th>\n",
       "      <td>7</td>\n",
       "      <td>MaxDarajehararat_in_rollingmin_30</td>\n",
       "    </tr>\n",
       "    <tr>\n",
       "      <th>465</th>\n",
       "      <td>7</td>\n",
       "      <td>TotalAbBarfVBaran_in_rollingmax_30</td>\n",
       "    </tr>\n",
       "    <tr>\n",
       "      <th>494</th>\n",
       "      <td>7</td>\n",
       "      <td>TotalAbBarfVBaran_in_rollingmean_365</td>\n",
       "    </tr>\n",
       "    <tr>\n",
       "      <th>558</th>\n",
       "      <td>7</td>\n",
       "      <td>MinDarajehararat_in_rollingsum_180</td>\n",
       "    </tr>\n",
       "    <tr>\n",
       "      <th>623</th>\n",
       "      <td>7</td>\n",
       "      <td>MaxDarajehararat_in_rollingstd_180</td>\n",
       "    </tr>\n",
       "    <tr>\n",
       "      <th>1830</th>\n",
       "      <td>6</td>\n",
       "      <td>NamNesbi12_5_rollingmean_60</td>\n",
       "    </tr>\n",
       "    <tr>\n",
       "      <th>1983</th>\n",
       "      <td>6</td>\n",
       "      <td>Total_in_rollingstd_180</td>\n",
       "    </tr>\n",
       "    <tr>\n",
       "      <th>1988</th>\n",
       "      <td>6</td>\n",
       "      <td>Total_in_div_rollingstd_180</td>\n",
       "    </tr>\n",
       "    <tr>\n",
       "      <th>1515</th>\n",
       "      <td>6</td>\n",
       "      <td>DarajeHararatKhosk18_5_rollingstd_365</td>\n",
       "    </tr>\n",
       "    <tr>\n",
       "      <th>278</th>\n",
       "      <td>6</td>\n",
       "      <td>enso_shift_12</td>\n",
       "    </tr>\n",
       "    <tr>\n",
       "      <th>1934</th>\n",
       "      <td>6</td>\n",
       "      <td>Total_in_shift_7</td>\n",
       "    </tr>\n",
       "    <tr>\n",
       "      <th>1946</th>\n",
       "      <td>6</td>\n",
       "      <td>Total_in_shift_270</td>\n",
       "    </tr>\n",
       "    <tr>\n",
       "      <th>1954</th>\n",
       "      <td>6</td>\n",
       "      <td>Total_in_rollingsum_7</td>\n",
       "    </tr>\n",
       "    <tr>\n",
       "      <th>1575</th>\n",
       "      <td>6</td>\n",
       "      <td>DarajeHararatTar6_5_rollingstd_180</td>\n",
       "    </tr>\n",
       "  </tbody>\n",
       "</table>\n",
       "</div>"
      ],
      "text/plain": [
       "      Importance                                Feature\n",
       "1952          48                  Total_in_rollingmin_7\n",
       "554           29    MinDarajehararat_in_rollingmean_180\n",
       "487           28    TotalAbBarfVBaran_in_rollingstd_180\n",
       "622           24    MaxDarajehararat_in_rollingmean_180\n",
       "2028          24               std_TotalAbBarfVBaran_in\n",
       "625           23     MaxDarajehararat_in_rollingmax_180\n",
       "2023          20                            day_of_year\n",
       "691           20              Tabkhir_in_rollingstd_180\n",
       "2021          19                               Total_in\n",
       "1950          17                 Total_in_rollingmean_7\n",
       "675           17               Tabkhir_in_rollingstd_60\n",
       "1953          15                  Total_in_rollingmax_7\n",
       "486           15   TotalAbBarfVBaran_in_rollingmean_180\n",
       "1959          15                 Total_in_rollingstd_30\n",
       "683           15               Tabkhir_in_rollingstd_90\n",
       "1987          12           Total_in_div_rollingmean_180\n",
       "1507          12  DarajeHararatKhosk18_5_rollingstd_180\n",
       "1960          12                 Total_in_rollingmin_30\n",
       "1961          12                 Total_in_rollingmax_30\n",
       "1958          11                Total_in_rollingmean_30\n",
       "1577          11     DarajeHararatTar6_5_rollingmax_180\n",
       "1370          11  DarajeHararatKhosk6_5_rollingmean_180\n",
       "1993          10                Total_in_rollingmax_365\n",
       "690           10             Tabkhir_in_rollingmean_180\n",
       "1964          10             Total_in_div_rollingstd_30\n",
       "1982           9               Total_in_rollingmean_180\n",
       "1847           9            NamNesbi12_5_rollingstd_180\n",
       "1980           9             Total_in_div_rollingstd_90\n",
       "1991           9                Total_in_rollingstd_365\n",
       "1974           9                Total_in_rollingmean_90\n",
       "1915           8            NamNesbi18_5_rollingstd_180\n",
       "1975           8                 Total_in_rollingstd_90\n",
       "495            8    TotalAbBarfVBaran_in_rollingstd_365\n",
       "1371           8   DarajeHararatKhosk6_5_rollingstd_180\n",
       "1990           8               Total_in_rollingmean_365\n",
       "606            7     MaxDarajehararat_in_rollingmean_60\n",
       "600            7      MaxDarajehararat_in_rollingmin_30\n",
       "465            7     TotalAbBarfVBaran_in_rollingmax_30\n",
       "494            7   TotalAbBarfVBaran_in_rollingmean_365\n",
       "558            7     MinDarajehararat_in_rollingsum_180\n",
       "623            7     MaxDarajehararat_in_rollingstd_180\n",
       "1830           6            NamNesbi12_5_rollingmean_60\n",
       "1983           6                Total_in_rollingstd_180\n",
       "1988           6            Total_in_div_rollingstd_180\n",
       "1515           6  DarajeHararatKhosk18_5_rollingstd_365\n",
       "278            6                          enso_shift_12\n",
       "1934           6                       Total_in_shift_7\n",
       "1946           6                     Total_in_shift_270\n",
       "1954           6                  Total_in_rollingsum_7\n",
       "1575           6     DarajeHararatTar6_5_rollingstd_180"
      ]
     },
     "execution_count": 18,
     "metadata": {},
     "output_type": "execute_result"
    }
   ],
   "source": [
    "imp = pd.DataFrame({'Importance':lgb.feature_importances_,'Feature':x.columns})\n",
    "fe=imp.sort_values(by='Importance',ascending=False).head(50)\n",
    "fe.head(50)"
   ]
  },
  {
   "cell_type": "code",
   "execution_count": 19,
   "id": "fb7c3db3",
   "metadata": {
    "execution": {
     "iopub.execute_input": "2024-10-21T20:29:31.477789Z",
     "iopub.status.busy": "2024-10-21T20:29:31.477415Z",
     "iopub.status.idle": "2024-10-21T20:29:31.548013Z",
     "shell.execute_reply": "2024-10-21T20:29:31.546897Z"
    },
    "papermill": {
     "duration": 0.091049,
     "end_time": "2024-10-21T20:29:31.550594",
     "exception": false,
     "start_time": "2024-10-21T20:29:31.459545",
     "status": "completed"
    },
    "tags": []
   },
   "outputs": [
    {
     "data": {
      "text/plain": [
       "(8035, 1957)"
      ]
     },
     "execution_count": 19,
     "metadata": {},
     "output_type": "execute_result"
    }
   ],
   "source": [
    "\n",
    "df.dropna(inplace=True, axis=1)\n",
    "df.shape"
   ]
  },
  {
   "cell_type": "code",
   "execution_count": 20,
   "id": "aa976936",
   "metadata": {
    "execution": {
     "iopub.execute_input": "2024-10-21T20:29:31.585734Z",
     "iopub.status.busy": "2024-10-21T20:29:31.585362Z",
     "iopub.status.idle": "2024-10-21T20:29:31.842648Z",
     "shell.execute_reply": "2024-10-21T20:29:31.841511Z"
    },
    "papermill": {
     "duration": 0.277887,
     "end_time": "2024-10-21T20:29:31.845530",
     "exception": false,
     "start_time": "2024-10-21T20:29:31.567643",
     "status": "completed"
    },
    "tags": []
   },
   "outputs": [],
   "source": [
    "df.replace([np.inf, -np.inf], np.nan, inplace=True)\n",
    "df.fillna(0, inplace=True)"
   ]
  },
  {
   "cell_type": "code",
   "execution_count": 21,
   "id": "5a3e5892",
   "metadata": {
    "execution": {
     "iopub.execute_input": "2024-10-21T20:29:31.880638Z",
     "iopub.status.busy": "2024-10-21T20:29:31.880101Z",
     "iopub.status.idle": "2024-10-21T20:29:32.177156Z",
     "shell.execute_reply": "2024-10-21T20:29:32.176088Z"
    },
    "papermill": {
     "duration": 0.317541,
     "end_time": "2024-10-21T20:29:32.180071",
     "exception": false,
     "start_time": "2024-10-21T20:29:31.862530",
     "status": "completed"
    },
    "tags": []
   },
   "outputs": [],
   "source": [
    "scaler = MinMaxScaler(feature_range=(0, 1))\n",
    "scaled_data = scaler.fit_transform(df)\n",
    "scaled_df = pd.DataFrame(scaled_data, columns=df.columns)"
   ]
  },
  {
   "cell_type": "code",
   "execution_count": 22,
   "id": "5d870c9f",
   "metadata": {
    "execution": {
     "iopub.execute_input": "2024-10-21T20:29:32.214207Z",
     "iopub.status.busy": "2024-10-21T20:29:32.213832Z",
     "iopub.status.idle": "2024-10-21T20:29:32.221381Z",
     "shell.execute_reply": "2024-10-21T20:29:32.220068Z"
    },
    "papermill": {
     "duration": 0.027643,
     "end_time": "2024-10-21T20:29:32.223888",
     "exception": false,
     "start_time": "2024-10-21T20:29:32.196245",
     "status": "completed"
    },
    "tags": []
   },
   "outputs": [],
   "source": [
    "target=scaled_df['Total_in'].shift(horizon)\n",
    "y=target\n",
    "x=scaled_df[:horizon]\n",
    "#x = scaled_df. drop(columns =[ target ],axis=1)#,'index'"
   ]
  },
  {
   "cell_type": "code",
   "execution_count": 23,
   "id": "12509393",
   "metadata": {
    "execution": {
     "iopub.execute_input": "2024-10-21T20:29:32.258145Z",
     "iopub.status.busy": "2024-10-21T20:29:32.257761Z",
     "iopub.status.idle": "2024-10-21T20:29:32.264863Z",
     "shell.execute_reply": "2024-10-21T20:29:32.263736Z"
    },
    "papermill": {
     "duration": 0.027246,
     "end_time": "2024-10-21T20:29:32.267436",
     "exception": false,
     "start_time": "2024-10-21T20:29:32.240190",
     "status": "completed"
    },
    "tags": []
   },
   "outputs": [
    {
     "data": {
      "text/plain": [
       "(8020, 1957)"
      ]
     },
     "execution_count": 23,
     "metadata": {},
     "output_type": "execute_result"
    }
   ],
   "source": [
    "x.shape"
   ]
  },
  {
   "cell_type": "code",
   "execution_count": 24,
   "id": "5383f8d4",
   "metadata": {
    "execution": {
     "iopub.execute_input": "2024-10-21T20:29:32.301810Z",
     "iopub.status.busy": "2024-10-21T20:29:32.301418Z",
     "iopub.status.idle": "2024-10-21T20:29:32.307725Z",
     "shell.execute_reply": "2024-10-21T20:29:32.306533Z"
    },
    "papermill": {
     "duration": 0.026392,
     "end_time": "2024-10-21T20:29:32.310157",
     "exception": false,
     "start_time": "2024-10-21T20:29:32.283765",
     "status": "completed"
    },
    "tags": []
   },
   "outputs": [],
   "source": [
    "y.dropna(inplace=True)"
   ]
  },
  {
   "cell_type": "code",
   "execution_count": 25,
   "id": "d5f6dd7b",
   "metadata": {
    "execution": {
     "iopub.execute_input": "2024-10-21T20:29:32.345626Z",
     "iopub.status.busy": "2024-10-21T20:29:32.345211Z",
     "iopub.status.idle": "2024-10-21T20:29:32.352662Z",
     "shell.execute_reply": "2024-10-21T20:29:32.351414Z"
    },
    "papermill": {
     "duration": 0.027589,
     "end_time": "2024-10-21T20:29:32.355137",
     "exception": false,
     "start_time": "2024-10-21T20:29:32.327548",
     "status": "completed"
    },
    "tags": []
   },
   "outputs": [
    {
     "data": {
      "text/plain": [
       "(8020,)"
      ]
     },
     "execution_count": 25,
     "metadata": {},
     "output_type": "execute_result"
    }
   ],
   "source": [
    "y.shape"
   ]
  },
  {
   "cell_type": "code",
   "execution_count": 26,
   "id": "f5652c92",
   "metadata": {
    "execution": {
     "iopub.execute_input": "2024-10-21T20:29:32.390133Z",
     "iopub.status.busy": "2024-10-21T20:29:32.389755Z",
     "iopub.status.idle": "2024-10-21T20:40:46.252082Z",
     "shell.execute_reply": "2024-10-21T20:40:46.250611Z"
    },
    "papermill": {
     "duration": 673.883406,
     "end_time": "2024-10-21T20:40:46.255428",
     "exception": false,
     "start_time": "2024-10-21T20:29:32.372022",
     "status": "completed"
    },
    "tags": []
   },
   "outputs": [
    {
     "name": "stdout",
     "output_type": "stream",
     "text": [
      "rmse: 0.00010679192960155101\n",
      "r2: 0.8454026347856575\n",
      "mape: 0.0007576871173156766\n",
      "rmse: 0.00010770757022470044\n",
      "r2: 0.8704543185214282\n",
      "mape: 0.0008488107516511711\n",
      "rmse: 0.00011776118504890839\n",
      "r2: 0.732069746227194\n",
      "mape: 0.0009706699591612805\n",
      "rmse: 0.00019174998683587255\n",
      "r2: 0.6255029123468164\n",
      "mape: 0.0014527492774355994\n",
      "rmse: 8.79881887537819e-05\n",
      "r2: 0.9175092584765625\n",
      "mape: 0.0005643481214106144\n",
      "rmse: 9.421280205663907e-05\n",
      "r2: 0.8199446760282464\n",
      "mape: 0.0005744453416395766\n",
      "rmse: 7.826189320147025e-05\n",
      "r2: 0.8607277209379067\n",
      "mape: 0.000581090080852675\n",
      "rmse: 8.82033544508613e-05\n",
      "r2: 0.847203216816976\n",
      "mape: 0.0005173590140662177\n",
      "rmsetrain: 0.047525472990632346 rmsetest 0.07337496634677351\n",
      "r2train: 0.9350766374141348 r2test: 0.817967954803777\n",
      "mapetest: 260513507686.26663\n"
     ]
    },
    {
     "data": {
      "image/png": "[encoded data removed]",
      "text/plain": [
       "<Figure size 640x480 with 1 Axes>"
      ]
     },
     "metadata": {},
     "output_type": "display_data"
    }
   ],
   "source": [
    "tscv = TimeSeriesSplit(n_splits = 20)\n",
    "test_rmse = []\n",
    "train_rmse= []\n",
    "test_r2 = []\n",
    "train_r2=[]\n",
    "test_mape=[]\n",
    "i=0\n",
    "for train_index, test_index in tscv.split(x):\n",
    "    i+=1\n",
    "    X_train, X_test = x.iloc[train_index], x.iloc[test_index]\n",
    "    Y_train, Y_test = y.iloc[train_index], y.iloc[test_index]\n",
    "    if i>=13:\n",
    "        \n",
    "        mlp = MLPRegressor(hidden_layer_sizes=(300,100), activation='relu', solver='adam', max_iter=200,learning_rate='constant', early_stopping=True,alpha=  0.05)\n",
    "\n",
    "        mlp.fit(X_train, Y_train )\n",
    "\n",
    "        test_predict = mlp.predict(X_test)\n",
    "        train_predict = mlp.predict(X_train)\n",
    "        \n",
    "        test_rmse.append ( np.sqrt(mean_squared_error(Y_test, test_predict)))\n",
    "        train_rmse.append ( np.sqrt(mean_squared_error(Y_train, train_predict)))\n",
    "        \n",
    "        test_r2 .append ( r2_score(Y_test, test_predict))\n",
    "        train_r2 .append ( r2_score(Y_train, train_predict))\n",
    "        test_mape.append (mean_absolute_percentage_error(Y_test, test_predict))\n",
    "        Y_test= (np.exp(Y_test)-100)/1000\n",
    "        test_predict= (np.exp(test_predict)-100)/1000\n",
    "        plt.plot( X_test['Year'].astype(str) + X_test['month'].astype(str) ,Y_test, color='blue')\n",
    "        plt.plot( X_test['Year'].astype(str) + X_test['month'].astype(str) ,test_predict, color='red')\n",
    "        print ('rmse:',np.sqrt(mean_squared_error(Y_test, test_predict)))\n",
    "        print ('r2:', r2_score(Y_test, test_predict))\n",
    "        print ('mape:', mean_absolute_percentage_error(Y_test, test_predict))\n",
    "        \n",
    "print(\"rmsetrain:\",np.mean(train_rmse),\"rmsetest\",np.mean(test_rmse))\n",
    "print (\"r2train:\",np.mean(train_r2),'r2test:',np.mean(test_r2) )\n",
    "print ('mapetest:',np.mean(test_mape))\n",
    "\n",
    "\n"
   ]
  },
  {
   "cell_type": "code",
   "execution_count": 27,
   "id": "9581cfd7",
   "metadata": {
    "execution": {
     "iopub.execute_input": "2024-10-21T20:40:46.294322Z",
     "iopub.status.busy": "2024-10-21T20:40:46.293893Z",
     "iopub.status.idle": "2024-10-21T21:01:21.533979Z",
     "shell.execute_reply": "2024-10-21T21:01:21.532781Z"
    },
    "papermill": {
     "duration": 1235.263393,
     "end_time": "2024-10-21T21:01:21.536958",
     "exception": false,
     "start_time": "2024-10-21T20:40:46.273565",
     "status": "completed"
    },
    "tags": []
   },
   "outputs": [
    {
     "name": "stdout",
     "output_type": "stream",
     "text": [
      "rmse: 0.0001619738840274171\n",
      "r2: 0.6443562234632356\n",
      "mape: 0.0012804811618536969\n",
      "rmse: 9.575010263031311e-05\n",
      "r2: 0.8976214489490927\n",
      "mape: 0.00073831642151838\n",
      "rmse: 0.00011865091190448646\n",
      "r2: 0.7280058387169244\n",
      "mape: 0.0010191474473005718\n",
      "rmse: 0.00019181756741264375\n",
      "r2: 0.6252388894958254\n",
      "mape: 0.0014328439099319243\n",
      "rmse: 0.00010072561063587315\n",
      "r2: 0.8918973675335992\n",
      "mape: 0.0007201434573385437\n",
      "rmse: 0.00011115287523690358\n",
      "r2: 0.749373188791305\n",
      "mape: 0.0008321214616592112\n",
      "rmse: 8.953843295876206e-05\n",
      "r2: 0.8177015558256078\n",
      "mape: 0.0007259148404960067\n",
      "rmse: 0.0001078393257279827\n",
      "r2: 0.771598824586291\n",
      "mape: 0.0007543282074931405\n",
      "rmsetrain: 0.03515226921369162 rmsetest 0.0832139938247093\n",
      "r2train: 0.9647913657159518 r2test: 0.7649807044707981\n",
      "mapetest: 238563196261.14154\n"
     ]
    },
    {
     "data": {
      "image/png": "[encoded data removed]",
      "text/plain": [
       "<Figure size 640x480 with 1 Axes>"
      ]
     },
     "metadata": {},
     "output_type": "display_data"
    }
   ],
   "source": [
    "scv = TimeSeriesSplit(n_splits = 20)\n",
    "test_rmse = []\n",
    "train_rmse= []\n",
    "test_r2 = []\n",
    "train_r2=[]\n",
    "test_mape=[]\n",
    "i=0\n",
    "for train_index, test_index in tscv.split(x):\n",
    "    i+=1\n",
    "    X_train, X_test = x.iloc[train_index], x.iloc[test_index]\n",
    "    Y_train, Y_test = y.iloc[train_index], y.iloc[test_index]\n",
    "    if i>=13:\n",
    "        \n",
    "        svr = SVR(kernel='rbf', C=1.0, epsilon=0.001)\n",
    "\n",
    "        # آموزش مدل\n",
    "        svr.fit(X_train, Y_train)\n",
    "\n",
    "        # پیش‌بینی\n",
    "        test_predict = svr.predict(X_test)\n",
    "        train_predict = svr.predict(X_train)\n",
    "        \n",
    "        test_rmse.append ( np.sqrt(mean_squared_error(Y_test, test_predict)))\n",
    "        train_rmse.append ( np.sqrt(mean_squared_error(Y_train, train_predict)))\n",
    "        \n",
    "        test_r2 .append ( r2_score(Y_test, test_predict))\n",
    "        train_r2 .append ( r2_score(Y_train, train_predict))\n",
    "        test_mape.append (mean_absolute_percentage_error(Y_test, test_predict))\n",
    "        Y_test= (np.exp(Y_test)-100)/1000\n",
    "        test_predict= (np.exp(test_predict)-100)/1000\n",
    "        plt.plot( X_test['Year'].astype(str) + X_test['month'].astype(str) ,Y_test, color='blue')\n",
    "        plt.plot( X_test['Year'].astype(str) + X_test['month'].astype(str) ,test_predict, color='red')\n",
    "        print ('rmse:',np.sqrt(mean_squared_error(Y_test, test_predict)))\n",
    "        print ('r2:', r2_score(Y_test, test_predict))\n",
    "        print ('mape:', mean_absolute_percentage_error(Y_test, test_predict))\n",
    "        #plt.show()\n",
    "        \n",
    "print(\"rmsetrain:\",np.mean(train_rmse),\"rmsetest\",np.mean(test_rmse))\n",
    "print (\"r2train:\",np.mean(train_r2),'r2test:',np.mean(test_r2) )\n",
    "print ('mapetest:',np.mean(test_mape))"
   ]
  },
  {
   "cell_type": "code",
   "execution_count": null,
   "id": "0b9d44cd",
   "metadata": {
    "papermill": {
     "duration": 0.019479,
     "end_time": "2024-10-21T21:01:21.576378",
     "exception": false,
     "start_time": "2024-10-21T21:01:21.556899",
     "status": "completed"
    },
    "tags": []
   },
   "outputs": [],
   "source": []
  }
 ],
 "metadata": {
  "colab": {
   "provenance": []
  },
  "kaggle": {
   "accelerator": "none",
   "dataSources": [
    {
     "datasetId": 5574334,
     "sourceId": 9280309,
     "sourceType": "datasetVersion"
    },
    {
     "datasetId": 5619380,
     "sourceId": 9283489,
     "sourceType": "datasetVersion"
    },
    {
     "datasetId": 5742253,
     "sourceId": 9447847,
     "sourceType": "datasetVersion"
    },
    {
     "datasetId": 5783363,
     "sourceId": 9502644,
     "sourceType": "datasetVersion"
    },
    {
     "sourceId": 202517314,
     "sourceType": "kernelVersion"
    }
   ],
   "dockerImageVersionId": 30746,
   "isGpuEnabled": false,
   "isInternetEnabled": true,
   "language": "python",
   "sourceType": "notebook"
  },
  "kernelspec": {
   "display_name": "Python 3",
   "language": "python",
   "name": "python3"
  },
  "language_info": {
   "codemirror_mode": {
    "name": "ipython",
    "version": 3
   },
   "file_extension": ".py",
   "mimetype": "text/x-python",
   "name": "python",
   "nbconvert_exporter": "python",
   "pygments_lexer": "ipython3",
   "version": "3.10.13"
  },
  "papermill": {
   "default_parameters": {},
   "duration": 5147.638456,
   "end_time": "2024-10-21T21:01:24.473415",
   "environment_variables": {},
   "exception": null,
   "input_path": "__notebook__.ipynb",
   "output_path": "__notebook__.ipynb",
   "parameters": {},
   "start_time": "2024-10-21T19:35:36.834959",
   "version": "2.5.0"
  }
 },
 "nbformat": 4,
 "nbformat_minor": 5
}
