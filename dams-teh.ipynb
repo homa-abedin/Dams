{
 "cells": [
  {
   "cell_type": "code",
   "execution_count": 1,
   "id": "32dc7567",
   "metadata": {
    "execution": {
     "iopub.execute_input": "2024-09-09T06:55:43.234929Z",
     "iopub.status.busy": "2024-09-09T06:55:43.234421Z",
     "iopub.status.idle": "2024-09-09T06:56:03.117900Z",
     "shell.execute_reply": "2024-09-09T06:56:03.116607Z"
    },
    "id": "aiiMxW4BG-DP",
    "papermill": {
     "duration": 19.892483,
     "end_time": "2024-09-09T06:56:03.120650",
     "exception": false,
     "start_time": "2024-09-09T06:55:43.228167",
     "status": "completed"
    },
    "tags": []
   },
   "outputs": [
    {
     "name": "stderr",
     "output_type": "stream",
     "text": [
      "2024-09-09 06:55:48.437087: E external/local_xla/xla/stream_executor/cuda/cuda_dnn.cc:9261] Unable to register cuDNN factory: Attempting to register factory for plugin cuDNN when one has already been registered\n",
      "2024-09-09 06:55:48.437234: E external/local_xla/xla/stream_executor/cuda/cuda_fft.cc:607] Unable to register cuFFT factory: Attempting to register factory for plugin cuFFT when one has already been registered\n",
      "2024-09-09 06:55:48.607166: E external/local_xla/xla/stream_executor/cuda/cuda_blas.cc:1515] Unable to register cuBLAS factory: Attempting to register factory for plugin cuBLAS when one has already been registered\n"
     ]
    }
   ],
   "source": [
    "import numpy as np\n",
    "import pandas as pd\n",
    "import matplotlib.pyplot as plt\n",
    "from sklearn.preprocessing import MinMaxScaler\n",
    "from sklearn.metrics import mean_squared_error, mean_absolute_percentage_error, r2_score\n",
    "from tensorflow.keras.models import Sequential\n",
    "from tensorflow.keras.layers import LSTM, Dense,Dropout\n",
    "import tensorflow as tf\n",
    "import random\n",
    "from sklearn.model_selection import TimeSeriesSplit\n",
    "import statsmodels.api as sm\n",
    "\n",
    "import xgboost as xgb\n",
    "from sklearn.model_selection import train_test_split"
   ]
  },
  {
   "cell_type": "code",
   "execution_count": 2,
   "id": "fd561590",
   "metadata": {
    "execution": {
     "iopub.execute_input": "2024-09-09T06:56:03.131102Z",
     "iopub.status.busy": "2024-09-09T06:56:03.130410Z",
     "iopub.status.idle": "2024-09-09T06:56:03.578205Z",
     "shell.execute_reply": "2024-09-09T06:56:03.576660Z"
    },
    "executionInfo": {
     "elapsed": 459,
     "status": "ok",
     "timestamp": 1725614061565,
     "user": {
      "displayName": "Mohsen Yazdinejad",
      "userId": "00188286051626590191"
     },
     "user_tz": -210
    },
    "id": "miFvtwBvG-DR",
    "outputId": "2791eec4-02cc-40e2-979a-6858214ab3a0",
    "papermill": {
     "duration": 0.456481,
     "end_time": "2024-09-09T06:56:03.581495",
     "exception": false,
     "start_time": "2024-09-09T06:56:03.125014",
     "status": "completed"
    },
    "tags": []
   },
   "outputs": [
    {
     "data": {
      "text/html": [
       "<div>\n",
       "<style scoped>\n",
       "    .dataframe tbody tr th:only-of-type {\n",
       "        vertical-align: middle;\n",
       "    }\n",
       "\n",
       "    .dataframe tbody tr th {\n",
       "        vertical-align: top;\n",
       "    }\n",
       "\n",
       "    .dataframe thead th {\n",
       "        text-align: right;\n",
       "    }\n",
       "</style>\n",
       "<table border=\"1\" class=\"dataframe\">\n",
       "  <thead>\n",
       "    <tr style=\"text-align: right;\">\n",
       "      <th></th>\n",
       "      <th>DamId</th>\n",
       "      <th>DateRow</th>\n",
       "      <th>Torbin_out</th>\n",
       "      <th>TakhlieAbgir_out</th>\n",
       "      <th>Sarriz_out</th>\n",
       "      <th>TabKhir_out</th>\n",
       "      <th>Total_out</th>\n",
       "      <th>TotalMasraf_out</th>\n",
       "      <th>TakhlieRosob_out</th>\n",
       "      <th>Cheshme_out</th>\n",
       "      <th>...</th>\n",
       "      <th>NamNesbi6_5</th>\n",
       "      <th>NamNesbi12_5</th>\n",
       "      <th>NamNesbi18_5</th>\n",
       "      <th>TolGeo</th>\n",
       "      <th>ArzGeo</th>\n",
       "      <th>MaxErtefaAzDarya</th>\n",
       "      <th>MinErtefaAzDarya</th>\n",
       "      <th>KafDaryache</th>\n",
       "      <th>GonjayeshKolMakhzan</th>\n",
       "      <th>GonjayeshMofidMakhzan</th>\n",
       "    </tr>\n",
       "  </thead>\n",
       "  <tbody>\n",
       "    <tr>\n",
       "      <th>0</th>\n",
       "      <td>1</td>\n",
       "      <td>1966-05-11</td>\n",
       "      <td>1.63296</td>\n",
       "      <td>0.0</td>\n",
       "      <td>0.0</td>\n",
       "      <td>0.0</td>\n",
       "      <td>1.63296</td>\n",
       "      <td>0.22464</td>\n",
       "      <td>0</td>\n",
       "      <td>0</td>\n",
       "      <td>...</td>\n",
       "      <td>0.0</td>\n",
       "      <td>0.0</td>\n",
       "      <td>0.0</td>\n",
       "      <td>54.25563</td>\n",
       "      <td>35.252621</td>\n",
       "      <td>1765</td>\n",
       "      <td>1600</td>\n",
       "      <td>1595</td>\n",
       "      <td>183</td>\n",
       "      <td>177.3</td>\n",
       "    </tr>\n",
       "    <tr>\n",
       "      <th>1</th>\n",
       "      <td>1</td>\n",
       "      <td>1970-10-08</td>\n",
       "      <td>0.78624</td>\n",
       "      <td>0.0</td>\n",
       "      <td>0.0</td>\n",
       "      <td>0.0</td>\n",
       "      <td>0.78624</td>\n",
       "      <td>0.45792</td>\n",
       "      <td>0</td>\n",
       "      <td>0</td>\n",
       "      <td>...</td>\n",
       "      <td>0.0</td>\n",
       "      <td>0.0</td>\n",
       "      <td>0.0</td>\n",
       "      <td>54.25563</td>\n",
       "      <td>35.252621</td>\n",
       "      <td>1765</td>\n",
       "      <td>1600</td>\n",
       "      <td>1595</td>\n",
       "      <td>183</td>\n",
       "      <td>177.3</td>\n",
       "    </tr>\n",
       "  </tbody>\n",
       "</table>\n",
       "<p>2 rows × 58 columns</p>\n",
       "</div>"
      ],
      "text/plain": [
       "   DamId     DateRow  Torbin_out  TakhlieAbgir_out  Sarriz_out  TabKhir_out  \\\n",
       "0      1  1966-05-11     1.63296               0.0         0.0          0.0   \n",
       "1      1  1970-10-08     0.78624               0.0         0.0          0.0   \n",
       "\n",
       "   Total_out  TotalMasraf_out  TakhlieRosob_out  Cheshme_out  ...  \\\n",
       "0    1.63296          0.22464                 0            0  ...   \n",
       "1    0.78624          0.45792                 0            0  ...   \n",
       "\n",
       "   NamNesbi6_5  NamNesbi12_5  NamNesbi18_5    TolGeo     ArzGeo  \\\n",
       "0          0.0           0.0           0.0  54.25563  35.252621   \n",
       "1          0.0           0.0           0.0  54.25563  35.252621   \n",
       "\n",
       "   MaxErtefaAzDarya  MinErtefaAzDarya  KafDaryache  GonjayeshKolMakhzan  \\\n",
       "0              1765              1600         1595                  183   \n",
       "1              1765              1600         1595                  183   \n",
       "\n",
       "   GonjayeshMofidMakhzan  \n",
       "0                  177.3  \n",
       "1                  177.3  \n",
       "\n",
       "[2 rows x 58 columns]"
      ]
     },
     "execution_count": 2,
     "metadata": {},
     "output_type": "execute_result"
    }
   ],
   "source": [
    "df = pd.read_csv('../input/amirkabirdam/dam12.csv')\n",
    "df.head(2)"
   ]
  },
  {
   "cell_type": "code",
   "execution_count": 3,
   "id": "8eb86020",
   "metadata": {
    "execution": {
     "iopub.execute_input": "2024-09-09T06:56:03.593283Z",
     "iopub.status.busy": "2024-09-09T06:56:03.592432Z",
     "iopub.status.idle": "2024-09-09T06:56:03.609516Z",
     "shell.execute_reply": "2024-09-09T06:56:03.608089Z"
    },
    "papermill": {
     "duration": 0.026661,
     "end_time": "2024-09-09T06:56:03.612641",
     "exception": false,
     "start_time": "2024-09-09T06:56:03.585980",
     "status": "completed"
    },
    "tags": []
   },
   "outputs": [],
   "source": [
    "df['humidity']=df[['NamNesbi6_5', 'NamNesbi12_5','NamNesbi18_5']].mean(axis=1)\n",
    "df['daraje']= df[['MinDarajehararat_in','MaxDarajehararat_in']].mean(axis=1)"
   ]
  },
  {
   "cell_type": "code",
   "execution_count": 4,
   "id": "1381b9d4",
   "metadata": {
    "execution": {
     "iopub.execute_input": "2024-09-09T06:56:03.623450Z",
     "iopub.status.busy": "2024-09-09T06:56:03.623008Z",
     "iopub.status.idle": "2024-09-09T06:56:03.662460Z",
     "shell.execute_reply": "2024-09-09T06:56:03.661239Z"
    },
    "papermill": {
     "duration": 0.048035,
     "end_time": "2024-09-09T06:56:03.665125",
     "exception": false,
     "start_time": "2024-09-09T06:56:03.617090",
     "status": "completed"
    },
    "tags": []
   },
   "outputs": [],
   "source": [
    "df['DateRow'] = pd.to_datetime(df['DateRow'])\n",
    "df = df.sort_values(by= 'DateRow')\n",
    "df['year'] = df['DateRow'].dt.year\n",
    "df['month'] = df['DateRow'].dt.month\n",
    "df['day_of_week'] = df['DateRow'].dt.dayofweek\n",
    "df['day_of_year'] = df['DateRow'].dt.dayofyear"
   ]
  },
  {
   "cell_type": "code",
   "execution_count": 5,
   "id": "2779d396",
   "metadata": {
    "execution": {
     "iopub.execute_input": "2024-09-09T06:56:03.675927Z",
     "iopub.status.busy": "2024-09-09T06:56:03.675500Z",
     "iopub.status.idle": "2024-09-09T06:56:03.690878Z",
     "shell.execute_reply": "2024-09-09T06:56:03.689380Z"
    },
    "papermill": {
     "duration": 0.023964,
     "end_time": "2024-09-09T06:56:03.693517",
     "exception": false,
     "start_time": "2024-09-09T06:56:03.669553",
     "status": "completed"
    },
    "tags": []
   },
   "outputs": [],
   "source": [
    "df['Total_in1']=df['Total_in'].shift(1)\n",
    "df['Total_in7']= df['Total_in'].shift(7)\n",
    "df['Total_in30']= df['Total_in'].shift(30)\n",
    "\n",
    "df['Barandegi_in1']=df['Barandegi_in'].shift(1)\n",
    "df['Barandegi_in7']=df['Barandegi_in'].shift(7)\n",
    "df['Barandegi_in30']=df['Barandegi_in'].shift(30)\n",
    "df['daraje1']=df['daraje'].shift(1)\n",
    "df['daraje7']=df['daraje'].shift(7)\n",
    "df['daraje30']=df['daraje'].shift(30)"
   ]
  },
  {
   "cell_type": "code",
   "execution_count": 6,
   "id": "ce4d7f68",
   "metadata": {
    "execution": {
     "iopub.execute_input": "2024-09-09T06:56:03.705240Z",
     "iopub.status.busy": "2024-09-09T06:56:03.704481Z",
     "iopub.status.idle": "2024-09-09T06:56:03.721700Z",
     "shell.execute_reply": "2024-09-09T06:56:03.720550Z"
    },
    "papermill": {
     "duration": 0.025726,
     "end_time": "2024-09-09T06:56:03.724570",
     "exception": false,
     "start_time": "2024-09-09T06:56:03.698844",
     "status": "completed"
    },
    "tags": []
   },
   "outputs": [],
   "source": [
    "df['rolling_mean_7'] = df['Total_in'].shift(1).rolling(window=7).mean()\n",
    "df['rolling_std_7'] = df['Total_in'].shift(1).rolling(window=7).std()\n",
    "df['rolling_mean_30'] = df['Total_in'].shift(7).rolling(window=30).mean()\n",
    "df['rolling_std_30'] = df['Total_in'].shift(7).rolling(window=30).std()"
   ]
  },
  {
   "cell_type": "code",
   "execution_count": 7,
   "id": "6600302a",
   "metadata": {
    "execution": {
     "iopub.execute_input": "2024-09-09T06:56:03.737324Z",
     "iopub.status.busy": "2024-09-09T06:56:03.736838Z",
     "iopub.status.idle": "2024-09-09T06:56:03.755144Z",
     "shell.execute_reply": "2024-09-09T06:56:03.753133Z"
    },
    "papermill": {
     "duration": 0.028115,
     "end_time": "2024-09-09T06:56:03.759154",
     "exception": false,
     "start_time": "2024-09-09T06:56:03.731039",
     "status": "completed"
    },
    "tags": []
   },
   "outputs": [],
   "source": [
    "df.dropna(axis=0, inplace=True)"
   ]
  },
  {
   "cell_type": "code",
   "execution_count": 8,
   "id": "468cb138",
   "metadata": {
    "execution": {
     "iopub.execute_input": "2024-09-09T06:56:03.771200Z",
     "iopub.status.busy": "2024-09-09T06:56:03.770544Z",
     "iopub.status.idle": "2024-09-09T06:56:03.777910Z",
     "shell.execute_reply": "2024-09-09T06:56:03.776401Z"
    },
    "id": "hcVAWHdkXj-Y",
    "papermill": {
     "duration": 0.016374,
     "end_time": "2024-09-09T06:56:03.780576",
     "exception": false,
     "start_time": "2024-09-09T06:56:03.764202",
     "status": "completed"
    },
    "tags": []
   },
   "outputs": [],
   "source": [
    "target = 'Total_in'\n",
    "features = ['Total_in1','Total_in7','Total_in30','Barandegi_in','Barandegi_in1','Barandegi_in7'\n",
    "            ,'Barandegi_in30','TotalAbBarfVBaran_in','DebiSeilabm3c','daraje','daraje1','daraje7'\n",
    "            ,'daraje30','VazeHava_in','SoratBad_in' ,'humidity'\n",
    "           ,'rolling_mean_7','rolling_std_7','rolling_mean_30','rolling_std_30']"
   ]
  },
  {
   "cell_type": "code",
   "execution_count": 9,
   "id": "c251ea15",
   "metadata": {
    "execution": {
     "iopub.execute_input": "2024-09-09T06:56:03.792149Z",
     "iopub.status.busy": "2024-09-09T06:56:03.791211Z",
     "iopub.status.idle": "2024-09-09T06:56:03.807790Z",
     "shell.execute_reply": "2024-09-09T06:56:03.806603Z"
    },
    "id": "vOsz_xHllcBj",
    "papermill": {
     "duration": 0.0252,
     "end_time": "2024-09-09T06:56:03.810675",
     "exception": false,
     "start_time": "2024-09-09T06:56:03.785475",
     "status": "completed"
    },
    "tags": []
   },
   "outputs": [],
   "source": [
    "df = df[df['DateRow']>'2015']\n",
    "df.drop(columns=['DateRow'], inplace=True)\n",
    "\n",
    "y=df[target]\n",
    "\n",
    "x = df[features]"
   ]
  },
  {
   "cell_type": "code",
   "execution_count": 10,
   "id": "33518219",
   "metadata": {
    "execution": {
     "iopub.execute_input": "2024-09-09T06:56:03.822364Z",
     "iopub.status.busy": "2024-09-09T06:56:03.821984Z",
     "iopub.status.idle": "2024-09-09T06:56:03.827763Z",
     "shell.execute_reply": "2024-09-09T06:56:03.826616Z"
    },
    "papermill": {
     "duration": 0.014953,
     "end_time": "2024-09-09T06:56:03.830166",
     "exception": false,
     "start_time": "2024-09-09T06:56:03.815213",
     "status": "completed"
    },
    "tags": []
   },
   "outputs": [
    {
     "name": "stdout",
     "output_type": "stream",
     "text": [
      "x: (2936, 20) y: (2936,)\n"
     ]
    }
   ],
   "source": [
    "print(\"x:\", x.shape ,\"y:\",y.shape)"
   ]
  },
  {
   "cell_type": "code",
   "execution_count": 11,
   "id": "021e65f0",
   "metadata": {
    "execution": {
     "iopub.execute_input": "2024-09-09T06:56:03.841732Z",
     "iopub.status.busy": "2024-09-09T06:56:03.841323Z",
     "iopub.status.idle": "2024-09-09T06:56:05.275299Z",
     "shell.execute_reply": "2024-09-09T06:56:05.274341Z"
    },
    "papermill": {
     "duration": 1.442452,
     "end_time": "2024-09-09T06:56:05.277716",
     "exception": false,
     "start_time": "2024-09-09T06:56:03.835264",
     "status": "completed"
    },
    "tags": []
   },
   "outputs": [
    {
     "name": "stdout",
     "output_type": "stream",
     "text": [
      "rmse: 0.4650533015860804 r2 0.7587137891861258\n"
     ]
    }
   ],
   "source": [
    "tscv = TimeSeriesSplit(n_splits = 7)\n",
    "train_rmse = []\n",
    "test_rmse = []\n",
    "train_r2 = []\n",
    "test_r2 = []\n",
    "i=0\n",
    "for train_index, test_index in tscv.split(x):\n",
    "    i+=1\n",
    "    X_train, X_test = x.iloc[train_index], x.iloc[test_index]\n",
    "    Y_train, Y_test = y.iloc[train_index], y.iloc[test_index]\n",
    "    if i>=3:\n",
    "        model = xgb.XGBRegressor(n_estimators=100, learning_rate=0.01)\n",
    "        model.fit(X_train, Y_train, verbose=False)\n",
    "\n",
    "    # Predictions\n",
    "        preds = model.predict(X_test)\n",
    "       \n",
    "        test_rmse.append ( np.sqrt(mean_squared_error(Y_test, preds)))\n",
    "        \n",
    "        test_r2 .append ( r2_score(Y_test, preds))\n",
    "        \n",
    "print(\"rmse:\",np.mean(test_rmse) , \"r2\",np.mean(test_r2) )"
   ]
  },
  {
   "cell_type": "code",
   "execution_count": null,
   "id": "e19b4e82",
   "metadata": {
    "papermill": {
     "duration": 0.004189,
     "end_time": "2024-09-09T06:56:05.286500",
     "exception": false,
     "start_time": "2024-09-09T06:56:05.282311",
     "status": "completed"
    },
    "tags": []
   },
   "outputs": [],
   "source": []
  }
 ],
 "metadata": {
  "colab": {
   "provenance": []
  },
  "kaggle": {
   "accelerator": "none",
   "dataSources": [
    {
     "datasetId": 5574334,
     "sourceId": 9280309,
     "sourceType": "datasetVersion"
    },
    {
     "datasetId": 5617071,
     "sourceId": 9280362,
     "sourceType": "datasetVersion"
    },
    {
     "datasetId": 5617705,
     "sourceId": 9281201,
     "sourceType": "datasetVersion"
    },
    {
     "datasetId": 5617719,
     "sourceId": 9281226,
     "sourceType": "datasetVersion"
    },
    {
     "datasetId": 5619370,
     "sourceId": 9283477,
     "sourceType": "datasetVersion"
    },
    {
     "datasetId": 5619380,
     "sourceId": 9283489,
     "sourceType": "datasetVersion"
    }
   ],
   "dockerImageVersionId": 30746,
   "isGpuEnabled": false,
   "isInternetEnabled": true,
   "language": "python",
   "sourceType": "notebook"
  },
  "kernelspec": {
   "display_name": "Python 3",
   "language": "python",
   "name": "python3"
  },
  "language_info": {
   "codemirror_mode": {
    "name": "ipython",
    "version": 3
   },
   "file_extension": ".py",
   "mimetype": "text/x-python",
   "name": "python",
   "nbconvert_exporter": "python",
   "pygments_lexer": "ipython3",
   "version": "3.10.13"
  },
  "papermill": {
   "default_parameters": {},
   "duration": 27.458248,
   "end_time": "2024-09-09T06:56:06.917710",
   "environment_variables": {},
   "exception": null,
   "input_path": "__notebook__.ipynb",
   "output_path": "__notebook__.ipynb",
   "parameters": {},
   "start_time": "2024-09-09T06:55:39.459462",
   "version": "2.5.0"
  }
 },
 "nbformat": 4,
 "nbformat_minor": 5
}
