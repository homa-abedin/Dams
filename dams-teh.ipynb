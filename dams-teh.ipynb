{
 "cells": [
  {
   "cell_type": "code",
   "execution_count": 1,
   "id": "2b6d78e4",
   "metadata": {
    "execution": {
     "iopub.execute_input": "2024-09-28T08:29:50.925175Z",
     "iopub.status.busy": "2024-09-28T08:29:50.924733Z",
     "iopub.status.idle": "2024-09-28T08:30:09.929306Z",
     "shell.execute_reply": "2024-09-28T08:30:09.928217Z"
    },
    "id": "aiiMxW4BG-DP",
    "papermill": {
     "duration": 19.019489,
     "end_time": "2024-09-28T08:30:09.932076",
     "exception": false,
     "start_time": "2024-09-28T08:29:50.912587",
     "status": "completed"
    },
    "tags": []
   },
   "outputs": [
    {
     "name": "stderr",
     "output_type": "stream",
     "text": [
      "2024-09-28 08:29:55.219272: E external/local_xla/xla/stream_executor/cuda/cuda_dnn.cc:9261] Unable to register cuDNN factory: Attempting to register factory for plugin cuDNN when one has already been registered\n",
      "2024-09-28 08:29:55.219446: E external/local_xla/xla/stream_executor/cuda/cuda_fft.cc:607] Unable to register cuFFT factory: Attempting to register factory for plugin cuFFT when one has already been registered\n",
      "2024-09-28 08:29:55.361298: E external/local_xla/xla/stream_executor/cuda/cuda_blas.cc:1515] Unable to register cuBLAS factory: Attempting to register factory for plugin cuBLAS when one has already been registered\n"
     ]
    }
   ],
   "source": [
    "import numpy as np\n",
    "import pandas as pd\n",
    "import matplotlib.pyplot as plt\n",
    "from sklearn.preprocessing import MinMaxScaler\n",
    "from sklearn.metrics import mean_squared_error, mean_absolute_percentage_error, r2_score\n",
    "from tensorflow.keras.models import Sequential\n",
    "from tensorflow.keras.layers import LSTM, Dense,Dropout\n",
    "import tensorflow as tf\n",
    "import random\n",
    "from sklearn.model_selection import TimeSeriesSplit\n",
    "import statsmodels.api as sm\n",
    "\n",
    "import xgboost as xgb\n",
    "from sklearn.model_selection import train_test_split\n",
    "import matplotlib.pyplot as plt\n",
    "import seaborn as sns\n",
    "from sklearn.model_selection import GridSearchCV\n",
    "from sklearn.metrics import r2_score\n",
    "\n",
    "import lightgbm\n",
    "from sklearn.neural_network import MLPRegressor\n"
   ]
  },
  {
   "cell_type": "code",
   "execution_count": 2,
   "id": "c0f4e8e4",
   "metadata": {
    "execution": {
     "iopub.execute_input": "2024-09-28T08:30:09.956241Z",
     "iopub.status.busy": "2024-09-28T08:30:09.954691Z",
     "iopub.status.idle": "2024-09-28T08:30:09.960886Z",
     "shell.execute_reply": "2024-09-28T08:30:09.959762Z"
    },
    "papermill": {
     "duration": 0.020443,
     "end_time": "2024-09-28T08:30:09.963357",
     "exception": false,
     "start_time": "2024-09-28T08:30:09.942914",
     "status": "completed"
    },
    "tags": []
   },
   "outputs": [],
   "source": [
    "pd.set_option('display.max_columns', None)\n",
    "pd.set_option('display.max_rows', None)"
   ]
  },
  {
   "cell_type": "code",
   "execution_count": 3,
   "id": "225889bb",
   "metadata": {
    "execution": {
     "iopub.execute_input": "2024-09-28T08:30:09.986490Z",
     "iopub.status.busy": "2024-09-28T08:30:09.985592Z",
     "iopub.status.idle": "2024-09-28T08:30:10.504779Z",
     "shell.execute_reply": "2024-09-28T08:30:10.503822Z"
    },
    "papermill": {
     "duration": 0.533533,
     "end_time": "2024-09-28T08:30:10.507543",
     "exception": false,
     "start_time": "2024-09-28T08:30:09.974010",
     "status": "completed"
    },
    "tags": []
   },
   "outputs": [],
   "source": [
    "oni = pd.read_excel('../input/climate-indeices/ONI.xlsx')\n",
    "enso = pd.read_excel('../input/climate-indeices/ENSO.xlsx')\n",
    "#amo = pd.read_excel('../input/climate-indeices/AMO.xlsx')\n",
    "nao = pd.read_excel('../input/climate-indeices/NAO.xlsx')\n",
    "soi = pd.read_excel('../input/climate-indeices/SOI.xlsx')"
   ]
  },
  {
   "cell_type": "code",
   "execution_count": 4,
   "id": "cac02fe1",
   "metadata": {
    "execution": {
     "iopub.execute_input": "2024-09-28T08:30:10.530576Z",
     "iopub.status.busy": "2024-09-28T08:30:10.529833Z",
     "iopub.status.idle": "2024-09-28T08:30:10.573530Z",
     "shell.execute_reply": "2024-09-28T08:30:10.572361Z"
    },
    "papermill": {
     "duration": 0.058358,
     "end_time": "2024-09-28T08:30:10.576429",
     "exception": false,
     "start_time": "2024-09-28T08:30:10.518071",
     "status": "completed"
    },
    "tags": []
   },
   "outputs": [],
   "source": [
    "oni=pd.melt(oni, id_vars=['Year'], var_name='month', value_name='value').sort_values(by=['Year','month'])\n",
    "enso=pd.melt(enso, id_vars=['Year'], var_name='month', value_name='value').sort_values(by=['Year','month'])\n",
    "#amo=pd.melt(amo, id_vars=['Year'], var_name='month', value_name='value').sort_values(by=['Year','month'])\n",
    "nao=pd.melt(nao, id_vars=['Year'], var_name='month', value_name='value').sort_values(by=['Year','month'])\n",
    "soi=pd.melt(soi, id_vars=['Year'], var_name='month', value_name='value').sort_values(by=['Year','month'])"
   ]
  },
  {
   "cell_type": "code",
   "execution_count": 5,
   "id": "4ba837de",
   "metadata": {
    "execution": {
     "iopub.execute_input": "2024-09-28T08:30:10.599482Z",
     "iopub.status.busy": "2024-09-28T08:30:10.599068Z",
     "iopub.status.idle": "2024-09-28T08:30:10.642558Z",
     "shell.execute_reply": "2024-09-28T08:30:10.641303Z"
    },
    "papermill": {
     "duration": 0.058113,
     "end_time": "2024-09-28T08:30:10.645262",
     "exception": false,
     "start_time": "2024-09-28T08:30:10.587149",
     "status": "completed"
    },
    "tags": []
   },
   "outputs": [
    {
     "data": {
      "text/html": [
       "<div>\n",
       "<style scoped>\n",
       "    .dataframe tbody tr th:only-of-type {\n",
       "        vertical-align: middle;\n",
       "    }\n",
       "\n",
       "    .dataframe tbody tr th {\n",
       "        vertical-align: top;\n",
       "    }\n",
       "\n",
       "    .dataframe thead th {\n",
       "        text-align: right;\n",
       "    }\n",
       "</style>\n",
       "<table border=\"1\" class=\"dataframe\">\n",
       "  <thead>\n",
       "    <tr style=\"text-align: right;\">\n",
       "      <th></th>\n",
       "      <th>Year</th>\n",
       "      <th>month</th>\n",
       "      <th>value_s</th>\n",
       "      <th>value_n</th>\n",
       "      <th>value_a</th>\n",
       "      <th>value_e</th>\n",
       "    </tr>\n",
       "  </thead>\n",
       "  <tbody>\n",
       "    <tr>\n",
       "      <th>0</th>\n",
       "      <td>1979</td>\n",
       "      <td>01</td>\n",
       "      <td>0.2</td>\n",
       "      <td>-1.38</td>\n",
       "      <td>0.0</td>\n",
       "      <td>0.26</td>\n",
       "    </tr>\n",
       "    <tr>\n",
       "      <th>1</th>\n",
       "      <td>1979</td>\n",
       "      <td>02</td>\n",
       "      <td>0.2</td>\n",
       "      <td>-0.67</td>\n",
       "      <td>0.1</td>\n",
       "      <td>-0.25</td>\n",
       "    </tr>\n",
       "  </tbody>\n",
       "</table>\n",
       "</div>"
      ],
      "text/plain": [
       "   Year month  value_s  value_n  value_a  value_e\n",
       "0  1979    01      0.2    -1.38      0.0     0.26\n",
       "1  1979    02      0.2    -0.67      0.1    -0.25"
      ]
     },
     "execution_count": 5,
     "metadata": {},
     "output_type": "execute_result"
    }
   ],
   "source": [
    "climate=soi.merge( nao ,how='left', on= ['Year', 'month'],suffixes=('_s', '_n') ).merge(oni,how='left', on= ['Year', 'month']).merge(enso,how='left', on= ['Year', 'month'],suffixes=('_a', '_e'))#.merge(amo,how='left', on= ['Year', 'month'])\n",
    "climate.head(2)"
   ]
  },
  {
   "cell_type": "code",
   "execution_count": 6,
   "id": "e3da3fbc",
   "metadata": {
    "execution": {
     "iopub.execute_input": "2024-09-28T08:30:10.668439Z",
     "iopub.status.busy": "2024-09-28T08:30:10.668018Z",
     "iopub.status.idle": "2024-09-28T08:30:10.676430Z",
     "shell.execute_reply": "2024-09-28T08:30:10.675333Z"
    },
    "papermill": {
     "duration": 0.02306,
     "end_time": "2024-09-28T08:30:10.679115",
     "exception": false,
     "start_time": "2024-09-28T08:30:10.656055",
     "status": "completed"
    },
    "tags": []
   },
   "outputs": [],
   "source": [
    "climate=climate.rename(columns={'value_s':'soi' ,'value_n':'nao' , 'value_a':'amo', 'value_e':'enso', 'value':'oni'})\n",
    "climate.dropna(inplace=True)"
   ]
  },
  {
   "cell_type": "code",
   "execution_count": 7,
   "id": "dd9fccf7",
   "metadata": {
    "execution": {
     "iopub.execute_input": "2024-09-28T08:30:10.702623Z",
     "iopub.status.busy": "2024-09-28T08:30:10.701939Z",
     "iopub.status.idle": "2024-09-28T08:30:10.726357Z",
     "shell.execute_reply": "2024-09-28T08:30:10.725231Z"
    },
    "papermill": {
     "duration": 0.039107,
     "end_time": "2024-09-28T08:30:10.729141",
     "exception": false,
     "start_time": "2024-09-28T08:30:10.690034",
     "status": "completed"
    },
    "tags": []
   },
   "outputs": [],
   "source": [
    "climate['soi30']=climate['soi'].shift(1)\n",
    "climate['soi60']=climate['soi'].shift(2)\n",
    "climate['soi90']=climate['soi'].shift(3)\n",
    "climate['soi360']=climate['soi'].shift(12)\n",
    "\n",
    "climate['nao30']=climate['nao'].shift(1)\n",
    "climate['nao60']=climate['nao'].shift(2)\n",
    "climate['nao90']=climate['nao'].shift(3)\n",
    "climate['nao120']=climate['nao'].shift(4)\n",
    "climate['nao150']=climate['nao'].shift(5)\n",
    "climate['nao180']=climate['nao'].shift(6)\n",
    "climate['nao270']=climate['nao'].shift(9)\n",
    "climate['nao360']=climate['nao'].shift(12)\n",
    "\n",
    "climate['amo30']=climate['amo'].shift(1)\n",
    "climate['amo60']=climate['amo'].shift(2)\n",
    "climate['amo90']=climate['amo'].shift(3)\n",
    "climate['amo360']=climate['amo'].shift(12)\n",
    "\n",
    "climate['enso30']=climate['enso'].shift(1)\n",
    "climate['enso60']=climate['enso'].shift(2)\n",
    "climate['enso90']=climate['enso'].shift(3)\n",
    "climate['enso360']=climate['enso'].shift(12)"
   ]
  },
  {
   "cell_type": "code",
   "execution_count": 8,
   "id": "8785d858",
   "metadata": {
    "execution": {
     "iopub.execute_input": "2024-09-28T08:30:10.753833Z",
     "iopub.status.busy": "2024-09-28T08:30:10.752644Z",
     "iopub.status.idle": "2024-09-28T08:30:11.098303Z",
     "shell.execute_reply": "2024-09-28T08:30:11.097039Z"
    },
    "executionInfo": {
     "elapsed": 459,
     "status": "ok",
     "timestamp": 1725614061565,
     "user": {
      "displayName": "Mohsen Yazdinejad",
      "userId": "00188286051626590191"
     },
     "user_tz": -210
    },
    "id": "miFvtwBvG-DR",
    "outputId": "2791eec4-02cc-40e2-979a-6858214ab3a0",
    "papermill": {
     "duration": 0.360219,
     "end_time": "2024-09-28T08:30:11.100919",
     "exception": false,
     "start_time": "2024-09-28T08:30:10.740700",
     "status": "completed"
    },
    "tags": []
   },
   "outputs": [
    {
     "data": {
      "text/html": [
       "<div>\n",
       "<style scoped>\n",
       "    .dataframe tbody tr th:only-of-type {\n",
       "        vertical-align: middle;\n",
       "    }\n",
       "\n",
       "    .dataframe tbody tr th {\n",
       "        vertical-align: top;\n",
       "    }\n",
       "\n",
       "    .dataframe thead th {\n",
       "        text-align: right;\n",
       "    }\n",
       "</style>\n",
       "<table border=\"1\" class=\"dataframe\">\n",
       "  <thead>\n",
       "    <tr style=\"text-align: right;\">\n",
       "      <th></th>\n",
       "      <th>DamId</th>\n",
       "      <th>DateRow</th>\n",
       "      <th>Torbin_out</th>\n",
       "      <th>TakhlieAbgir_out</th>\n",
       "      <th>Sarriz_out</th>\n",
       "      <th>TabKhir_out</th>\n",
       "      <th>Total_out</th>\n",
       "      <th>TotalMasraf_out</th>\n",
       "      <th>TakhlieRosob_out</th>\n",
       "      <th>Cheshme_out</th>\n",
       "      <th>NashtZehkesh_out</th>\n",
       "      <th>TakhlieKonandeTahtani_out</th>\n",
       "      <th>MasahatFeli_in</th>\n",
       "      <th>HajmMofid_in</th>\n",
       "      <th>HajmKol_in</th>\n",
       "      <th>SubractSarabPayab_in</th>\n",
       "      <th>ErtefPayab_in</th>\n",
       "      <th>ErtefaSarab_in</th>\n",
       "      <th>Asli_in</th>\n",
       "      <th>Total_in</th>\n",
       "      <th>Motefareghe_in</th>\n",
       "      <th>Barandegi_in</th>\n",
       "      <th>BareshBarf_in</th>\n",
       "      <th>AbMoadelBarf_in</th>\n",
       "      <th>TotalAbBarfVBaran_in</th>\n",
       "      <th>MinDarajehararat_in</th>\n",
       "      <th>MaxDarajehararat_in</th>\n",
       "      <th>Tabkhir_in</th>\n",
       "      <th>TabkhirBaEmalZarib_in</th>\n",
       "      <th>ShedatAftab_in</th>\n",
       "      <th>FesharJav_in</th>\n",
       "      <th>SoratBad_in</th>\n",
       "      <th>JahatBad_in</th>\n",
       "      <th>VazeHava_in</th>\n",
       "      <th>HajmSeilabMCM</th>\n",
       "      <th>DebiSeilabm3c</th>\n",
       "      <th>MaxSarRizDarZamanSeilab</th>\n",
       "      <th>HajmAbTakhlieAzSadBarayeSeil</th>\n",
       "      <th>HajmAbTakhlieAzSadBarayPishbini</th>\n",
       "      <th>DarajeHararat6_5</th>\n",
       "      <th>DarajeHararat12_5</th>\n",
       "      <th>DarajeHararat18_5</th>\n",
       "      <th>DarajeHararatKhosk6_5</th>\n",
       "      <th>DarajeHararatKhosk12_5</th>\n",
       "      <th>DarajeHararatKhosk18_5</th>\n",
       "      <th>DarajeHararatTar6_5</th>\n",
       "      <th>DarajeHararatTar12_5</th>\n",
       "      <th>DarajeHararatTar18_5</th>\n",
       "      <th>NamNesbi6_5</th>\n",
       "      <th>NamNesbi12_5</th>\n",
       "      <th>NamNesbi18_5</th>\n",
       "      <th>TolGeo</th>\n",
       "      <th>ArzGeo</th>\n",
       "      <th>MaxErtefaAzDarya</th>\n",
       "      <th>MinErtefaAzDarya</th>\n",
       "      <th>KafDaryache</th>\n",
       "      <th>GonjayeshKolMakhzan</th>\n",
       "      <th>GonjayeshMofidMakhzan</th>\n",
       "    </tr>\n",
       "  </thead>\n",
       "  <tbody>\n",
       "    <tr>\n",
       "      <th>0</th>\n",
       "      <td>1</td>\n",
       "      <td>1966-05-11</td>\n",
       "      <td>1.63296</td>\n",
       "      <td>0.0</td>\n",
       "      <td>0.0</td>\n",
       "      <td>0.0</td>\n",
       "      <td>1.63296</td>\n",
       "      <td>0.22464</td>\n",
       "      <td>0</td>\n",
       "      <td>0</td>\n",
       "      <td>0</td>\n",
       "      <td>0</td>\n",
       "      <td>0.0</td>\n",
       "      <td>177.590</td>\n",
       "      <td>193.590</td>\n",
       "      <td>1607.00</td>\n",
       "      <td>155.31</td>\n",
       "      <td>1762.31</td>\n",
       "      <td>2.80800</td>\n",
       "      <td>2.80800</td>\n",
       "      <td>0</td>\n",
       "      <td>0.0</td>\n",
       "      <td>0.0</td>\n",
       "      <td>0.0</td>\n",
       "      <td>0.0</td>\n",
       "      <td>13.0</td>\n",
       "      <td>24.0</td>\n",
       "      <td>0.0</td>\n",
       "      <td>0.0</td>\n",
       "      <td>0.0</td>\n",
       "      <td>0</td>\n",
       "      <td>0.0</td>\n",
       "      <td>0.0</td>\n",
       "      <td>1</td>\n",
       "      <td>0.0</td>\n",
       "      <td>0.0</td>\n",
       "      <td>0.0</td>\n",
       "      <td>0.0</td>\n",
       "      <td>0.0</td>\n",
       "      <td>0.0</td>\n",
       "      <td>0</td>\n",
       "      <td>0</td>\n",
       "      <td>0.0</td>\n",
       "      <td>0.0</td>\n",
       "      <td>0.0</td>\n",
       "      <td>0.0</td>\n",
       "      <td>0.0</td>\n",
       "      <td>0.0</td>\n",
       "      <td>0.0</td>\n",
       "      <td>0.0</td>\n",
       "      <td>0.0</td>\n",
       "      <td>54.25563</td>\n",
       "      <td>35.252621</td>\n",
       "      <td>1765</td>\n",
       "      <td>1600</td>\n",
       "      <td>1595</td>\n",
       "      <td>183</td>\n",
       "      <td>177.3</td>\n",
       "    </tr>\n",
       "    <tr>\n",
       "      <th>1</th>\n",
       "      <td>1</td>\n",
       "      <td>1970-10-08</td>\n",
       "      <td>0.78624</td>\n",
       "      <td>0.0</td>\n",
       "      <td>0.0</td>\n",
       "      <td>0.0</td>\n",
       "      <td>0.78624</td>\n",
       "      <td>0.45792</td>\n",
       "      <td>0</td>\n",
       "      <td>0</td>\n",
       "      <td>0</td>\n",
       "      <td>0</td>\n",
       "      <td>0.0</td>\n",
       "      <td>101.726</td>\n",
       "      <td>117.726</td>\n",
       "      <td>1609.21</td>\n",
       "      <td>129.46</td>\n",
       "      <td>1738.67</td>\n",
       "      <td>0.28512</td>\n",
       "      <td>0.28512</td>\n",
       "      <td>0</td>\n",
       "      <td>0.0</td>\n",
       "      <td>0.0</td>\n",
       "      <td>0.0</td>\n",
       "      <td>0.0</td>\n",
       "      <td>15.0</td>\n",
       "      <td>27.0</td>\n",
       "      <td>0.0</td>\n",
       "      <td>0.0</td>\n",
       "      <td>0.0</td>\n",
       "      <td>0</td>\n",
       "      <td>0.0</td>\n",
       "      <td>0.0</td>\n",
       "      <td>1</td>\n",
       "      <td>0.0</td>\n",
       "      <td>0.0</td>\n",
       "      <td>0.0</td>\n",
       "      <td>0.0</td>\n",
       "      <td>0.0</td>\n",
       "      <td>0.0</td>\n",
       "      <td>0</td>\n",
       "      <td>0</td>\n",
       "      <td>0.0</td>\n",
       "      <td>0.0</td>\n",
       "      <td>0.0</td>\n",
       "      <td>0.0</td>\n",
       "      <td>0.0</td>\n",
       "      <td>0.0</td>\n",
       "      <td>0.0</td>\n",
       "      <td>0.0</td>\n",
       "      <td>0.0</td>\n",
       "      <td>54.25563</td>\n",
       "      <td>35.252621</td>\n",
       "      <td>1765</td>\n",
       "      <td>1600</td>\n",
       "      <td>1595</td>\n",
       "      <td>183</td>\n",
       "      <td>177.3</td>\n",
       "    </tr>\n",
       "  </tbody>\n",
       "</table>\n",
       "</div>"
      ],
      "text/plain": [
       "   DamId     DateRow  Torbin_out  TakhlieAbgir_out  Sarriz_out  TabKhir_out  \\\n",
       "0      1  1966-05-11     1.63296               0.0         0.0          0.0   \n",
       "1      1  1970-10-08     0.78624               0.0         0.0          0.0   \n",
       "\n",
       "   Total_out  TotalMasraf_out  TakhlieRosob_out  Cheshme_out  \\\n",
       "0    1.63296          0.22464                 0            0   \n",
       "1    0.78624          0.45792                 0            0   \n",
       "\n",
       "   NashtZehkesh_out  TakhlieKonandeTahtani_out  MasahatFeli_in  HajmMofid_in  \\\n",
       "0                 0                          0             0.0       177.590   \n",
       "1                 0                          0             0.0       101.726   \n",
       "\n",
       "   HajmKol_in  SubractSarabPayab_in  ErtefPayab_in  ErtefaSarab_in  Asli_in  \\\n",
       "0     193.590               1607.00         155.31         1762.31  2.80800   \n",
       "1     117.726               1609.21         129.46         1738.67  0.28512   \n",
       "\n",
       "   Total_in  Motefareghe_in  Barandegi_in  BareshBarf_in  AbMoadelBarf_in  \\\n",
       "0   2.80800               0           0.0            0.0              0.0   \n",
       "1   0.28512               0           0.0            0.0              0.0   \n",
       "\n",
       "   TotalAbBarfVBaran_in  MinDarajehararat_in  MaxDarajehararat_in  Tabkhir_in  \\\n",
       "0                   0.0                 13.0                 24.0         0.0   \n",
       "1                   0.0                 15.0                 27.0         0.0   \n",
       "\n",
       "   TabkhirBaEmalZarib_in  ShedatAftab_in  FesharJav_in  SoratBad_in  \\\n",
       "0                    0.0             0.0             0          0.0   \n",
       "1                    0.0             0.0             0          0.0   \n",
       "\n",
       "   JahatBad_in  VazeHava_in  HajmSeilabMCM  DebiSeilabm3c  \\\n",
       "0          0.0            1            0.0            0.0   \n",
       "1          0.0            1            0.0            0.0   \n",
       "\n",
       "   MaxSarRizDarZamanSeilab  HajmAbTakhlieAzSadBarayeSeil  \\\n",
       "0                      0.0                           0.0   \n",
       "1                      0.0                           0.0   \n",
       "\n",
       "   HajmAbTakhlieAzSadBarayPishbini  DarajeHararat6_5  DarajeHararat12_5  \\\n",
       "0                              0.0               0.0                  0   \n",
       "1                              0.0               0.0                  0   \n",
       "\n",
       "   DarajeHararat18_5  DarajeHararatKhosk6_5  DarajeHararatKhosk12_5  \\\n",
       "0                  0                    0.0                     0.0   \n",
       "1                  0                    0.0                     0.0   \n",
       "\n",
       "   DarajeHararatKhosk18_5  DarajeHararatTar6_5  DarajeHararatTar12_5  \\\n",
       "0                     0.0                  0.0                   0.0   \n",
       "1                     0.0                  0.0                   0.0   \n",
       "\n",
       "   DarajeHararatTar18_5  NamNesbi6_5  NamNesbi12_5  NamNesbi18_5    TolGeo  \\\n",
       "0                   0.0          0.0           0.0           0.0  54.25563   \n",
       "1                   0.0          0.0           0.0           0.0  54.25563   \n",
       "\n",
       "      ArzGeo  MaxErtefaAzDarya  MinErtefaAzDarya  KafDaryache  \\\n",
       "0  35.252621              1765              1600         1595   \n",
       "1  35.252621              1765              1600         1595   \n",
       "\n",
       "   GonjayeshKolMakhzan  GonjayeshMofidMakhzan  \n",
       "0                  183                  177.3  \n",
       "1                  183                  177.3  "
      ]
     },
     "execution_count": 8,
     "metadata": {},
     "output_type": "execute_result"
    }
   ],
   "source": [
    "df = pd.read_csv('../input/amirkabirdam/dam12.csv')\n",
    "df.head(2)"
   ]
  },
  {
   "cell_type": "code",
   "execution_count": 9,
   "id": "c4153c97",
   "metadata": {
    "execution": {
     "iopub.execute_input": "2024-09-28T08:30:11.125544Z",
     "iopub.status.busy": "2024-09-28T08:30:11.124662Z",
     "iopub.status.idle": "2024-09-28T08:30:11.145629Z",
     "shell.execute_reply": "2024-09-28T08:30:11.144409Z"
    },
    "papermill": {
     "duration": 0.036663,
     "end_time": "2024-09-28T08:30:11.148688",
     "exception": false,
     "start_time": "2024-09-28T08:30:11.112025",
     "status": "completed"
    },
    "tags": []
   },
   "outputs": [],
   "source": [
    "df['humidity']=df[['NamNesbi6_5', 'NamNesbi12_5','NamNesbi18_5']].mean(axis=1)\n",
    "df['daraje']= df[['MinDarajehararat_in','MaxDarajehararat_in']].mean(axis=1)"
   ]
  },
  {
   "cell_type": "code",
   "execution_count": 10,
   "id": "97b9e164",
   "metadata": {
    "execution": {
     "iopub.execute_input": "2024-09-28T08:30:11.173307Z",
     "iopub.status.busy": "2024-09-28T08:30:11.172884Z",
     "iopub.status.idle": "2024-09-28T08:30:11.201404Z",
     "shell.execute_reply": "2024-09-28T08:30:11.200310Z"
    },
    "papermill": {
     "duration": 0.043995,
     "end_time": "2024-09-28T08:30:11.204015",
     "exception": false,
     "start_time": "2024-09-28T08:30:11.160020",
     "status": "completed"
    },
    "tags": []
   },
   "outputs": [],
   "source": [
    "df['DateRow'] = pd.to_datetime(df['DateRow'])\n",
    "df = df.sort_values(by= 'DateRow')\n",
    "#df = df[df['DateRow']>'2015']\n"
   ]
  },
  {
   "cell_type": "code",
   "execution_count": 11,
   "id": "e721e641",
   "metadata": {
    "execution": {
     "iopub.execute_input": "2024-09-28T08:30:11.228011Z",
     "iopub.status.busy": "2024-09-28T08:30:11.227598Z",
     "iopub.status.idle": "2024-09-28T08:30:11.235501Z",
     "shell.execute_reply": "2024-09-28T08:30:11.234401Z"
    },
    "id": "hcVAWHdkXj-Y",
    "papermill": {
     "duration": 0.022819,
     "end_time": "2024-09-28T08:30:11.238080",
     "exception": false,
     "start_time": "2024-09-28T08:30:11.215261",
     "status": "completed"
    },
    "tags": []
   },
   "outputs": [],
   "source": [
    "target = 'Total_in'\n",
    "features = ['Barandegi_in','TotalAbBarfVBaran_in','DebiSeilabm3c','daraje','VazeHava_in','SoratBad_in' ,'humidity']\n",
    "\n",
    "df1= df[features + [target]]"
   ]
  },
  {
   "cell_type": "code",
   "execution_count": 12,
   "id": "832c308b",
   "metadata": {
    "execution": {
     "iopub.execute_input": "2024-09-28T08:30:11.263008Z",
     "iopub.status.busy": "2024-09-28T08:30:11.262592Z",
     "iopub.status.idle": "2024-09-28T08:30:11.281227Z",
     "shell.execute_reply": "2024-09-28T08:30:11.280105Z"
    },
    "papermill": {
     "duration": 0.034656,
     "end_time": "2024-09-28T08:30:11.283948",
     "exception": false,
     "start_time": "2024-09-28T08:30:11.249292",
     "status": "completed"
    },
    "tags": []
   },
   "outputs": [],
   "source": [
    "cal=['Year','month','day_of_week','day_of_year']\n",
    "\n",
    "df['Year'] = df['DateRow'].dt.year\n",
    "df['month'] = df['DateRow'].dt.month\n",
    "df['day_of_week'] = df['DateRow'].dt.dayofweek\n",
    "df['day_of_year'] = df['DateRow'].dt.dayofyear\n",
    "df.drop(columns=['DateRow'], inplace=True)"
   ]
  },
  {
   "cell_type": "code",
   "execution_count": 13,
   "id": "9b8378e8",
   "metadata": {
    "execution": {
     "iopub.execute_input": "2024-09-28T08:30:11.308367Z",
     "iopub.status.busy": "2024-09-28T08:30:11.307549Z",
     "iopub.status.idle": "2024-09-28T08:30:11.353610Z",
     "shell.execute_reply": "2024-09-28T08:30:11.352409Z"
    },
    "papermill": {
     "duration": 0.061344,
     "end_time": "2024-09-28T08:30:11.356441",
     "exception": false,
     "start_time": "2024-09-28T08:30:11.295097",
     "status": "completed"
    },
    "tags": []
   },
   "outputs": [],
   "source": [
    "climate['month']=climate['month'].astype('int32')\n",
    "df= climate.merge(df , how= 'inner' , on = ['Year', 'month'],suffixes=('_x', '_y'))"
   ]
  },
  {
   "cell_type": "code",
   "execution_count": 14,
   "id": "bd5da76e",
   "metadata": {
    "execution": {
     "iopub.execute_input": "2024-09-28T08:30:11.380883Z",
     "iopub.status.busy": "2024-09-28T08:30:11.380462Z",
     "iopub.status.idle": "2024-09-28T08:30:11.388904Z",
     "shell.execute_reply": "2024-09-28T08:30:11.387732Z"
    },
    "papermill": {
     "duration": 0.023397,
     "end_time": "2024-09-28T08:30:11.391486",
     "exception": false,
     "start_time": "2024-09-28T08:30:11.368089",
     "status": "completed"
    },
    "tags": []
   },
   "outputs": [
    {
     "data": {
      "text/plain": [
       "Index(['Year', 'month', 'soi', 'nao', 'amo', 'enso', 'soi30', 'soi60', 'soi90',\n",
       "       'soi360', 'nao30', 'nao60', 'nao90', 'nao120', 'nao150', 'nao180',\n",
       "       'nao270', 'nao360', 'amo30', 'amo60', 'amo90', 'amo360', 'enso30',\n",
       "       'enso60', 'enso90', 'enso360', 'DamId', 'Torbin_out',\n",
       "       'TakhlieAbgir_out', 'Sarriz_out', 'TabKhir_out', 'Total_out',\n",
       "       'TotalMasraf_out', 'TakhlieRosob_out', 'Cheshme_out',\n",
       "       'NashtZehkesh_out', 'TakhlieKonandeTahtani_out', 'MasahatFeli_in',\n",
       "       'HajmMofid_in', 'HajmKol_in', 'SubractSarabPayab_in', 'ErtefPayab_in',\n",
       "       'ErtefaSarab_in', 'Asli_in', 'Total_in', 'Motefareghe_in',\n",
       "       'Barandegi_in', 'BareshBarf_in', 'AbMoadelBarf_in',\n",
       "       'TotalAbBarfVBaran_in', 'MinDarajehararat_in', 'MaxDarajehararat_in',\n",
       "       'Tabkhir_in', 'TabkhirBaEmalZarib_in', 'ShedatAftab_in', 'FesharJav_in',\n",
       "       'SoratBad_in', 'JahatBad_in', 'VazeHava_in', 'HajmSeilabMCM',\n",
       "       'DebiSeilabm3c', 'MaxSarRizDarZamanSeilab',\n",
       "       'HajmAbTakhlieAzSadBarayeSeil', 'HajmAbTakhlieAzSadBarayPishbini',\n",
       "       'DarajeHararat6_5', 'DarajeHararat12_5', 'DarajeHararat18_5',\n",
       "       'DarajeHararatKhosk6_5', 'DarajeHararatKhosk12_5',\n",
       "       'DarajeHararatKhosk18_5', 'DarajeHararatTar6_5', 'DarajeHararatTar12_5',\n",
       "       'DarajeHararatTar18_5', 'NamNesbi6_5', 'NamNesbi12_5', 'NamNesbi18_5',\n",
       "       'TolGeo', 'ArzGeo', 'MaxErtefaAzDarya', 'MinErtefaAzDarya',\n",
       "       'KafDaryache', 'GonjayeshKolMakhzan', 'GonjayeshMofidMakhzan',\n",
       "       'humidity', 'daraje', 'day_of_week', 'day_of_year'],\n",
       "      dtype='object')"
      ]
     },
     "execution_count": 14,
     "metadata": {},
     "output_type": "execute_result"
    }
   ],
   "source": [
    "df.columns"
   ]
  },
  {
   "cell_type": "code",
   "execution_count": 15,
   "id": "8c4257e3",
   "metadata": {
    "execution": {
     "iopub.execute_input": "2024-09-28T08:30:11.416282Z",
     "iopub.status.busy": "2024-09-28T08:30:11.415861Z",
     "iopub.status.idle": "2024-09-28T08:30:11.422435Z",
     "shell.execute_reply": "2024-09-28T08:30:11.421180Z"
    },
    "papermill": {
     "duration": 0.022112,
     "end_time": "2024-09-28T08:30:11.424978",
     "exception": false,
     "start_time": "2024-09-28T08:30:11.402866",
     "status": "completed"
    },
    "tags": []
   },
   "outputs": [],
   "source": [
    "cli=['soi', 'nao', 'amo', 'enso', 'soi30', 'soi60', 'soi90',\n",
    "       'soi360', 'nao30', 'nao60', 'nao90', 'nao120', 'nao150', 'nao180',\n",
    "       'nao270', 'nao360', 'amo30', 'amo60', 'amo90', 'amo360', 'enso30',\n",
    "       'enso60', 'enso90', 'enso360','Year', 'month', 'day_of_week', 'day_of_year']"
   ]
  },
  {
   "cell_type": "code",
   "execution_count": 16,
   "id": "a9a986d6",
   "metadata": {
    "execution": {
     "iopub.execute_input": "2024-09-28T08:30:11.449716Z",
     "iopub.status.busy": "2024-09-28T08:30:11.448747Z",
     "iopub.status.idle": "2024-09-28T08:30:11.706837Z",
     "shell.execute_reply": "2024-09-28T08:30:11.705644Z"
    },
    "papermill": {
     "duration": 0.274705,
     "end_time": "2024-09-28T08:30:11.710948",
     "exception": false,
     "start_time": "2024-09-28T08:30:11.436243",
     "status": "completed"
    },
    "tags": []
   },
   "outputs": [
    {
     "name": "stderr",
     "output_type": "stream",
     "text": [
      "/tmp/ipykernel_18/1393968192.py:12: PerformanceWarning: DataFrame is highly fragmented.  This is usually the result of calling `frame.insert` many times, which has poor performance.  Consider joining all columns at once using pd.concat(axis=1) instead. To get a de-fragmented frame, use `newframe = frame.copy()`\n",
      "  temp[df1.columns[j]+'_rm_'+str(shift[i])],temp[df1.columns[j]+str(shift[i])] = (create_shifted_dataframe(df1,df1.columns[j], shift[i]))\n",
      "/tmp/ipykernel_18/1393968192.py:12: PerformanceWarning: DataFrame is highly fragmented.  This is usually the result of calling `frame.insert` many times, which has poor performance.  Consider joining all columns at once using pd.concat(axis=1) instead. To get a de-fragmented frame, use `newframe = frame.copy()`\n",
      "  temp[df1.columns[j]+'_rm_'+str(shift[i])],temp[df1.columns[j]+str(shift[i])] = (create_shifted_dataframe(df1,df1.columns[j], shift[i]))\n",
      "/tmp/ipykernel_18/1393968192.py:12: PerformanceWarning: DataFrame is highly fragmented.  This is usually the result of calling `frame.insert` many times, which has poor performance.  Consider joining all columns at once using pd.concat(axis=1) instead. To get a de-fragmented frame, use `newframe = frame.copy()`\n",
      "  temp[df1.columns[j]+'_rm_'+str(shift[i])],temp[df1.columns[j]+str(shift[i])] = (create_shifted_dataframe(df1,df1.columns[j], shift[i]))\n",
      "/tmp/ipykernel_18/1393968192.py:12: PerformanceWarning: DataFrame is highly fragmented.  This is usually the result of calling `frame.insert` many times, which has poor performance.  Consider joining all columns at once using pd.concat(axis=1) instead. To get a de-fragmented frame, use `newframe = frame.copy()`\n",
      "  temp[df1.columns[j]+'_rm_'+str(shift[i])],temp[df1.columns[j]+str(shift[i])] = (create_shifted_dataframe(df1,df1.columns[j], shift[i]))\n",
      "/tmp/ipykernel_18/1393968192.py:12: PerformanceWarning: DataFrame is highly fragmented.  This is usually the result of calling `frame.insert` many times, which has poor performance.  Consider joining all columns at once using pd.concat(axis=1) instead. To get a de-fragmented frame, use `newframe = frame.copy()`\n",
      "  temp[df1.columns[j]+'_rm_'+str(shift[i])],temp[df1.columns[j]+str(shift[i])] = (create_shifted_dataframe(df1,df1.columns[j], shift[i]))\n",
      "/tmp/ipykernel_18/1393968192.py:12: PerformanceWarning: DataFrame is highly fragmented.  This is usually the result of calling `frame.insert` many times, which has poor performance.  Consider joining all columns at once using pd.concat(axis=1) instead. To get a de-fragmented frame, use `newframe = frame.copy()`\n",
      "  temp[df1.columns[j]+'_rm_'+str(shift[i])],temp[df1.columns[j]+str(shift[i])] = (create_shifted_dataframe(df1,df1.columns[j], shift[i]))\n",
      "/tmp/ipykernel_18/1393968192.py:12: PerformanceWarning: DataFrame is highly fragmented.  This is usually the result of calling `frame.insert` many times, which has poor performance.  Consider joining all columns at once using pd.concat(axis=1) instead. To get a de-fragmented frame, use `newframe = frame.copy()`\n",
      "  temp[df1.columns[j]+'_rm_'+str(shift[i])],temp[df1.columns[j]+str(shift[i])] = (create_shifted_dataframe(df1,df1.columns[j], shift[i]))\n",
      "/tmp/ipykernel_18/1393968192.py:12: PerformanceWarning: DataFrame is highly fragmented.  This is usually the result of calling `frame.insert` many times, which has poor performance.  Consider joining all columns at once using pd.concat(axis=1) instead. To get a de-fragmented frame, use `newframe = frame.copy()`\n",
      "  temp[df1.columns[j]+'_rm_'+str(shift[i])],temp[df1.columns[j]+str(shift[i])] = (create_shifted_dataframe(df1,df1.columns[j], shift[i]))\n",
      "/tmp/ipykernel_18/1393968192.py:12: PerformanceWarning: DataFrame is highly fragmented.  This is usually the result of calling `frame.insert` many times, which has poor performance.  Consider joining all columns at once using pd.concat(axis=1) instead. To get a de-fragmented frame, use `newframe = frame.copy()`\n",
      "  temp[df1.columns[j]+'_rm_'+str(shift[i])],temp[df1.columns[j]+str(shift[i])] = (create_shifted_dataframe(df1,df1.columns[j], shift[i]))\n",
      "/tmp/ipykernel_18/1393968192.py:12: PerformanceWarning: DataFrame is highly fragmented.  This is usually the result of calling `frame.insert` many times, which has poor performance.  Consider joining all columns at once using pd.concat(axis=1) instead. To get a de-fragmented frame, use `newframe = frame.copy()`\n",
      "  temp[df1.columns[j]+'_rm_'+str(shift[i])],temp[df1.columns[j]+str(shift[i])] = (create_shifted_dataframe(df1,df1.columns[j], shift[i]))\n",
      "/tmp/ipykernel_18/1393968192.py:12: PerformanceWarning: DataFrame is highly fragmented.  This is usually the result of calling `frame.insert` many times, which has poor performance.  Consider joining all columns at once using pd.concat(axis=1) instead. To get a de-fragmented frame, use `newframe = frame.copy()`\n",
      "  temp[df1.columns[j]+'_rm_'+str(shift[i])],temp[df1.columns[j]+str(shift[i])] = (create_shifted_dataframe(df1,df1.columns[j], shift[i]))\n",
      "/tmp/ipykernel_18/1393968192.py:12: PerformanceWarning: DataFrame is highly fragmented.  This is usually the result of calling `frame.insert` many times, which has poor performance.  Consider joining all columns at once using pd.concat(axis=1) instead. To get a de-fragmented frame, use `newframe = frame.copy()`\n",
      "  temp[df1.columns[j]+'_rm_'+str(shift[i])],temp[df1.columns[j]+str(shift[i])] = (create_shifted_dataframe(df1,df1.columns[j], shift[i]))\n",
      "/tmp/ipykernel_18/1393968192.py:12: PerformanceWarning: DataFrame is highly fragmented.  This is usually the result of calling `frame.insert` many times, which has poor performance.  Consider joining all columns at once using pd.concat(axis=1) instead. To get a de-fragmented frame, use `newframe = frame.copy()`\n",
      "  temp[df1.columns[j]+'_rm_'+str(shift[i])],temp[df1.columns[j]+str(shift[i])] = (create_shifted_dataframe(df1,df1.columns[j], shift[i]))\n",
      "/tmp/ipykernel_18/1393968192.py:12: PerformanceWarning: DataFrame is highly fragmented.  This is usually the result of calling `frame.insert` many times, which has poor performance.  Consider joining all columns at once using pd.concat(axis=1) instead. To get a de-fragmented frame, use `newframe = frame.copy()`\n",
      "  temp[df1.columns[j]+'_rm_'+str(shift[i])],temp[df1.columns[j]+str(shift[i])] = (create_shifted_dataframe(df1,df1.columns[j], shift[i]))\n",
      "/tmp/ipykernel_18/1393968192.py:12: PerformanceWarning: DataFrame is highly fragmented.  This is usually the result of calling `frame.insert` many times, which has poor performance.  Consider joining all columns at once using pd.concat(axis=1) instead. To get a de-fragmented frame, use `newframe = frame.copy()`\n",
      "  temp[df1.columns[j]+'_rm_'+str(shift[i])],temp[df1.columns[j]+str(shift[i])] = (create_shifted_dataframe(df1,df1.columns[j], shift[i]))\n",
      "/tmp/ipykernel_18/1393968192.py:12: PerformanceWarning: DataFrame is highly fragmented.  This is usually the result of calling `frame.insert` many times, which has poor performance.  Consider joining all columns at once using pd.concat(axis=1) instead. To get a de-fragmented frame, use `newframe = frame.copy()`\n",
      "  temp[df1.columns[j]+'_rm_'+str(shift[i])],temp[df1.columns[j]+str(shift[i])] = (create_shifted_dataframe(df1,df1.columns[j], shift[i]))\n",
      "/tmp/ipykernel_18/1393968192.py:12: PerformanceWarning: DataFrame is highly fragmented.  This is usually the result of calling `frame.insert` many times, which has poor performance.  Consider joining all columns at once using pd.concat(axis=1) instead. To get a de-fragmented frame, use `newframe = frame.copy()`\n",
      "  temp[df1.columns[j]+'_rm_'+str(shift[i])],temp[df1.columns[j]+str(shift[i])] = (create_shifted_dataframe(df1,df1.columns[j], shift[i]))\n",
      "/tmp/ipykernel_18/1393968192.py:12: PerformanceWarning: DataFrame is highly fragmented.  This is usually the result of calling `frame.insert` many times, which has poor performance.  Consider joining all columns at once using pd.concat(axis=1) instead. To get a de-fragmented frame, use `newframe = frame.copy()`\n",
      "  temp[df1.columns[j]+'_rm_'+str(shift[i])],temp[df1.columns[j]+str(shift[i])] = (create_shifted_dataframe(df1,df1.columns[j], shift[i]))\n",
      "/tmp/ipykernel_18/1393968192.py:12: PerformanceWarning: DataFrame is highly fragmented.  This is usually the result of calling `frame.insert` many times, which has poor performance.  Consider joining all columns at once using pd.concat(axis=1) instead. To get a de-fragmented frame, use `newframe = frame.copy()`\n",
      "  temp[df1.columns[j]+'_rm_'+str(shift[i])],temp[df1.columns[j]+str(shift[i])] = (create_shifted_dataframe(df1,df1.columns[j], shift[i]))\n",
      "/tmp/ipykernel_18/1393968192.py:12: PerformanceWarning: DataFrame is highly fragmented.  This is usually the result of calling `frame.insert` many times, which has poor performance.  Consider joining all columns at once using pd.concat(axis=1) instead. To get a de-fragmented frame, use `newframe = frame.copy()`\n",
      "  temp[df1.columns[j]+'_rm_'+str(shift[i])],temp[df1.columns[j]+str(shift[i])] = (create_shifted_dataframe(df1,df1.columns[j], shift[i]))\n",
      "/tmp/ipykernel_18/1393968192.py:12: PerformanceWarning: DataFrame is highly fragmented.  This is usually the result of calling `frame.insert` many times, which has poor performance.  Consider joining all columns at once using pd.concat(axis=1) instead. To get a de-fragmented frame, use `newframe = frame.copy()`\n",
      "  temp[df1.columns[j]+'_rm_'+str(shift[i])],temp[df1.columns[j]+str(shift[i])] = (create_shifted_dataframe(df1,df1.columns[j], shift[i]))\n",
      "/tmp/ipykernel_18/1393968192.py:12: PerformanceWarning: DataFrame is highly fragmented.  This is usually the result of calling `frame.insert` many times, which has poor performance.  Consider joining all columns at once using pd.concat(axis=1) instead. To get a de-fragmented frame, use `newframe = frame.copy()`\n",
      "  temp[df1.columns[j]+'_rm_'+str(shift[i])],temp[df1.columns[j]+str(shift[i])] = (create_shifted_dataframe(df1,df1.columns[j], shift[i]))\n",
      "/tmp/ipykernel_18/1393968192.py:12: PerformanceWarning: DataFrame is highly fragmented.  This is usually the result of calling `frame.insert` many times, which has poor performance.  Consider joining all columns at once using pd.concat(axis=1) instead. To get a de-fragmented frame, use `newframe = frame.copy()`\n",
      "  temp[df1.columns[j]+'_rm_'+str(shift[i])],temp[df1.columns[j]+str(shift[i])] = (create_shifted_dataframe(df1,df1.columns[j], shift[i]))\n",
      "/tmp/ipykernel_18/1393968192.py:12: PerformanceWarning: DataFrame is highly fragmented.  This is usually the result of calling `frame.insert` many times, which has poor performance.  Consider joining all columns at once using pd.concat(axis=1) instead. To get a de-fragmented frame, use `newframe = frame.copy()`\n",
      "  temp[df1.columns[j]+'_rm_'+str(shift[i])],temp[df1.columns[j]+str(shift[i])] = (create_shifted_dataframe(df1,df1.columns[j], shift[i]))\n",
      "/tmp/ipykernel_18/1393968192.py:12: PerformanceWarning: DataFrame is highly fragmented.  This is usually the result of calling `frame.insert` many times, which has poor performance.  Consider joining all columns at once using pd.concat(axis=1) instead. To get a de-fragmented frame, use `newframe = frame.copy()`\n",
      "  temp[df1.columns[j]+'_rm_'+str(shift[i])],temp[df1.columns[j]+str(shift[i])] = (create_shifted_dataframe(df1,df1.columns[j], shift[i]))\n",
      "/tmp/ipykernel_18/1393968192.py:12: PerformanceWarning: DataFrame is highly fragmented.  This is usually the result of calling `frame.insert` many times, which has poor performance.  Consider joining all columns at once using pd.concat(axis=1) instead. To get a de-fragmented frame, use `newframe = frame.copy()`\n",
      "  temp[df1.columns[j]+'_rm_'+str(shift[i])],temp[df1.columns[j]+str(shift[i])] = (create_shifted_dataframe(df1,df1.columns[j], shift[i]))\n",
      "/tmp/ipykernel_18/1393968192.py:12: PerformanceWarning: DataFrame is highly fragmented.  This is usually the result of calling `frame.insert` many times, which has poor performance.  Consider joining all columns at once using pd.concat(axis=1) instead. To get a de-fragmented frame, use `newframe = frame.copy()`\n",
      "  temp[df1.columns[j]+'_rm_'+str(shift[i])],temp[df1.columns[j]+str(shift[i])] = (create_shifted_dataframe(df1,df1.columns[j], shift[i]))\n",
      "/tmp/ipykernel_18/1393968192.py:12: PerformanceWarning: DataFrame is highly fragmented.  This is usually the result of calling `frame.insert` many times, which has poor performance.  Consider joining all columns at once using pd.concat(axis=1) instead. To get a de-fragmented frame, use `newframe = frame.copy()`\n",
      "  temp[df1.columns[j]+'_rm_'+str(shift[i])],temp[df1.columns[j]+str(shift[i])] = (create_shifted_dataframe(df1,df1.columns[j], shift[i]))\n",
      "/tmp/ipykernel_18/1393968192.py:12: PerformanceWarning: DataFrame is highly fragmented.  This is usually the result of calling `frame.insert` many times, which has poor performance.  Consider joining all columns at once using pd.concat(axis=1) instead. To get a de-fragmented frame, use `newframe = frame.copy()`\n",
      "  temp[df1.columns[j]+'_rm_'+str(shift[i])],temp[df1.columns[j]+str(shift[i])] = (create_shifted_dataframe(df1,df1.columns[j], shift[i]))\n",
      "/tmp/ipykernel_18/1393968192.py:12: PerformanceWarning: DataFrame is highly fragmented.  This is usually the result of calling `frame.insert` many times, which has poor performance.  Consider joining all columns at once using pd.concat(axis=1) instead. To get a de-fragmented frame, use `newframe = frame.copy()`\n",
      "  temp[df1.columns[j]+'_rm_'+str(shift[i])],temp[df1.columns[j]+str(shift[i])] = (create_shifted_dataframe(df1,df1.columns[j], shift[i]))\n",
      "/tmp/ipykernel_18/1393968192.py:12: PerformanceWarning: DataFrame is highly fragmented.  This is usually the result of calling `frame.insert` many times, which has poor performance.  Consider joining all columns at once using pd.concat(axis=1) instead. To get a de-fragmented frame, use `newframe = frame.copy()`\n",
      "  temp[df1.columns[j]+'_rm_'+str(shift[i])],temp[df1.columns[j]+str(shift[i])] = (create_shifted_dataframe(df1,df1.columns[j], shift[i]))\n",
      "/tmp/ipykernel_18/1393968192.py:12: PerformanceWarning: DataFrame is highly fragmented.  This is usually the result of calling `frame.insert` many times, which has poor performance.  Consider joining all columns at once using pd.concat(axis=1) instead. To get a de-fragmented frame, use `newframe = frame.copy()`\n",
      "  temp[df1.columns[j]+'_rm_'+str(shift[i])],temp[df1.columns[j]+str(shift[i])] = (create_shifted_dataframe(df1,df1.columns[j], shift[i]))\n",
      "/tmp/ipykernel_18/1393968192.py:12: PerformanceWarning: DataFrame is highly fragmented.  This is usually the result of calling `frame.insert` many times, which has poor performance.  Consider joining all columns at once using pd.concat(axis=1) instead. To get a de-fragmented frame, use `newframe = frame.copy()`\n",
      "  temp[df1.columns[j]+'_rm_'+str(shift[i])],temp[df1.columns[j]+str(shift[i])] = (create_shifted_dataframe(df1,df1.columns[j], shift[i]))\n",
      "/tmp/ipykernel_18/1393968192.py:12: PerformanceWarning: DataFrame is highly fragmented.  This is usually the result of calling `frame.insert` many times, which has poor performance.  Consider joining all columns at once using pd.concat(axis=1) instead. To get a de-fragmented frame, use `newframe = frame.copy()`\n",
      "  temp[df1.columns[j]+'_rm_'+str(shift[i])],temp[df1.columns[j]+str(shift[i])] = (create_shifted_dataframe(df1,df1.columns[j], shift[i]))\n",
      "/tmp/ipykernel_18/1393968192.py:12: PerformanceWarning: DataFrame is highly fragmented.  This is usually the result of calling `frame.insert` many times, which has poor performance.  Consider joining all columns at once using pd.concat(axis=1) instead. To get a de-fragmented frame, use `newframe = frame.copy()`\n",
      "  temp[df1.columns[j]+'_rm_'+str(shift[i])],temp[df1.columns[j]+str(shift[i])] = (create_shifted_dataframe(df1,df1.columns[j], shift[i]))\n",
      "/tmp/ipykernel_18/1393968192.py:12: PerformanceWarning: DataFrame is highly fragmented.  This is usually the result of calling `frame.insert` many times, which has poor performance.  Consider joining all columns at once using pd.concat(axis=1) instead. To get a de-fragmented frame, use `newframe = frame.copy()`\n",
      "  temp[df1.columns[j]+'_rm_'+str(shift[i])],temp[df1.columns[j]+str(shift[i])] = (create_shifted_dataframe(df1,df1.columns[j], shift[i]))\n",
      "/tmp/ipykernel_18/1393968192.py:12: PerformanceWarning: DataFrame is highly fragmented.  This is usually the result of calling `frame.insert` many times, which has poor performance.  Consider joining all columns at once using pd.concat(axis=1) instead. To get a de-fragmented frame, use `newframe = frame.copy()`\n",
      "  temp[df1.columns[j]+'_rm_'+str(shift[i])],temp[df1.columns[j]+str(shift[i])] = (create_shifted_dataframe(df1,df1.columns[j], shift[i]))\n",
      "/tmp/ipykernel_18/1393968192.py:12: PerformanceWarning: DataFrame is highly fragmented.  This is usually the result of calling `frame.insert` many times, which has poor performance.  Consider joining all columns at once using pd.concat(axis=1) instead. To get a de-fragmented frame, use `newframe = frame.copy()`\n",
      "  temp[df1.columns[j]+'_rm_'+str(shift[i])],temp[df1.columns[j]+str(shift[i])] = (create_shifted_dataframe(df1,df1.columns[j], shift[i]))\n",
      "/tmp/ipykernel_18/1393968192.py:12: PerformanceWarning: DataFrame is highly fragmented.  This is usually the result of calling `frame.insert` many times, which has poor performance.  Consider joining all columns at once using pd.concat(axis=1) instead. To get a de-fragmented frame, use `newframe = frame.copy()`\n",
      "  temp[df1.columns[j]+'_rm_'+str(shift[i])],temp[df1.columns[j]+str(shift[i])] = (create_shifted_dataframe(df1,df1.columns[j], shift[i]))\n",
      "/tmp/ipykernel_18/1393968192.py:12: PerformanceWarning: DataFrame is highly fragmented.  This is usually the result of calling `frame.insert` many times, which has poor performance.  Consider joining all columns at once using pd.concat(axis=1) instead. To get a de-fragmented frame, use `newframe = frame.copy()`\n",
      "  temp[df1.columns[j]+'_rm_'+str(shift[i])],temp[df1.columns[j]+str(shift[i])] = (create_shifted_dataframe(df1,df1.columns[j], shift[i]))\n",
      "/tmp/ipykernel_18/1393968192.py:12: PerformanceWarning: DataFrame is highly fragmented.  This is usually the result of calling `frame.insert` many times, which has poor performance.  Consider joining all columns at once using pd.concat(axis=1) instead. To get a de-fragmented frame, use `newframe = frame.copy()`\n",
      "  temp[df1.columns[j]+'_rm_'+str(shift[i])],temp[df1.columns[j]+str(shift[i])] = (create_shifted_dataframe(df1,df1.columns[j], shift[i]))\n",
      "/tmp/ipykernel_18/1393968192.py:12: PerformanceWarning: DataFrame is highly fragmented.  This is usually the result of calling `frame.insert` many times, which has poor performance.  Consider joining all columns at once using pd.concat(axis=1) instead. To get a de-fragmented frame, use `newframe = frame.copy()`\n",
      "  temp[df1.columns[j]+'_rm_'+str(shift[i])],temp[df1.columns[j]+str(shift[i])] = (create_shifted_dataframe(df1,df1.columns[j], shift[i]))\n",
      "/tmp/ipykernel_18/1393968192.py:12: PerformanceWarning: DataFrame is highly fragmented.  This is usually the result of calling `frame.insert` many times, which has poor performance.  Consider joining all columns at once using pd.concat(axis=1) instead. To get a de-fragmented frame, use `newframe = frame.copy()`\n",
      "  temp[df1.columns[j]+'_rm_'+str(shift[i])],temp[df1.columns[j]+str(shift[i])] = (create_shifted_dataframe(df1,df1.columns[j], shift[i]))\n",
      "/tmp/ipykernel_18/1393968192.py:12: PerformanceWarning: DataFrame is highly fragmented.  This is usually the result of calling `frame.insert` many times, which has poor performance.  Consider joining all columns at once using pd.concat(axis=1) instead. To get a de-fragmented frame, use `newframe = frame.copy()`\n",
      "  temp[df1.columns[j]+'_rm_'+str(shift[i])],temp[df1.columns[j]+str(shift[i])] = (create_shifted_dataframe(df1,df1.columns[j], shift[i]))\n",
      "/tmp/ipykernel_18/1393968192.py:12: PerformanceWarning: DataFrame is highly fragmented.  This is usually the result of calling `frame.insert` many times, which has poor performance.  Consider joining all columns at once using pd.concat(axis=1) instead. To get a de-fragmented frame, use `newframe = frame.copy()`\n",
      "  temp[df1.columns[j]+'_rm_'+str(shift[i])],temp[df1.columns[j]+str(shift[i])] = (create_shifted_dataframe(df1,df1.columns[j], shift[i]))\n",
      "/tmp/ipykernel_18/1393968192.py:12: PerformanceWarning: DataFrame is highly fragmented.  This is usually the result of calling `frame.insert` many times, which has poor performance.  Consider joining all columns at once using pd.concat(axis=1) instead. To get a de-fragmented frame, use `newframe = frame.copy()`\n",
      "  temp[df1.columns[j]+'_rm_'+str(shift[i])],temp[df1.columns[j]+str(shift[i])] = (create_shifted_dataframe(df1,df1.columns[j], shift[i]))\n",
      "/tmp/ipykernel_18/1393968192.py:12: PerformanceWarning: DataFrame is highly fragmented.  This is usually the result of calling `frame.insert` many times, which has poor performance.  Consider joining all columns at once using pd.concat(axis=1) instead. To get a de-fragmented frame, use `newframe = frame.copy()`\n",
      "  temp[df1.columns[j]+'_rm_'+str(shift[i])],temp[df1.columns[j]+str(shift[i])] = (create_shifted_dataframe(df1,df1.columns[j], shift[i]))\n",
      "/tmp/ipykernel_18/1393968192.py:12: PerformanceWarning: DataFrame is highly fragmented.  This is usually the result of calling `frame.insert` many times, which has poor performance.  Consider joining all columns at once using pd.concat(axis=1) instead. To get a de-fragmented frame, use `newframe = frame.copy()`\n",
      "  temp[df1.columns[j]+'_rm_'+str(shift[i])],temp[df1.columns[j]+str(shift[i])] = (create_shifted_dataframe(df1,df1.columns[j], shift[i]))\n",
      "/tmp/ipykernel_18/1393968192.py:12: PerformanceWarning: DataFrame is highly fragmented.  This is usually the result of calling `frame.insert` many times, which has poor performance.  Consider joining all columns at once using pd.concat(axis=1) instead. To get a de-fragmented frame, use `newframe = frame.copy()`\n",
      "  temp[df1.columns[j]+'_rm_'+str(shift[i])],temp[df1.columns[j]+str(shift[i])] = (create_shifted_dataframe(df1,df1.columns[j], shift[i]))\n",
      "/tmp/ipykernel_18/1393968192.py:12: PerformanceWarning: DataFrame is highly fragmented.  This is usually the result of calling `frame.insert` many times, which has poor performance.  Consider joining all columns at once using pd.concat(axis=1) instead. To get a de-fragmented frame, use `newframe = frame.copy()`\n",
      "  temp[df1.columns[j]+'_rm_'+str(shift[i])],temp[df1.columns[j]+str(shift[i])] = (create_shifted_dataframe(df1,df1.columns[j], shift[i]))\n",
      "/tmp/ipykernel_18/1393968192.py:12: PerformanceWarning: DataFrame is highly fragmented.  This is usually the result of calling `frame.insert` many times, which has poor performance.  Consider joining all columns at once using pd.concat(axis=1) instead. To get a de-fragmented frame, use `newframe = frame.copy()`\n",
      "  temp[df1.columns[j]+'_rm_'+str(shift[i])],temp[df1.columns[j]+str(shift[i])] = (create_shifted_dataframe(df1,df1.columns[j], shift[i]))\n",
      "/tmp/ipykernel_18/1393968192.py:12: PerformanceWarning: DataFrame is highly fragmented.  This is usually the result of calling `frame.insert` many times, which has poor performance.  Consider joining all columns at once using pd.concat(axis=1) instead. To get a de-fragmented frame, use `newframe = frame.copy()`\n",
      "  temp[df1.columns[j]+'_rm_'+str(shift[i])],temp[df1.columns[j]+str(shift[i])] = (create_shifted_dataframe(df1,df1.columns[j], shift[i]))\n",
      "/tmp/ipykernel_18/1393968192.py:12: PerformanceWarning: DataFrame is highly fragmented.  This is usually the result of calling `frame.insert` many times, which has poor performance.  Consider joining all columns at once using pd.concat(axis=1) instead. To get a de-fragmented frame, use `newframe = frame.copy()`\n",
      "  temp[df1.columns[j]+'_rm_'+str(shift[i])],temp[df1.columns[j]+str(shift[i])] = (create_shifted_dataframe(df1,df1.columns[j], shift[i]))\n",
      "/tmp/ipykernel_18/1393968192.py:12: PerformanceWarning: DataFrame is highly fragmented.  This is usually the result of calling `frame.insert` many times, which has poor performance.  Consider joining all columns at once using pd.concat(axis=1) instead. To get a de-fragmented frame, use `newframe = frame.copy()`\n",
      "  temp[df1.columns[j]+'_rm_'+str(shift[i])],temp[df1.columns[j]+str(shift[i])] = (create_shifted_dataframe(df1,df1.columns[j], shift[i]))\n",
      "/tmp/ipykernel_18/1393968192.py:12: PerformanceWarning: DataFrame is highly fragmented.  This is usually the result of calling `frame.insert` many times, which has poor performance.  Consider joining all columns at once using pd.concat(axis=1) instead. To get a de-fragmented frame, use `newframe = frame.copy()`\n",
      "  temp[df1.columns[j]+'_rm_'+str(shift[i])],temp[df1.columns[j]+str(shift[i])] = (create_shifted_dataframe(df1,df1.columns[j], shift[i]))\n",
      "/tmp/ipykernel_18/1393968192.py:12: PerformanceWarning: DataFrame is highly fragmented.  This is usually the result of calling `frame.insert` many times, which has poor performance.  Consider joining all columns at once using pd.concat(axis=1) instead. To get a de-fragmented frame, use `newframe = frame.copy()`\n",
      "  temp[df1.columns[j]+'_rm_'+str(shift[i])],temp[df1.columns[j]+str(shift[i])] = (create_shifted_dataframe(df1,df1.columns[j], shift[i]))\n",
      "/tmp/ipykernel_18/1393968192.py:12: PerformanceWarning: DataFrame is highly fragmented.  This is usually the result of calling `frame.insert` many times, which has poor performance.  Consider joining all columns at once using pd.concat(axis=1) instead. To get a de-fragmented frame, use `newframe = frame.copy()`\n",
      "  temp[df1.columns[j]+'_rm_'+str(shift[i])],temp[df1.columns[j]+str(shift[i])] = (create_shifted_dataframe(df1,df1.columns[j], shift[i]))\n",
      "/tmp/ipykernel_18/1393968192.py:12: PerformanceWarning: DataFrame is highly fragmented.  This is usually the result of calling `frame.insert` many times, which has poor performance.  Consider joining all columns at once using pd.concat(axis=1) instead. To get a de-fragmented frame, use `newframe = frame.copy()`\n",
      "  temp[df1.columns[j]+'_rm_'+str(shift[i])],temp[df1.columns[j]+str(shift[i])] = (create_shifted_dataframe(df1,df1.columns[j], shift[i]))\n",
      "/tmp/ipykernel_18/1393968192.py:12: PerformanceWarning: DataFrame is highly fragmented.  This is usually the result of calling `frame.insert` many times, which has poor performance.  Consider joining all columns at once using pd.concat(axis=1) instead. To get a de-fragmented frame, use `newframe = frame.copy()`\n",
      "  temp[df1.columns[j]+'_rm_'+str(shift[i])],temp[df1.columns[j]+str(shift[i])] = (create_shifted_dataframe(df1,df1.columns[j], shift[i]))\n",
      "/tmp/ipykernel_18/1393968192.py:12: PerformanceWarning: DataFrame is highly fragmented.  This is usually the result of calling `frame.insert` many times, which has poor performance.  Consider joining all columns at once using pd.concat(axis=1) instead. To get a de-fragmented frame, use `newframe = frame.copy()`\n",
      "  temp[df1.columns[j]+'_rm_'+str(shift[i])],temp[df1.columns[j]+str(shift[i])] = (create_shifted_dataframe(df1,df1.columns[j], shift[i]))\n"
     ]
    }
   ],
   "source": [
    "shift=[1,2,7,30,90,120,150,180,270,365]\n",
    "temp=pd.DataFrame()\n",
    "def create_shifted_dataframe(df, column_name, shift_period):\n",
    "    shifted_column = df[column_name].shift(periods=shift_period)\n",
    "    r_column_m= df[column_name].shift(periods=1).rolling(window=shift_period).mean()\n",
    "    shift_df = pd.DataFrame({f\"{column_name}_{shift_period}\": shifted_column})\n",
    "    roll_df = pd.DataFrame({f\"{column_name}_{shift_period}\": r_column_m})\n",
    "    return (shift_df,roll_df)\n",
    "\n",
    "for i in range (len (shift)):\n",
    "    for j in range(len (df[features + [target]].columns)):\n",
    "        temp[df1.columns[j]+'_rm_'+str(shift[i])],temp[df1.columns[j]+str(shift[i])] = (create_shifted_dataframe(df1,df1.columns[j], shift[i]))\n",
    "\n",
    "final=pd.concat([df1,temp,df[cli]] , axis=1)       "
   ]
  },
  {
   "cell_type": "code",
   "execution_count": 17,
   "id": "872b41ad",
   "metadata": {
    "execution": {
     "iopub.execute_input": "2024-09-28T08:30:11.736656Z",
     "iopub.status.busy": "2024-09-28T08:30:11.735904Z",
     "iopub.status.idle": "2024-09-28T08:30:11.746088Z",
     "shell.execute_reply": "2024-09-28T08:30:11.745172Z"
    },
    "papermill": {
     "duration": 0.025684,
     "end_time": "2024-09-28T08:30:11.748629",
     "exception": false,
     "start_time": "2024-09-28T08:30:11.722945",
     "status": "completed"
    },
    "tags": []
   },
   "outputs": [],
   "source": [
    "final=final[final['Year']>=2015]"
   ]
  },
  {
   "cell_type": "code",
   "execution_count": 18,
   "id": "e126974b",
   "metadata": {
    "execution": {
     "iopub.execute_input": "2024-09-28T08:30:11.774570Z",
     "iopub.status.busy": "2024-09-28T08:30:11.773662Z",
     "iopub.status.idle": "2024-09-28T08:30:11.781904Z",
     "shell.execute_reply": "2024-09-28T08:30:11.780516Z"
    },
    "id": "vOsz_xHllcBj",
    "papermill": {
     "duration": 0.023957,
     "end_time": "2024-09-28T08:30:11.784443",
     "exception": false,
     "start_time": "2024-09-28T08:30:11.760486",
     "status": "completed"
    },
    "tags": []
   },
   "outputs": [],
   "source": [
    "\n",
    "y=final[target]\n",
    "\n",
    "x = final. drop(target,axis=1)"
   ]
  },
  {
   "cell_type": "code",
   "execution_count": 19,
   "id": "524e5f4d",
   "metadata": {
    "execution": {
     "iopub.execute_input": "2024-09-28T08:30:11.809747Z",
     "iopub.status.busy": "2024-09-28T08:30:11.809358Z",
     "iopub.status.idle": "2024-09-28T08:31:24.265182Z",
     "shell.execute_reply": "2024-09-28T08:31:24.264182Z"
    },
    "papermill": {
     "duration": 72.476723,
     "end_time": "2024-09-28T08:31:24.273006",
     "exception": false,
     "start_time": "2024-09-28T08:30:11.796283",
     "status": "completed"
    },
    "tags": []
   },
   "outputs": [
    {
     "name": "stdout",
     "output_type": "stream",
     "text": [
      "rmsetrain: 0.04253181036064294 rmsetest 0.3105187516422351\n",
      "r2train: 0.9987154974289864 r2test: 0.9142774212926055\n"
     ]
    }
   ],
   "source": [
    "tscv = TimeSeriesSplit(n_splits = 10)\n",
    "test_rmse = []\n",
    "train_rmse= []\n",
    "test_r2 = []\n",
    "train_r2=[]\n",
    "i=0\n",
    "for train_index, test_index in tscv.split(x):\n",
    "    i+=1\n",
    "    X_train, X_test = x.iloc[train_index], x.iloc[test_index]\n",
    "    Y_train, Y_test = y.iloc[train_index], y.iloc[test_index]\n",
    "    if i>=6:\n",
    "        \n",
    "        model = xgb.XGBRegressor(n_estimators=440, learning_rate=0.01,  max_depth= 9, colsample_bytree= 0.6)\n",
    "        \n",
    "        model.fit(X_train,Y_train)\n",
    "\n",
    "    # Predictions\n",
    "        test_predict = model.predict(X_test)\n",
    "        train_predict = model.predict(X_train)\n",
    "        \n",
    "        test_rmse.append ( np.sqrt(mean_squared_error(Y_test, test_predict)))\n",
    "        train_rmse.append ( np.sqrt(mean_squared_error(Y_train, train_predict)))\n",
    "        \n",
    "        test_r2 .append ( r2_score(Y_test, test_predict))\n",
    "        train_r2 .append ( r2_score(Y_train, train_predict))\n",
    "        \n",
    "print(\"rmsetrain:\",np.mean(train_rmse),\"rmsetest\",np.mean(test_rmse))\n",
    "print (\"r2train:\",np.mean(train_r2),'r2test:',np.mean(test_r2) )\n",
    "\n",
    "\n",
    "\n"
   ]
  },
  {
   "cell_type": "code",
   "execution_count": 20,
   "id": "0b157b4a",
   "metadata": {
    "execution": {
     "iopub.execute_input": "2024-09-28T08:31:24.299007Z",
     "iopub.status.busy": "2024-09-28T08:31:24.298326Z",
     "iopub.status.idle": "2024-09-28T08:31:27.447263Z",
     "shell.execute_reply": "2024-09-28T08:31:27.446011Z"
    },
    "papermill": {
     "duration": 3.167275,
     "end_time": "2024-09-28T08:31:27.452295",
     "exception": false,
     "start_time": "2024-09-28T08:31:24.285020",
     "status": "completed"
    },
    "tags": []
   },
   "outputs": [
    {
     "data": {
      "image/png": "[encoded data removed]",
      "text/plain": [
       "<Figure size 800x600 with 1 Axes>"
      ]
     },
     "metadata": {},
     "output_type": "display_data"
    }
   ],
   "source": [
    "\n",
    "imp = pd.DataFrame({'Importance':model.feature_importances_,'Feature':x.columns})\n",
    "plt.figure(figsize=(8, 6))\n",
    "sns.set(font_scale = 1)\n",
    "sns.barplot(x=\"Importance\", y=\"Feature\", data=imp.sort_values(by=\"Importance\", ascending=False))\n",
    "plt.title('LightGBM Features')\n",
    "plt.tight_layout()\n",
    "plt.show()"
   ]
  },
  {
   "cell_type": "code",
   "execution_count": 21,
   "id": "cbe8ab57",
   "metadata": {
    "execution": {
     "iopub.execute_input": "2024-09-28T08:31:27.485937Z",
     "iopub.status.busy": "2024-09-28T08:31:27.485504Z",
     "iopub.status.idle": "2024-09-28T08:31:27.505329Z",
     "shell.execute_reply": "2024-09-28T08:31:27.504045Z"
    },
    "papermill": {
     "duration": 0.039857,
     "end_time": "2024-09-28T08:31:27.508159",
     "exception": false,
     "start_time": "2024-09-28T08:31:27.468302",
     "status": "completed"
    },
    "tags": []
   },
   "outputs": [
    {
     "data": {
      "text/html": [
       "<div>\n",
       "<style scoped>\n",
       "    .dataframe tbody tr th:only-of-type {\n",
       "        vertical-align: middle;\n",
       "    }\n",
       "\n",
       "    .dataframe tbody tr th {\n",
       "        vertical-align: top;\n",
       "    }\n",
       "\n",
       "    .dataframe thead th {\n",
       "        text-align: right;\n",
       "    }\n",
       "</style>\n",
       "<table border=\"1\" class=\"dataframe\">\n",
       "  <thead>\n",
       "    <tr style=\"text-align: right;\">\n",
       "      <th></th>\n",
       "      <th>Importance</th>\n",
       "      <th>Feature</th>\n",
       "    </tr>\n",
       "  </thead>\n",
       "  <tbody>\n",
       "    <tr>\n",
       "      <th>22</th>\n",
       "      <td>0.307257</td>\n",
       "      <td>Total_in1</td>\n",
       "    </tr>\n",
       "    <tr>\n",
       "      <th>21</th>\n",
       "      <td>0.289764</td>\n",
       "      <td>Total_in_rm_1</td>\n",
       "    </tr>\n",
       "    <tr>\n",
       "      <th>38</th>\n",
       "      <td>0.106644</td>\n",
       "      <td>Total_in2</td>\n",
       "    </tr>\n",
       "    <tr>\n",
       "      <th>37</th>\n",
       "      <td>0.055840</td>\n",
       "      <td>Total_in_rm_2</td>\n",
       "    </tr>\n",
       "    <tr>\n",
       "      <th>2</th>\n",
       "      <td>0.046111</td>\n",
       "      <td>DebiSeilabm3c</td>\n",
       "    </tr>\n",
       "    <tr>\n",
       "      <th>54</th>\n",
       "      <td>0.013199</td>\n",
       "      <td>Total_in7</td>\n",
       "    </tr>\n",
       "    <tr>\n",
       "      <th>53</th>\n",
       "      <td>0.009709</td>\n",
       "      <td>Total_in_rm_7</td>\n",
       "    </tr>\n",
       "    <tr>\n",
       "      <th>0</th>\n",
       "      <td>0.007676</td>\n",
       "      <td>Barandegi_in</td>\n",
       "    </tr>\n",
       "    <tr>\n",
       "      <th>1</th>\n",
       "      <td>0.005950</td>\n",
       "      <td>TotalAbBarfVBaran_in</td>\n",
       "    </tr>\n",
       "    <tr>\n",
       "      <th>70</th>\n",
       "      <td>0.004952</td>\n",
       "      <td>Total_in30</td>\n",
       "    </tr>\n",
       "    <tr>\n",
       "      <th>74</th>\n",
       "      <td>0.004834</td>\n",
       "      <td>TotalAbBarfVBaran_in90</td>\n",
       "    </tr>\n",
       "    <tr>\n",
       "      <th>15</th>\n",
       "      <td>0.004555</td>\n",
       "      <td>VazeHava_in_rm_1</td>\n",
       "    </tr>\n",
       "    <tr>\n",
       "      <th>16</th>\n",
       "      <td>0.004328</td>\n",
       "      <td>VazeHava_in1</td>\n",
       "    </tr>\n",
       "    <tr>\n",
       "      <th>168</th>\n",
       "      <td>0.004130</td>\n",
       "      <td>nao</td>\n",
       "    </tr>\n",
       "    <tr>\n",
       "      <th>85</th>\n",
       "      <td>0.004085</td>\n",
       "      <td>Total_in_rm_90</td>\n",
       "    </tr>\n",
       "    <tr>\n",
       "      <th>112</th>\n",
       "      <td>0.004014</td>\n",
       "      <td>VazeHava_in150</td>\n",
       "    </tr>\n",
       "    <tr>\n",
       "      <th>128</th>\n",
       "      <td>0.003994</td>\n",
       "      <td>VazeHava_in180</td>\n",
       "    </tr>\n",
       "    <tr>\n",
       "      <th>55</th>\n",
       "      <td>0.003894</td>\n",
       "      <td>Barandegi_in_rm_30</td>\n",
       "    </tr>\n",
       "    <tr>\n",
       "      <th>154</th>\n",
       "      <td>0.003810</td>\n",
       "      <td>TotalAbBarfVBaran_in365</td>\n",
       "    </tr>\n",
       "    <tr>\n",
       "      <th>171</th>\n",
       "      <td>0.003686</td>\n",
       "      <td>soi30</td>\n",
       "    </tr>\n",
       "    <tr>\n",
       "      <th>165</th>\n",
       "      <td>0.003215</td>\n",
       "      <td>Total_in_rm_365</td>\n",
       "    </tr>\n",
       "    <tr>\n",
       "      <th>150</th>\n",
       "      <td>0.002764</td>\n",
       "      <td>Total_in270</td>\n",
       "    </tr>\n",
       "    <tr>\n",
       "      <th>27</th>\n",
       "      <td>0.002547</td>\n",
       "      <td>DebiSeilabm3c_rm_2</td>\n",
       "    </tr>\n",
       "    <tr>\n",
       "      <th>61</th>\n",
       "      <td>0.002483</td>\n",
       "      <td>daraje_rm_30</td>\n",
       "    </tr>\n",
       "    <tr>\n",
       "      <th>156</th>\n",
       "      <td>0.002240</td>\n",
       "      <td>DebiSeilabm3c365</td>\n",
       "    </tr>\n",
       "    <tr>\n",
       "      <th>122</th>\n",
       "      <td>0.002225</td>\n",
       "      <td>TotalAbBarfVBaran_in180</td>\n",
       "    </tr>\n",
       "    <tr>\n",
       "      <th>28</th>\n",
       "      <td>0.002044</td>\n",
       "      <td>DebiSeilabm3c2</td>\n",
       "    </tr>\n",
       "    <tr>\n",
       "      <th>56</th>\n",
       "      <td>0.002034</td>\n",
       "      <td>Barandegi_in30</td>\n",
       "    </tr>\n",
       "    <tr>\n",
       "      <th>62</th>\n",
       "      <td>0.001976</td>\n",
       "      <td>daraje30</td>\n",
       "    </tr>\n",
       "    <tr>\n",
       "      <th>8</th>\n",
       "      <td>0.001917</td>\n",
       "      <td>Barandegi_in1</td>\n",
       "    </tr>\n",
       "  </tbody>\n",
       "</table>\n",
       "</div>"
      ],
      "text/plain": [
       "     Importance                  Feature\n",
       "22     0.307257                Total_in1\n",
       "21     0.289764            Total_in_rm_1\n",
       "38     0.106644                Total_in2\n",
       "37     0.055840            Total_in_rm_2\n",
       "2      0.046111            DebiSeilabm3c\n",
       "54     0.013199                Total_in7\n",
       "53     0.009709            Total_in_rm_7\n",
       "0      0.007676             Barandegi_in\n",
       "1      0.005950     TotalAbBarfVBaran_in\n",
       "70     0.004952               Total_in30\n",
       "74     0.004834   TotalAbBarfVBaran_in90\n",
       "15     0.004555         VazeHava_in_rm_1\n",
       "16     0.004328             VazeHava_in1\n",
       "168    0.004130                      nao\n",
       "85     0.004085           Total_in_rm_90\n",
       "112    0.004014           VazeHava_in150\n",
       "128    0.003994           VazeHava_in180\n",
       "55     0.003894       Barandegi_in_rm_30\n",
       "154    0.003810  TotalAbBarfVBaran_in365\n",
       "171    0.003686                    soi30\n",
       "165    0.003215          Total_in_rm_365\n",
       "150    0.002764              Total_in270\n",
       "27     0.002547       DebiSeilabm3c_rm_2\n",
       "61     0.002483             daraje_rm_30\n",
       "156    0.002240         DebiSeilabm3c365\n",
       "122    0.002225  TotalAbBarfVBaran_in180\n",
       "28     0.002044           DebiSeilabm3c2\n",
       "56     0.002034           Barandegi_in30\n",
       "62     0.001976                 daraje30\n",
       "8      0.001917            Barandegi_in1"
      ]
     },
     "execution_count": 21,
     "metadata": {},
     "output_type": "execute_result"
    }
   ],
   "source": [
    "\n",
    "imp = pd.DataFrame({'Importance':model.feature_importances_,'Feature':x.columns})\n",
    "fe=imp.sort_values(by='Importance',ascending=False).head(30)\n",
    "fe.head(30)"
   ]
  },
  {
   "cell_type": "code",
   "execution_count": 22,
   "id": "c5900bf3",
   "metadata": {
    "execution": {
     "iopub.execute_input": "2024-09-28T08:31:27.542957Z",
     "iopub.status.busy": "2024-09-28T08:31:27.542526Z",
     "iopub.status.idle": "2024-09-28T08:31:54.351548Z",
     "shell.execute_reply": "2024-09-28T08:31:54.350310Z"
    },
    "papermill": {
     "duration": 26.829555,
     "end_time": "2024-09-28T08:31:54.354092",
     "exception": false,
     "start_time": "2024-09-28T08:31:27.524537",
     "status": "completed"
    },
    "tags": []
   },
   "outputs": [
    {
     "name": "stdout",
     "output_type": "stream",
     "text": [
      "rmsetrain: 0.17224666817377388 rmsetest 0.2948126644609862\n",
      "r2train: 0.9788501085680675 r2test: 0.9231969612405946\n"
     ]
    }
   ],
   "source": [
    "tscv = TimeSeriesSplit(n_splits = 10)\n",
    "test_rmse = []\n",
    "train_rmse= []\n",
    "test_r2 = []\n",
    "train_r2=[]\n",
    "i=0\n",
    "for train_index, test_index in tscv.split(x):\n",
    "    i+=1\n",
    "    X_train, X_test = x.iloc[train_index], x.iloc[test_index]\n",
    "    Y_train, Y_test = y.iloc[train_index], y.iloc[test_index]\n",
    "    if i>=6:\n",
    "        lgb = lightgbm.LGBMRegressor( n_estimators=410, num_leaves=31, learning_rate=0.01, colsample_bytree=0.85,verbose=0)\n",
    "\n",
    "        lgb.fit(X_train, Y_train)\n",
    "\n",
    "        test_predict = lgb.predict(X_test, num_iteration=lgb.best_iteration_)\n",
    "        train_predict = lgb.predict(X_train, num_iteration=lgb.best_iteration_)\n",
    "\n",
    "        test_rmse.append ( np.sqrt(mean_squared_error(Y_test, test_predict)))\n",
    "        train_rmse.append ( np.sqrt(mean_squared_error(Y_train, train_predict)))\n",
    "\n",
    "        test_r2 .append ( r2_score(Y_test, test_predict))\n",
    "        train_r2 .append ( r2_score(Y_train, train_predict))\n",
    "\n",
    "print(\"rmsetrain:\",np.mean(train_rmse),\"rmsetest\",np.mean(test_rmse))\n",
    "print (\"r2train:\",np.mean(train_r2),'r2test:',np.mean(test_r2) )\n"
   ]
  },
  {
   "cell_type": "code",
   "execution_count": 23,
   "id": "24f7448f",
   "metadata": {
    "execution": {
     "iopub.execute_input": "2024-09-28T08:31:54.388769Z",
     "iopub.status.busy": "2024-09-28T08:31:54.387987Z",
     "iopub.status.idle": "2024-09-28T08:31:54.398888Z",
     "shell.execute_reply": "2024-09-28T08:31:54.397713Z"
    },
    "papermill": {
     "duration": 0.030956,
     "end_time": "2024-09-28T08:31:54.401486",
     "exception": false,
     "start_time": "2024-09-28T08:31:54.370530",
     "status": "completed"
    },
    "tags": []
   },
   "outputs": [
    {
     "data": {
      "text/plain": [
       "(2899, 196)"
      ]
     },
     "execution_count": 23,
     "metadata": {},
     "output_type": "execute_result"
    }
   ],
   "source": [
    "\n",
    "final.dropna(inplace=True, axis=0)\n",
    "final.shape"
   ]
  },
  {
   "cell_type": "code",
   "execution_count": 24,
   "id": "763b6461",
   "metadata": {
    "execution": {
     "iopub.execute_input": "2024-09-28T08:31:54.436254Z",
     "iopub.status.busy": "2024-09-28T08:31:54.435832Z",
     "iopub.status.idle": "2024-09-28T08:31:54.460102Z",
     "shell.execute_reply": "2024-09-28T08:31:54.458765Z"
    },
    "papermill": {
     "duration": 0.044979,
     "end_time": "2024-09-28T08:31:54.462926",
     "exception": false,
     "start_time": "2024-09-28T08:31:54.417947",
     "status": "completed"
    },
    "tags": []
   },
   "outputs": [],
   "source": [
    "scaler = MinMaxScaler(feature_range=(0, 1))\n",
    "scaled_data = scaler.fit_transform(final)\n",
    "scaled_df = pd.DataFrame(scaled_data, columns=final.columns)"
   ]
  },
  {
   "cell_type": "markdown",
   "id": "c7768d79",
   "metadata": {
    "execution": {
     "iopub.execute_input": "2024-09-28T06:19:38.554696Z",
     "iopub.status.busy": "2024-09-28T06:19:38.554254Z",
     "iopub.status.idle": "2024-09-28T06:19:38.560785Z",
     "shell.execute_reply": "2024-09-28T06:19:38.559198Z",
     "shell.execute_reply.started": "2024-09-28T06:19:38.554630Z"
    },
    "papermill": {
     "duration": 0.016488,
     "end_time": "2024-09-28T08:31:54.495855",
     "exception": false,
     "start_time": "2024-09-28T08:31:54.479367",
     "status": "completed"
    },
    "tags": []
   },
   "source": [
    "final.reset_index(inplace=True ,drop=True)"
   ]
  },
  {
   "cell_type": "code",
   "execution_count": 25,
   "id": "0c6d0e32",
   "metadata": {
    "execution": {
     "iopub.execute_input": "2024-09-28T08:31:54.530773Z",
     "iopub.status.busy": "2024-09-28T08:31:54.530071Z",
     "iopub.status.idle": "2024-09-28T08:31:54.537349Z",
     "shell.execute_reply": "2024-09-28T08:31:54.536204Z"
    },
    "papermill": {
     "duration": 0.0273,
     "end_time": "2024-09-28T08:31:54.539750",
     "exception": false,
     "start_time": "2024-09-28T08:31:54.512450",
     "status": "completed"
    },
    "tags": []
   },
   "outputs": [],
   "source": [
    "\n",
    "y=scaled_df[target]\n",
    "\n",
    "x = scaled_df. drop(columns =[ target ],axis=1)#,'index'"
   ]
  },
  {
   "cell_type": "code",
   "execution_count": 26,
   "id": "d416f1b2",
   "metadata": {
    "execution": {
     "iopub.execute_input": "2024-09-28T08:31:54.574632Z",
     "iopub.status.busy": "2024-09-28T08:31:54.573888Z",
     "iopub.status.idle": "2024-09-28T08:31:54.581022Z",
     "shell.execute_reply": "2024-09-28T08:31:54.579677Z"
    },
    "papermill": {
     "duration": 0.027294,
     "end_time": "2024-09-28T08:31:54.583422",
     "exception": false,
     "start_time": "2024-09-28T08:31:54.556128",
     "status": "completed"
    },
    "tags": []
   },
   "outputs": [
    {
     "data": {
      "text/plain": [
       "(2899, 195)"
      ]
     },
     "execution_count": 26,
     "metadata": {},
     "output_type": "execute_result"
    }
   ],
   "source": [
    "x.shape"
   ]
  },
  {
   "cell_type": "code",
   "execution_count": 27,
   "id": "4f460332",
   "metadata": {
    "execution": {
     "iopub.execute_input": "2024-09-28T08:31:54.618764Z",
     "iopub.status.busy": "2024-09-28T08:31:54.618036Z",
     "iopub.status.idle": "2024-09-28T08:31:54.625627Z",
     "shell.execute_reply": "2024-09-28T08:31:54.624232Z"
    },
    "papermill": {
     "duration": 0.028163,
     "end_time": "2024-09-28T08:31:54.628169",
     "exception": false,
     "start_time": "2024-09-28T08:31:54.600006",
     "status": "completed"
    },
    "tags": []
   },
   "outputs": [
    {
     "data": {
      "text/plain": [
       "(2899,)"
      ]
     },
     "execution_count": 27,
     "metadata": {},
     "output_type": "execute_result"
    }
   ],
   "source": [
    "y.shape"
   ]
  },
  {
   "cell_type": "code",
   "execution_count": 28,
   "id": "61a9f5c1",
   "metadata": {
    "execution": {
     "iopub.execute_input": "2024-09-28T08:31:54.664982Z",
     "iopub.status.busy": "2024-09-28T08:31:54.664509Z",
     "iopub.status.idle": "2024-09-28T08:32:08.191438Z",
     "shell.execute_reply": "2024-09-28T08:32:08.185863Z"
    },
    "papermill": {
     "duration": 13.550706,
     "end_time": "2024-09-28T08:32:08.196310",
     "exception": false,
     "start_time": "2024-09-28T08:31:54.645604",
     "status": "completed"
    },
    "tags": []
   },
   "outputs": [
    {
     "name": "stdout",
     "output_type": "stream",
     "text": [
      "rmsetrain: 0.017181979314169905 rmsetest 0.030668508503131194\n",
      "r2train: 0.9610109374575474 r2test: 0.8574679691782059\n"
     ]
    }
   ],
   "source": [
    "tscv = TimeSeriesSplit(n_splits = 10)\n",
    "test_rmse = []\n",
    "train_rmse= []\n",
    "test_r2 = []\n",
    "train_r2=[]\n",
    "i=0\n",
    "for train_index, test_index in tscv.split(x):\n",
    "    i+=1\n",
    "    X_train, X_test = x.iloc[train_index], x.iloc[test_index]\n",
    "    Y_train, Y_test = y.iloc[train_index], y.iloc[test_index]\n",
    "    if i>=6:\n",
    "        \n",
    "        mlp = MLPRegressor(hidden_layer_sizes=(83,15), activation='relu', solver='adam', max_iter=300,learning_rate='constant', early_stopping=True,alpha=  0.01)\n",
    "\n",
    "        mlp.fit(X_train, Y_train)\n",
    "\n",
    "        test_predict = mlp.predict(X_test)\n",
    "        train_predict = mlp.predict(X_train)\n",
    "        \n",
    "        test_rmse.append ( np.sqrt(mean_squared_error(Y_test, test_predict)))\n",
    "        train_rmse.append ( np.sqrt(mean_squared_error(Y_train, train_predict)))\n",
    "        \n",
    "        test_r2 .append ( r2_score(Y_test, test_predict))\n",
    "        train_r2 .append ( r2_score(Y_train, train_predict))\n",
    "        \n",
    "print(\"rmsetrain:\",np.mean(train_rmse),\"rmsetest\",np.mean(test_rmse))\n",
    "print (\"r2train:\",np.mean(train_r2),'r2test:',np.mean(test_r2) )\n",
    "\n",
    "\n",
    "## ی سوال: اینجا که ما شافل نداریم. درسته که توی ارزیابی مقادیر تغییر می کنه؟؟ در صورتی که شرایط کاملا یکسان و بدون تغییر هست.؟؟؟"
   ]
  },
  {
   "cell_type": "code",
   "execution_count": null,
   "id": "f88cf40f",
   "metadata": {
    "papermill": {
     "duration": 0.039713,
     "end_time": "2024-09-28T08:32:08.273074",
     "exception": false,
     "start_time": "2024-09-28T08:32:08.233361",
     "status": "completed"
    },
    "tags": []
   },
   "outputs": [],
   "source": []
  },
  {
   "cell_type": "code",
   "execution_count": null,
   "id": "2581ce86",
   "metadata": {
    "papermill": {
     "duration": 0.01707,
     "end_time": "2024-09-28T08:32:08.321965",
     "exception": false,
     "start_time": "2024-09-28T08:32:08.304895",
     "status": "completed"
    },
    "tags": []
   },
   "outputs": [],
   "source": []
  }
 ],
 "metadata": {
  "colab": {
   "provenance": []
  },
  "kaggle": {
   "accelerator": "none",
   "dataSources": [
    {
     "datasetId": 5574334,
     "sourceId": 9280309,
     "sourceType": "datasetVersion"
    },
    {
     "datasetId": 5617071,
     "sourceId": 9280362,
     "sourceType": "datasetVersion"
    },
    {
     "datasetId": 5617705,
     "sourceId": 9281201,
     "sourceType": "datasetVersion"
    },
    {
     "datasetId": 5617719,
     "sourceId": 9281226,
     "sourceType": "datasetVersion"
    },
    {
     "datasetId": 5619370,
     "sourceId": 9283477,
     "sourceType": "datasetVersion"
    },
    {
     "datasetId": 5619380,
     "sourceId": 9283489,
     "sourceType": "datasetVersion"
    },
    {
     "datasetId": 5742088,
     "sourceId": 9447624,
     "sourceType": "datasetVersion"
    },
    {
     "datasetId": 5742253,
     "sourceId": 9447847,
     "sourceType": "datasetVersion"
    }
   ],
   "dockerImageVersionId": 30746,
   "isGpuEnabled": false,
   "isInternetEnabled": true,
   "language": "python",
   "sourceType": "notebook"
  },
  "kernelspec": {
   "display_name": "Python 3",
   "language": "python",
   "name": "python3"
  },
  "language_info": {
   "codemirror_mode": {
    "name": "ipython",
    "version": 3
   },
   "file_extension": ".py",
   "mimetype": "text/x-python",
   "name": "python",
   "nbconvert_exporter": "python",
   "pygments_lexer": "ipython3",
   "version": "3.10.13"
  },
  "papermill": {
   "default_parameters": {},
   "duration": 143.555484,
   "end_time": "2024-09-28T08:32:11.077717",
   "environment_variables": {},
   "exception": null,
   "input_path": "__notebook__.ipynb",
   "output_path": "__notebook__.ipynb",
   "parameters": {},
   "start_time": "2024-09-28T08:29:47.522233",
   "version": "2.5.0"
  }
 },
 "nbformat": 4,
 "nbformat_minor": 5
}
