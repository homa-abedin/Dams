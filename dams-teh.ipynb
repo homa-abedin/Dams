{
 "cells": [
  {
   "cell_type": "code",
   "execution_count": 1,
   "id": "0777ab91",
   "metadata": {
    "execution": {
     "iopub.execute_input": "2024-09-09T07:18:28.829717Z",
     "iopub.status.busy": "2024-09-09T07:18:28.829323Z",
     "iopub.status.idle": "2024-09-09T07:18:46.730552Z",
     "shell.execute_reply": "2024-09-09T07:18:46.729389Z"
    },
    "id": "aiiMxW4BG-DP",
    "papermill": {
     "duration": 17.911567,
     "end_time": "2024-09-09T07:18:46.733547",
     "exception": false,
     "start_time": "2024-09-09T07:18:28.821980",
     "status": "completed"
    },
    "tags": []
   },
   "outputs": [
    {
     "name": "stderr",
     "output_type": "stream",
     "text": [
      "2024-09-09 07:18:33.230570: E external/local_xla/xla/stream_executor/cuda/cuda_dnn.cc:9261] Unable to register cuDNN factory: Attempting to register factory for plugin cuDNN when one has already been registered\n",
      "2024-09-09 07:18:33.230694: E external/local_xla/xla/stream_executor/cuda/cuda_fft.cc:607] Unable to register cuFFT factory: Attempting to register factory for plugin cuFFT when one has already been registered\n",
      "2024-09-09 07:18:33.370507: E external/local_xla/xla/stream_executor/cuda/cuda_blas.cc:1515] Unable to register cuBLAS factory: Attempting to register factory for plugin cuBLAS when one has already been registered\n"
     ]
    }
   ],
   "source": [
    "import numpy as np\n",
    "import pandas as pd\n",
    "import matplotlib.pyplot as plt\n",
    "from sklearn.preprocessing import MinMaxScaler\n",
    "from sklearn.metrics import mean_squared_error, mean_absolute_percentage_error, r2_score\n",
    "from tensorflow.keras.models import Sequential\n",
    "from tensorflow.keras.layers import LSTM, Dense,Dropout\n",
    "import tensorflow as tf\n",
    "import random\n",
    "from sklearn.model_selection import TimeSeriesSplit\n",
    "import statsmodels.api as sm\n",
    "\n",
    "import xgboost as xgb\n",
    "from sklearn.model_selection import train_test_split"
   ]
  },
  {
   "cell_type": "code",
   "execution_count": 2,
   "id": "ecb3273f",
   "metadata": {
    "execution": {
     "iopub.execute_input": "2024-09-09T07:18:46.771959Z",
     "iopub.status.busy": "2024-09-09T07:18:46.770083Z",
     "iopub.status.idle": "2024-09-09T07:18:47.128992Z",
     "shell.execute_reply": "2024-09-09T07:18:47.127727Z"
    },
    "executionInfo": {
     "elapsed": 459,
     "status": "ok",
     "timestamp": 1725614061565,
     "user": {
      "displayName": "Mohsen Yazdinejad",
      "userId": "00188286051626590191"
     },
     "user_tz": -210
    },
    "id": "miFvtwBvG-DR",
    "outputId": "2791eec4-02cc-40e2-979a-6858214ab3a0",
    "papermill": {
     "duration": 0.370851,
     "end_time": "2024-09-09T07:18:47.131709",
     "exception": false,
     "start_time": "2024-09-09T07:18:46.760858",
     "status": "completed"
    },
    "tags": []
   },
   "outputs": [
    {
     "data": {
      "text/html": [
       "<div>\n",
       "<style scoped>\n",
       "    .dataframe tbody tr th:only-of-type {\n",
       "        vertical-align: middle;\n",
       "    }\n",
       "\n",
       "    .dataframe tbody tr th {\n",
       "        vertical-align: top;\n",
       "    }\n",
       "\n",
       "    .dataframe thead th {\n",
       "        text-align: right;\n",
       "    }\n",
       "</style>\n",
       "<table border=\"1\" class=\"dataframe\">\n",
       "  <thead>\n",
       "    <tr style=\"text-align: right;\">\n",
       "      <th></th>\n",
       "      <th>DamId</th>\n",
       "      <th>DateRow</th>\n",
       "      <th>Torbin_out</th>\n",
       "      <th>TakhlieAbgir_out</th>\n",
       "      <th>Sarriz_out</th>\n",
       "      <th>TabKhir_out</th>\n",
       "      <th>Total_out</th>\n",
       "      <th>TotalMasraf_out</th>\n",
       "      <th>TakhlieRosob_out</th>\n",
       "      <th>Cheshme_out</th>\n",
       "      <th>...</th>\n",
       "      <th>NamNesbi6_5</th>\n",
       "      <th>NamNesbi12_5</th>\n",
       "      <th>NamNesbi18_5</th>\n",
       "      <th>TolGeo</th>\n",
       "      <th>ArzGeo</th>\n",
       "      <th>MaxErtefaAzDarya</th>\n",
       "      <th>MinErtefaAzDarya</th>\n",
       "      <th>KafDaryache</th>\n",
       "      <th>GonjayeshKolMakhzan</th>\n",
       "      <th>GonjayeshMofidMakhzan</th>\n",
       "    </tr>\n",
       "  </thead>\n",
       "  <tbody>\n",
       "    <tr>\n",
       "      <th>0</th>\n",
       "      <td>1</td>\n",
       "      <td>1966-05-11</td>\n",
       "      <td>1.63296</td>\n",
       "      <td>0.0</td>\n",
       "      <td>0.0</td>\n",
       "      <td>0.0</td>\n",
       "      <td>1.63296</td>\n",
       "      <td>0.22464</td>\n",
       "      <td>0</td>\n",
       "      <td>0</td>\n",
       "      <td>...</td>\n",
       "      <td>0.0</td>\n",
       "      <td>0.0</td>\n",
       "      <td>0.0</td>\n",
       "      <td>54.25563</td>\n",
       "      <td>35.252621</td>\n",
       "      <td>1765</td>\n",
       "      <td>1600</td>\n",
       "      <td>1595</td>\n",
       "      <td>183</td>\n",
       "      <td>177.3</td>\n",
       "    </tr>\n",
       "    <tr>\n",
       "      <th>1</th>\n",
       "      <td>1</td>\n",
       "      <td>1970-10-08</td>\n",
       "      <td>0.78624</td>\n",
       "      <td>0.0</td>\n",
       "      <td>0.0</td>\n",
       "      <td>0.0</td>\n",
       "      <td>0.78624</td>\n",
       "      <td>0.45792</td>\n",
       "      <td>0</td>\n",
       "      <td>0</td>\n",
       "      <td>...</td>\n",
       "      <td>0.0</td>\n",
       "      <td>0.0</td>\n",
       "      <td>0.0</td>\n",
       "      <td>54.25563</td>\n",
       "      <td>35.252621</td>\n",
       "      <td>1765</td>\n",
       "      <td>1600</td>\n",
       "      <td>1595</td>\n",
       "      <td>183</td>\n",
       "      <td>177.3</td>\n",
       "    </tr>\n",
       "  </tbody>\n",
       "</table>\n",
       "<p>2 rows × 58 columns</p>\n",
       "</div>"
      ],
      "text/plain": [
       "   DamId     DateRow  Torbin_out  TakhlieAbgir_out  Sarriz_out  TabKhir_out  \\\n",
       "0      1  1966-05-11     1.63296               0.0         0.0          0.0   \n",
       "1      1  1970-10-08     0.78624               0.0         0.0          0.0   \n",
       "\n",
       "   Total_out  TotalMasraf_out  TakhlieRosob_out  Cheshme_out  ...  \\\n",
       "0    1.63296          0.22464                 0            0  ...   \n",
       "1    0.78624          0.45792                 0            0  ...   \n",
       "\n",
       "   NamNesbi6_5  NamNesbi12_5  NamNesbi18_5    TolGeo     ArzGeo  \\\n",
       "0          0.0           0.0           0.0  54.25563  35.252621   \n",
       "1          0.0           0.0           0.0  54.25563  35.252621   \n",
       "\n",
       "   MaxErtefaAzDarya  MinErtefaAzDarya  KafDaryache  GonjayeshKolMakhzan  \\\n",
       "0              1765              1600         1595                  183   \n",
       "1              1765              1600         1595                  183   \n",
       "\n",
       "   GonjayeshMofidMakhzan  \n",
       "0                  177.3  \n",
       "1                  177.3  \n",
       "\n",
       "[2 rows x 58 columns]"
      ]
     },
     "execution_count": 2,
     "metadata": {},
     "output_type": "execute_result"
    }
   ],
   "source": [
    "df = pd.read_csv('../input/amirkabirdam/dam12.csv')\n",
    "df.head(2)"
   ]
  },
  {
   "cell_type": "code",
   "execution_count": 3,
   "id": "a0211e87",
   "metadata": {
    "execution": {
     "iopub.execute_input": "2024-09-09T07:18:47.145190Z",
     "iopub.status.busy": "2024-09-09T07:18:47.144792Z",
     "iopub.status.idle": "2024-09-09T07:18:47.166637Z",
     "shell.execute_reply": "2024-09-09T07:18:47.165465Z"
    },
    "papermill": {
     "duration": 0.031747,
     "end_time": "2024-09-09T07:18:47.169314",
     "exception": false,
     "start_time": "2024-09-09T07:18:47.137567",
     "status": "completed"
    },
    "tags": []
   },
   "outputs": [],
   "source": [
    "df['humidity']=df[['NamNesbi6_5', 'NamNesbi12_5','NamNesbi18_5']].mean(axis=1)\n",
    "df['daraje']= df[['MinDarajehararat_in','MaxDarajehararat_in']].mean(axis=1)"
   ]
  },
  {
   "cell_type": "code",
   "execution_count": 4,
   "id": "ab0c036a",
   "metadata": {
    "execution": {
     "iopub.execute_input": "2024-09-09T07:18:47.182743Z",
     "iopub.status.busy": "2024-09-09T07:18:47.182337Z",
     "iopub.status.idle": "2024-09-09T07:18:47.219845Z",
     "shell.execute_reply": "2024-09-09T07:18:47.218597Z"
    },
    "papermill": {
     "duration": 0.04753,
     "end_time": "2024-09-09T07:18:47.222729",
     "exception": false,
     "start_time": "2024-09-09T07:18:47.175199",
     "status": "completed"
    },
    "tags": []
   },
   "outputs": [],
   "source": [
    "df['DateRow'] = pd.to_datetime(df['DateRow'])\n",
    "df = df.sort_values(by= 'DateRow')\n",
    "df['year'] = df['DateRow'].dt.year\n",
    "df['month'] = df['DateRow'].dt.month\n",
    "df['day_of_week'] = df['DateRow'].dt.dayofweek\n",
    "df['day_of_year'] = df['DateRow'].dt.dayofyear"
   ]
  },
  {
   "cell_type": "code",
   "execution_count": 5,
   "id": "0b9e67f3",
   "metadata": {
    "execution": {
     "iopub.execute_input": "2024-09-09T07:18:47.236782Z",
     "iopub.status.busy": "2024-09-09T07:18:47.235804Z",
     "iopub.status.idle": "2024-09-09T07:18:47.250953Z",
     "shell.execute_reply": "2024-09-09T07:18:47.249795Z"
    },
    "papermill": {
     "duration": 0.024984,
     "end_time": "2024-09-09T07:18:47.253608",
     "exception": false,
     "start_time": "2024-09-09T07:18:47.228624",
     "status": "completed"
    },
    "tags": []
   },
   "outputs": [],
   "source": [
    "df['Total_in1']=df['Total_in'].shift(1)\n",
    "df['Total_in7']= df['Total_in'].shift(7)\n",
    "df['Total_in30']= df['Total_in'].shift(30)\n",
    "\n",
    "df['Barandegi_in1']=df['Barandegi_in'].shift(1)\n",
    "df['Barandegi_in7']=df['Barandegi_in'].shift(7)\n",
    "df['Barandegi_in30']=df['Barandegi_in'].shift(30)\n",
    "df['daraje1']=df['daraje'].shift(1)\n",
    "df['daraje7']=df['daraje'].shift(7)\n",
    "df['daraje30']=df['daraje'].shift(30)"
   ]
  },
  {
   "cell_type": "code",
   "execution_count": 6,
   "id": "9a4a7341",
   "metadata": {
    "execution": {
     "iopub.execute_input": "2024-09-09T07:18:47.267073Z",
     "iopub.status.busy": "2024-09-09T07:18:47.266674Z",
     "iopub.status.idle": "2024-09-09T07:18:47.281635Z",
     "shell.execute_reply": "2024-09-09T07:18:47.280585Z"
    },
    "papermill": {
     "duration": 0.024976,
     "end_time": "2024-09-09T07:18:47.284508",
     "exception": false,
     "start_time": "2024-09-09T07:18:47.259532",
     "status": "completed"
    },
    "tags": []
   },
   "outputs": [],
   "source": [
    "df['rolling_mean_7'] = df['Total_in'].shift(1).rolling(window=7).mean()\n",
    "df['rolling_std_7'] = df['Total_in'].shift(1).rolling(window=7).std()\n",
    "df['rolling_mean_30'] = df['Total_in'].shift(7).rolling(window=30).mean()\n",
    "df['rolling_std_30'] = df['Total_in'].shift(7).rolling(window=30).std()"
   ]
  },
  {
   "cell_type": "code",
   "execution_count": 7,
   "id": "5c674d9c",
   "metadata": {
    "execution": {
     "iopub.execute_input": "2024-09-09T07:18:47.298624Z",
     "iopub.status.busy": "2024-09-09T07:18:47.297679Z",
     "iopub.status.idle": "2024-09-09T07:18:47.313355Z",
     "shell.execute_reply": "2024-09-09T07:18:47.312370Z"
    },
    "papermill": {
     "duration": 0.025481,
     "end_time": "2024-09-09T07:18:47.316122",
     "exception": false,
     "start_time": "2024-09-09T07:18:47.290641",
     "status": "completed"
    },
    "tags": []
   },
   "outputs": [],
   "source": [
    "df.dropna(axis=0, inplace=True)"
   ]
  },
  {
   "cell_type": "code",
   "execution_count": 8,
   "id": "7a1f895f",
   "metadata": {
    "execution": {
     "iopub.execute_input": "2024-09-09T07:18:47.330403Z",
     "iopub.status.busy": "2024-09-09T07:18:47.329450Z",
     "iopub.status.idle": "2024-09-09T07:18:47.335541Z",
     "shell.execute_reply": "2024-09-09T07:18:47.334456Z"
    },
    "id": "hcVAWHdkXj-Y",
    "papermill": {
     "duration": 0.015582,
     "end_time": "2024-09-09T07:18:47.337909",
     "exception": false,
     "start_time": "2024-09-09T07:18:47.322327",
     "status": "completed"
    },
    "tags": []
   },
   "outputs": [],
   "source": [
    "target = 'Total_in'\n",
    "features = ['Total_in1','Total_in7','Total_in30','Barandegi_in','Barandegi_in1','Barandegi_in7'\n",
    "            ,'Barandegi_in30','TotalAbBarfVBaran_in','DebiSeilabm3c','daraje','daraje1','daraje7'\n",
    "            ,'daraje30','VazeHava_in','SoratBad_in' ,'humidity'\n",
    "           ,'rolling_mean_7','rolling_std_7','rolling_mean_30','rolling_std_30']"
   ]
  },
  {
   "cell_type": "code",
   "execution_count": 9,
   "id": "8d941724",
   "metadata": {
    "execution": {
     "iopub.execute_input": "2024-09-09T07:18:47.351571Z",
     "iopub.status.busy": "2024-09-09T07:18:47.350768Z",
     "iopub.status.idle": "2024-09-09T07:18:47.365276Z",
     "shell.execute_reply": "2024-09-09T07:18:47.364166Z"
    },
    "id": "vOsz_xHllcBj",
    "papermill": {
     "duration": 0.024424,
     "end_time": "2024-09-09T07:18:47.368105",
     "exception": false,
     "start_time": "2024-09-09T07:18:47.343681",
     "status": "completed"
    },
    "tags": []
   },
   "outputs": [],
   "source": [
    "df = df[df['DateRow']>'2015']\n",
    "df.drop(columns=['DateRow'], inplace=True)\n",
    "\n",
    "y=df[target]\n",
    "\n",
    "x = df[features]"
   ]
  },
  {
   "cell_type": "code",
   "execution_count": 10,
   "id": "7ffc470f",
   "metadata": {
    "execution": {
     "iopub.execute_input": "2024-09-09T07:18:47.381770Z",
     "iopub.status.busy": "2024-09-09T07:18:47.381366Z",
     "iopub.status.idle": "2024-09-09T07:18:47.387404Z",
     "shell.execute_reply": "2024-09-09T07:18:47.386335Z"
    },
    "papermill": {
     "duration": 0.01609,
     "end_time": "2024-09-09T07:18:47.390067",
     "exception": false,
     "start_time": "2024-09-09T07:18:47.373977",
     "status": "completed"
    },
    "tags": []
   },
   "outputs": [
    {
     "name": "stdout",
     "output_type": "stream",
     "text": [
      "x: (2936, 20) y: (2936,)\n"
     ]
    }
   ],
   "source": [
    "print(\"x:\", x.shape ,\"y:\",y.shape)"
   ]
  },
  {
   "cell_type": "code",
   "execution_count": 11,
   "id": "9e1b9f3f",
   "metadata": {
    "execution": {
     "iopub.execute_input": "2024-09-09T07:18:47.403497Z",
     "iopub.status.busy": "2024-09-09T07:18:47.403081Z",
     "iopub.status.idle": "2024-09-09T07:18:53.045290Z",
     "shell.execute_reply": "2024-09-09T07:18:53.044258Z"
    },
    "papermill": {
     "duration": 5.652156,
     "end_time": "2024-09-09T07:18:53.048093",
     "exception": false,
     "start_time": "2024-09-09T07:18:47.395937",
     "status": "completed"
    },
    "tags": []
   },
   "outputs": [
    {
     "name": "stdout",
     "output_type": "stream",
     "text": [
      "rmse: 0.1288166299398511 0.26176945419163133 r2 0.9882825155210994 0.9139268133511635\n"
     ]
    }
   ],
   "source": [
    "tscv = TimeSeriesSplit(n_splits = 10)\n",
    "test_rmse = []\n",
    "train_rmse= []\n",
    "test_r2 = []\n",
    "train_r2=[]\n",
    "i=0\n",
    "for train_index, test_index in tscv.split(x):\n",
    "    i+=1\n",
    "    X_train, X_test = x.iloc[train_index], x.iloc[test_index]\n",
    "    Y_train, Y_test = y.iloc[train_index], y.iloc[test_index]\n",
    "    if i>=3:\n",
    "        model = xgb.XGBRegressor(n_estimators=300, learning_rate=0.01)\n",
    "        model.fit(X_train, Y_train, verbose=False)\n",
    "\n",
    "    # Predictions\n",
    "        test_predict = model.predict(X_test)\n",
    "        train_predict = model.predict(X_train)\n",
    "        \n",
    "        test_rmse.append ( np.sqrt(mean_squared_error(Y_test, test_predict)))\n",
    "        train_rmse.append ( np.sqrt(mean_squared_error(Y_train, train_predict)))\n",
    "        \n",
    "        test_r2 .append ( r2_score(Y_test, test_predict))\n",
    "        train_r2 .append ( r2_score(Y_train, train_predict))\n",
    "        \n",
    "print(\"rmse:\",np.mean(train_rmse),np.mean(test_rmse) , \"r2\",np.mean(train_r2),np.mean(test_r2) )"
   ]
  },
  {
   "cell_type": "code",
   "execution_count": null,
   "id": "99bc9f46",
   "metadata": {
    "papermill": {
     "duration": 0.00593,
     "end_time": "2024-09-09T07:18:53.060744",
     "exception": false,
     "start_time": "2024-09-09T07:18:53.054814",
     "status": "completed"
    },
    "tags": []
   },
   "outputs": [],
   "source": []
  }
 ],
 "metadata": {
  "colab": {
   "provenance": []
  },
  "kaggle": {
   "accelerator": "none",
   "dataSources": [
    {
     "datasetId": 5574334,
     "sourceId": 9280309,
     "sourceType": "datasetVersion"
    },
    {
     "datasetId": 5617071,
     "sourceId": 9280362,
     "sourceType": "datasetVersion"
    },
    {
     "datasetId": 5617705,
     "sourceId": 9281201,
     "sourceType": "datasetVersion"
    },
    {
     "datasetId": 5617719,
     "sourceId": 9281226,
     "sourceType": "datasetVersion"
    },
    {
     "datasetId": 5619370,
     "sourceId": 9283477,
     "sourceType": "datasetVersion"
    },
    {
     "datasetId": 5619380,
     "sourceId": 9283489,
     "sourceType": "datasetVersion"
    }
   ],
   "dockerImageVersionId": 30746,
   "isGpuEnabled": false,
   "isInternetEnabled": true,
   "language": "python",
   "sourceType": "notebook"
  },
  "kernelspec": {
   "display_name": "Python 3",
   "language": "python",
   "name": "python3"
  },
  "language_info": {
   "codemirror_mode": {
    "name": "ipython",
    "version": 3
   },
   "file_extension": ".py",
   "mimetype": "text/x-python",
   "name": "python",
   "nbconvert_exporter": "python",
   "pygments_lexer": "ipython3",
   "version": "3.10.13"
  },
  "papermill": {
   "default_parameters": {},
   "duration": 29.403532,
   "end_time": "2024-09-09T07:18:54.692855",
   "environment_variables": {},
   "exception": null,
   "input_path": "__notebook__.ipynb",
   "output_path": "__notebook__.ipynb",
   "parameters": {},
   "start_time": "2024-09-09T07:18:25.289323",
   "version": "2.5.0"
  }
 },
 "nbformat": 4,
 "nbformat_minor": 5
}
