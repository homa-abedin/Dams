{
 "cells": [
  {
   "cell_type": "code",
   "execution_count": 1,
   "id": "b1910544",
   "metadata": {
    "execution": {
     "iopub.execute_input": "2024-09-10T11:48:31.347108Z",
     "iopub.status.busy": "2024-09-10T11:48:31.345805Z",
     "iopub.status.idle": "2024-09-10T11:48:52.243261Z",
     "shell.execute_reply": "2024-09-10T11:48:52.242148Z"
    },
    "id": "aiiMxW4BG-DP",
    "papermill": {
     "duration": 20.90834,
     "end_time": "2024-09-10T11:48:52.246354",
     "exception": false,
     "start_time": "2024-09-10T11:48:31.338014",
     "status": "completed"
    },
    "tags": []
   },
   "outputs": [
    {
     "name": "stderr",
     "output_type": "stream",
     "text": [
      "2024-09-10 11:48:36.646613: E external/local_xla/xla/stream_executor/cuda/cuda_dnn.cc:9261] Unable to register cuDNN factory: Attempting to register factory for plugin cuDNN when one has already been registered\n",
      "2024-09-10 11:48:36.646802: E external/local_xla/xla/stream_executor/cuda/cuda_fft.cc:607] Unable to register cuFFT factory: Attempting to register factory for plugin cuFFT when one has already been registered\n",
      "2024-09-10 11:48:36.835045: E external/local_xla/xla/stream_executor/cuda/cuda_blas.cc:1515] Unable to register cuBLAS factory: Attempting to register factory for plugin cuBLAS when one has already been registered\n"
     ]
    }
   ],
   "source": [
    "import numpy as np\n",
    "import pandas as pd\n",
    "import matplotlib.pyplot as plt\n",
    "from sklearn.preprocessing import MinMaxScaler\n",
    "from sklearn.metrics import mean_squared_error, mean_absolute_percentage_error, r2_score\n",
    "from tensorflow.keras.models import Sequential\n",
    "from tensorflow.keras.layers import LSTM, Dense,Dropout\n",
    "import tensorflow as tf\n",
    "import random\n",
    "from sklearn.model_selection import TimeSeriesSplit\n",
    "import statsmodels.api as sm\n",
    "\n",
    "import xgboost as xgb\n",
    "from sklearn.model_selection import train_test_split\n",
    "import matplotlib.pyplot as plt\n",
    "import seaborn as sns\n",
    "from sklearn.model_selection import GridSearchCV\n",
    "from sklearn.metrics import r2_score\n",
    "\n",
    "\n"
   ]
  },
  {
   "cell_type": "code",
   "execution_count": 2,
   "id": "edcdb6ae",
   "metadata": {
    "execution": {
     "iopub.execute_input": "2024-09-10T11:48:52.260669Z",
     "iopub.status.busy": "2024-09-10T11:48:52.259924Z",
     "iopub.status.idle": "2024-09-10T11:48:52.666419Z",
     "shell.execute_reply": "2024-09-10T11:48:52.665354Z"
    },
    "executionInfo": {
     "elapsed": 459,
     "status": "ok",
     "timestamp": 1725614061565,
     "user": {
      "displayName": "Mohsen Yazdinejad",
      "userId": "00188286051626590191"
     },
     "user_tz": -210
    },
    "id": "miFvtwBvG-DR",
    "outputId": "2791eec4-02cc-40e2-979a-6858214ab3a0",
    "papermill": {
     "duration": 0.416602,
     "end_time": "2024-09-10T11:48:52.669052",
     "exception": false,
     "start_time": "2024-09-10T11:48:52.252450",
     "status": "completed"
    },
    "tags": []
   },
   "outputs": [
    {
     "data": {
      "text/html": [
       "<div>\n",
       "<style scoped>\n",
       "    .dataframe tbody tr th:only-of-type {\n",
       "        vertical-align: middle;\n",
       "    }\n",
       "\n",
       "    .dataframe tbody tr th {\n",
       "        vertical-align: top;\n",
       "    }\n",
       "\n",
       "    .dataframe thead th {\n",
       "        text-align: right;\n",
       "    }\n",
       "</style>\n",
       "<table border=\"1\" class=\"dataframe\">\n",
       "  <thead>\n",
       "    <tr style=\"text-align: right;\">\n",
       "      <th></th>\n",
       "      <th>DamId</th>\n",
       "      <th>DateRow</th>\n",
       "      <th>Torbin_out</th>\n",
       "      <th>TakhlieAbgir_out</th>\n",
       "      <th>Sarriz_out</th>\n",
       "      <th>TabKhir_out</th>\n",
       "      <th>Total_out</th>\n",
       "      <th>TotalMasraf_out</th>\n",
       "      <th>TakhlieRosob_out</th>\n",
       "      <th>Cheshme_out</th>\n",
       "      <th>...</th>\n",
       "      <th>NamNesbi6_5</th>\n",
       "      <th>NamNesbi12_5</th>\n",
       "      <th>NamNesbi18_5</th>\n",
       "      <th>TolGeo</th>\n",
       "      <th>ArzGeo</th>\n",
       "      <th>MaxErtefaAzDarya</th>\n",
       "      <th>MinErtefaAzDarya</th>\n",
       "      <th>KafDaryache</th>\n",
       "      <th>GonjayeshKolMakhzan</th>\n",
       "      <th>GonjayeshMofidMakhzan</th>\n",
       "    </tr>\n",
       "  </thead>\n",
       "  <tbody>\n",
       "    <tr>\n",
       "      <th>0</th>\n",
       "      <td>1</td>\n",
       "      <td>1966-05-11</td>\n",
       "      <td>1.63296</td>\n",
       "      <td>0.0</td>\n",
       "      <td>0.0</td>\n",
       "      <td>0.0</td>\n",
       "      <td>1.63296</td>\n",
       "      <td>0.22464</td>\n",
       "      <td>0</td>\n",
       "      <td>0</td>\n",
       "      <td>...</td>\n",
       "      <td>0.0</td>\n",
       "      <td>0.0</td>\n",
       "      <td>0.0</td>\n",
       "      <td>54.25563</td>\n",
       "      <td>35.252621</td>\n",
       "      <td>1765</td>\n",
       "      <td>1600</td>\n",
       "      <td>1595</td>\n",
       "      <td>183</td>\n",
       "      <td>177.3</td>\n",
       "    </tr>\n",
       "    <tr>\n",
       "      <th>1</th>\n",
       "      <td>1</td>\n",
       "      <td>1970-10-08</td>\n",
       "      <td>0.78624</td>\n",
       "      <td>0.0</td>\n",
       "      <td>0.0</td>\n",
       "      <td>0.0</td>\n",
       "      <td>0.78624</td>\n",
       "      <td>0.45792</td>\n",
       "      <td>0</td>\n",
       "      <td>0</td>\n",
       "      <td>...</td>\n",
       "      <td>0.0</td>\n",
       "      <td>0.0</td>\n",
       "      <td>0.0</td>\n",
       "      <td>54.25563</td>\n",
       "      <td>35.252621</td>\n",
       "      <td>1765</td>\n",
       "      <td>1600</td>\n",
       "      <td>1595</td>\n",
       "      <td>183</td>\n",
       "      <td>177.3</td>\n",
       "    </tr>\n",
       "  </tbody>\n",
       "</table>\n",
       "<p>2 rows × 58 columns</p>\n",
       "</div>"
      ],
      "text/plain": [
       "   DamId     DateRow  Torbin_out  TakhlieAbgir_out  Sarriz_out  TabKhir_out  \\\n",
       "0      1  1966-05-11     1.63296               0.0         0.0          0.0   \n",
       "1      1  1970-10-08     0.78624               0.0         0.0          0.0   \n",
       "\n",
       "   Total_out  TotalMasraf_out  TakhlieRosob_out  Cheshme_out  ...  \\\n",
       "0    1.63296          0.22464                 0            0  ...   \n",
       "1    0.78624          0.45792                 0            0  ...   \n",
       "\n",
       "   NamNesbi6_5  NamNesbi12_5  NamNesbi18_5    TolGeo     ArzGeo  \\\n",
       "0          0.0           0.0           0.0  54.25563  35.252621   \n",
       "1          0.0           0.0           0.0  54.25563  35.252621   \n",
       "\n",
       "   MaxErtefaAzDarya  MinErtefaAzDarya  KafDaryache  GonjayeshKolMakhzan  \\\n",
       "0              1765              1600         1595                  183   \n",
       "1              1765              1600         1595                  183   \n",
       "\n",
       "   GonjayeshMofidMakhzan  \n",
       "0                  177.3  \n",
       "1                  177.3  \n",
       "\n",
       "[2 rows x 58 columns]"
      ]
     },
     "execution_count": 2,
     "metadata": {},
     "output_type": "execute_result"
    }
   ],
   "source": [
    "df = pd.read_csv('../input/amirkabirdam/dam12.csv')\n",
    "df.head(2)"
   ]
  },
  {
   "cell_type": "code",
   "execution_count": 3,
   "id": "22e9e685",
   "metadata": {
    "execution": {
     "iopub.execute_input": "2024-09-10T11:48:52.683195Z",
     "iopub.status.busy": "2024-09-10T11:48:52.682783Z",
     "iopub.status.idle": "2024-09-10T11:48:52.705080Z",
     "shell.execute_reply": "2024-09-10T11:48:52.703762Z"
    },
    "papermill": {
     "duration": 0.032929,
     "end_time": "2024-09-10T11:48:52.708134",
     "exception": false,
     "start_time": "2024-09-10T11:48:52.675205",
     "status": "completed"
    },
    "tags": []
   },
   "outputs": [],
   "source": [
    "df['humidity']=df[['NamNesbi6_5', 'NamNesbi12_5','NamNesbi18_5']].mean(axis=1)\n",
    "df['daraje']= df[['MinDarajehararat_in','MaxDarajehararat_in']].mean(axis=1)"
   ]
  },
  {
   "cell_type": "code",
   "execution_count": 4,
   "id": "3464ca19",
   "metadata": {
    "execution": {
     "iopub.execute_input": "2024-09-10T11:48:52.722620Z",
     "iopub.status.busy": "2024-09-10T11:48:52.722249Z",
     "iopub.status.idle": "2024-09-10T11:48:52.763274Z",
     "shell.execute_reply": "2024-09-10T11:48:52.762199Z"
    },
    "papermill": {
     "duration": 0.051696,
     "end_time": "2024-09-10T11:48:52.766434",
     "exception": false,
     "start_time": "2024-09-10T11:48:52.714738",
     "status": "completed"
    },
    "tags": []
   },
   "outputs": [],
   "source": [
    "df['DateRow'] = pd.to_datetime(df['DateRow'])\n",
    "df = df.sort_values(by= 'DateRow')\n",
    "df['year'] = df['DateRow'].dt.year\n",
    "df['month'] = df['DateRow'].dt.month\n",
    "df['day_of_week'] = df['DateRow'].dt.dayofweek\n",
    "df['day_of_year'] = df['DateRow'].dt.dayofyear"
   ]
  },
  {
   "cell_type": "code",
   "execution_count": 5,
   "id": "eebc31af",
   "metadata": {
    "execution": {
     "iopub.execute_input": "2024-09-10T11:48:52.780167Z",
     "iopub.status.busy": "2024-09-10T11:48:52.779782Z",
     "iopub.status.idle": "2024-09-10T11:48:52.799080Z",
     "shell.execute_reply": "2024-09-10T11:48:52.797358Z"
    },
    "papermill": {
     "duration": 0.029554,
     "end_time": "2024-09-10T11:48:52.802008",
     "exception": false,
     "start_time": "2024-09-10T11:48:52.772454",
     "status": "completed"
    },
    "tags": []
   },
   "outputs": [],
   "source": [
    "df['Total_in1']=df['Total_in'].shift(1)\n",
    "df['Total_in2']=df['Total_in'].shift(2)\n",
    "df['t1/t2']= df['Total_in1']/df['Total_in2']\n",
    "df['Total_in-6']= df['Total_in'].shift(-6)\n",
    "df['Total_in7']=df['Total_in'].shift(7)\n",
    "\n",
    "df['Total_in30']= df['Total_in'].shift(30)\n",
    "df['Total_in364']=df['Total_in'].shift(364)\n",
    "\n",
    "#df['Barandegi_in1']=df['Barandegi_in'].shift(1)\n",
    "df['Barandegi_in7']=df['Barandegi_in'].shift(7)\n",
    "df['Barandegi_in30']=df['Barandegi_in'].shift(30)\n",
    "df['Barandegi_in364']=df['Barandegi_in'].shift(364)\n",
    "\n",
    "#df['daraje1']=df['daraje'].shift(1)\n",
    "df['daraje7']=df['daraje'].shift(7)\n",
    "df['daraje30']=df['daraje'].shift(30)\n",
    "df['daraje364']=df['daraje'].shift(364)"
   ]
  },
  {
   "cell_type": "code",
   "execution_count": 6,
   "id": "b9354150",
   "metadata": {
    "execution": {
     "iopub.execute_input": "2024-09-10T11:48:52.816257Z",
     "iopub.status.busy": "2024-09-10T11:48:52.815844Z",
     "iopub.status.idle": "2024-09-10T11:48:52.832090Z",
     "shell.execute_reply": "2024-09-10T11:48:52.830752Z"
    },
    "papermill": {
     "duration": 0.026811,
     "end_time": "2024-09-10T11:48:52.835064",
     "exception": false,
     "start_time": "2024-09-10T11:48:52.808253",
     "status": "completed"
    },
    "tags": []
   },
   "outputs": [],
   "source": [
    "#df['rolling_mean_7'] = df['Total_in'].shift(1).rolling(window=7).mean()\n",
    "#df['rolling_std_7'] = df['Total_in'].shift(1).rolling(window=7).std()\n",
    "df['rolling_mean_30'] = df['Total_in'].shift(7).rolling(window=30).mean()\n",
    "df['rolling_std_30'] = df['Total_in'].shift(7).rolling(window=30).std()\n",
    "df['rolling_mean_364'] = df['Total_in'].shift(364).rolling(window=364).mean()\n",
    "df['rolling_std_364'] = df['Total_in'].shift(364).rolling(window=364).std()"
   ]
  },
  {
   "cell_type": "code",
   "execution_count": 7,
   "id": "f480c2dc",
   "metadata": {
    "execution": {
     "iopub.execute_input": "2024-09-10T11:48:52.848766Z",
     "iopub.status.busy": "2024-09-10T11:48:52.848271Z",
     "iopub.status.idle": "2024-09-10T11:48:52.865325Z",
     "shell.execute_reply": "2024-09-10T11:48:52.864148Z"
    },
    "papermill": {
     "duration": 0.027088,
     "end_time": "2024-09-10T11:48:52.868188",
     "exception": false,
     "start_time": "2024-09-10T11:48:52.841100",
     "status": "completed"
    },
    "tags": []
   },
   "outputs": [],
   "source": [
    "df.dropna(axis=0, inplace=True)"
   ]
  },
  {
   "cell_type": "code",
   "execution_count": 8,
   "id": "2efc91e0",
   "metadata": {
    "execution": {
     "iopub.execute_input": "2024-09-10T11:48:52.882011Z",
     "iopub.status.busy": "2024-09-10T11:48:52.881561Z",
     "iopub.status.idle": "2024-09-10T11:48:52.887856Z",
     "shell.execute_reply": "2024-09-10T11:48:52.886765Z"
    },
    "id": "hcVAWHdkXj-Y",
    "papermill": {
     "duration": 0.015992,
     "end_time": "2024-09-10T11:48:52.890282",
     "exception": false,
     "start_time": "2024-09-10T11:48:52.874290",
     "status": "completed"
    },
    "tags": []
   },
   "outputs": [],
   "source": [
    "target = 'Total_in'\n",
    "features = ['t1/t2','Total_in364','Total_in7','Total_in30','Barandegi_in','Barandegi_in7','Barandegi_in364'\n",
    "            ,'Barandegi_in30','TotalAbBarfVBaran_in','DebiSeilabm3c','daraje','daraje7','daraje30'\n",
    "            ,'daraje364','VazeHava_in','SoratBad_in' ,'humidity'\n",
    "           ,'rolling_mean_30','rolling_std_30','rolling_mean_364','rolling_std_364','Total_in-6']\n",
    "\n",
    "#'Total_in1','rolling_mean_7','rolling_std_7',,'Barandegi_in1','daraje1','Total_in2'"
   ]
  },
  {
   "cell_type": "code",
   "execution_count": 9,
   "id": "9a856817",
   "metadata": {
    "execution": {
     "iopub.execute_input": "2024-09-10T11:48:52.904515Z",
     "iopub.status.busy": "2024-09-10T11:48:52.904092Z",
     "iopub.status.idle": "2024-09-10T11:48:52.918277Z",
     "shell.execute_reply": "2024-09-10T11:48:52.917220Z"
    },
    "id": "vOsz_xHllcBj",
    "papermill": {
     "duration": 0.024775,
     "end_time": "2024-09-10T11:48:52.921172",
     "exception": false,
     "start_time": "2024-09-10T11:48:52.896397",
     "status": "completed"
    },
    "tags": []
   },
   "outputs": [],
   "source": [
    "df = df[df['DateRow']>'2015']\n",
    "df.drop(columns=['DateRow'], inplace=True)\n",
    "\n",
    "y=df[target]\n",
    "\n",
    "x = df[features]"
   ]
  },
  {
   "cell_type": "code",
   "execution_count": 10,
   "id": "46aadc14",
   "metadata": {
    "execution": {
     "iopub.execute_input": "2024-09-10T11:48:52.934768Z",
     "iopub.status.busy": "2024-09-10T11:48:52.934291Z",
     "iopub.status.idle": "2024-09-10T11:48:52.940224Z",
     "shell.execute_reply": "2024-09-10T11:48:52.939070Z"
    },
    "papermill": {
     "duration": 0.01556,
     "end_time": "2024-09-10T11:48:52.942653",
     "exception": false,
     "start_time": "2024-09-10T11:48:52.927093",
     "status": "completed"
    },
    "tags": []
   },
   "outputs": [
    {
     "name": "stdout",
     "output_type": "stream",
     "text": [
      "x: (2926, 22) y: (2926,)\n"
     ]
    }
   ],
   "source": [
    "print(\"x:\", x.shape ,\"y:\",y.shape)"
   ]
  },
  {
   "cell_type": "code",
   "execution_count": 11,
   "id": "3a4aec20",
   "metadata": {
    "execution": {
     "iopub.execute_input": "2024-09-10T11:48:52.956661Z",
     "iopub.status.busy": "2024-09-10T11:48:52.956273Z",
     "iopub.status.idle": "2024-09-10T11:48:56.760250Z",
     "shell.execute_reply": "2024-09-10T11:48:56.759300Z"
    },
    "papermill": {
     "duration": 3.813805,
     "end_time": "2024-09-10T11:48:56.762818",
     "exception": false,
     "start_time": "2024-09-10T11:48:52.949013",
     "status": "completed"
    },
    "tags": []
   },
   "outputs": [
    {
     "name": "stdout",
     "output_type": "stream",
     "text": [
      "rmsetrain: 0.19711840032351322 rmsetest 0.3074345939231876\n",
      "r2train: 0.9735518089411519 r2test: 0.8363759845507012\n"
     ]
    }
   ],
   "source": [
    "tscv = TimeSeriesSplit(n_splits = 10)\n",
    "test_rmse = []\n",
    "train_rmse= []\n",
    "test_r2 = []\n",
    "train_r2=[]\n",
    "i=0\n",
    "for train_index, test_index in tscv.split(x):\n",
    "    i+=1\n",
    "    X_train, X_test = x.iloc[train_index], x.iloc[test_index]\n",
    "    Y_train, Y_test = y.iloc[train_index], y.iloc[test_index]\n",
    "    if i>=6:\n",
    "        \n",
    "        model = xgb.XGBRegressor(n_estimators=250, learning_rate=0.01,  max_depth= 7, colsample_bytree= 0.5)\n",
    "        \n",
    "        model.fit(X_train,Y_train)\n",
    "\n",
    "    # Predictions\n",
    "        test_predict = model.predict(X_test)\n",
    "        train_predict = model.predict(X_train)\n",
    "        \n",
    "        test_rmse.append ( np.sqrt(mean_squared_error(Y_test, test_predict)))\n",
    "        train_rmse.append ( np.sqrt(mean_squared_error(Y_train, train_predict)))\n",
    "        \n",
    "        test_r2 .append ( r2_score(Y_test, test_predict))\n",
    "        train_r2 .append ( r2_score(Y_train, train_predict))\n",
    "        \n",
    "print(\"rmsetrain:\",np.mean(train_rmse),\"rmsetest\",np.mean(test_rmse))\n",
    "print (\"r2train:\",np.mean(train_r2),'r2test:',np.mean(test_r2) )\n",
    "\n",
    "\n",
    "\n"
   ]
  },
  {
   "cell_type": "code",
   "execution_count": 12,
   "id": "f09d6a0b",
   "metadata": {
    "execution": {
     "iopub.execute_input": "2024-09-10T11:48:56.778471Z",
     "iopub.status.busy": "2024-09-10T11:48:56.778032Z",
     "iopub.status.idle": "2024-09-10T11:48:57.429003Z",
     "shell.execute_reply": "2024-09-10T11:48:57.427764Z"
    },
    "papermill": {
     "duration": 0.661806,
     "end_time": "2024-09-10T11:48:57.431775",
     "exception": false,
     "start_time": "2024-09-10T11:48:56.769969",
     "status": "completed"
    },
    "tags": []
   },
   "outputs": [
    {
     "data": {
      "image/png": "[encoded data removed]",
      "text/plain": [
       "<Figure size 800x600 with 1 Axes>"
      ]
     },
     "metadata": {},
     "output_type": "display_data"
    }
   ],
   "source": [
    "\n",
    "imp = pd.DataFrame({'Importance':model.feature_importances_,'Feature':x.columns})\n",
    "plt.figure(figsize=(8, 6))\n",
    "sns.set(font_scale = 1)\n",
    "sns.barplot(x=\"Importance\", y=\"Feature\", data=imp.sort_values(by=\"Importance\", ascending=False))\n",
    "plt.title('LightGBM Features')\n",
    "plt.tight_layout()\n",
    "plt.show()"
   ]
  }
 ],
 "metadata": {
  "colab": {
   "provenance": []
  },
  "kaggle": {
   "accelerator": "none",
   "dataSources": [
    {
     "datasetId": 5574334,
     "sourceId": 9280309,
     "sourceType": "datasetVersion"
    },
    {
     "datasetId": 5617071,
     "sourceId": 9280362,
     "sourceType": "datasetVersion"
    },
    {
     "datasetId": 5617705,
     "sourceId": 9281201,
     "sourceType": "datasetVersion"
    },
    {
     "datasetId": 5617719,
     "sourceId": 9281226,
     "sourceType": "datasetVersion"
    },
    {
     "datasetId": 5619370,
     "sourceId": 9283477,
     "sourceType": "datasetVersion"
    },
    {
     "datasetId": 5619380,
     "sourceId": 9283489,
     "sourceType": "datasetVersion"
    }
   ],
   "dockerImageVersionId": 30746,
   "isGpuEnabled": false,
   "isInternetEnabled": true,
   "language": "python",
   "sourceType": "notebook"
  },
  "kernelspec": {
   "display_name": "Python 3",
   "language": "python",
   "name": "python3"
  },
  "language_info": {
   "codemirror_mode": {
    "name": "ipython",
    "version": 3
   },
   "file_extension": ".py",
   "mimetype": "text/x-python",
   "name": "python",
   "nbconvert_exporter": "python",
   "pygments_lexer": "ipython3",
   "version": "3.10.13"
  },
  "papermill": {
   "default_parameters": {},
   "duration": 31.575374,
   "end_time": "2024-09-10T11:48:59.166745",
   "environment_variables": {},
   "exception": null,
   "input_path": "__notebook__.ipynb",
   "output_path": "__notebook__.ipynb",
   "parameters": {},
   "start_time": "2024-09-10T11:48:27.591371",
   "version": "2.5.0"
  }
 },
 "nbformat": 4,
 "nbformat_minor": 5
}
